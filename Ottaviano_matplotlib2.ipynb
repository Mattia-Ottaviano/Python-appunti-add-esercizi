{
  "nbformat": 4,
  "nbformat_minor": 0,
  "metadata": {
    "colab": {
      "name": "Ottaviano.matplotlib2.ipynb",
      "provenance": [],
      "collapsed_sections": []
    },
    "kernelspec": {
      "name": "python3",
      "display_name": "Python 3"
    },
    "language_info": {
      "name": "python"
    }
  },
  "cells": [
    {
      "cell_type": "code",
      "metadata": {
        "id": "6AFVvtcRqtD7"
      },
      "source": [
        "import pandas as pd\n",
        "import matplotlib.pyplot as plt"
      ],
      "execution_count": null,
      "outputs": []
    },
    {
      "cell_type": "markdown",
      "metadata": {
        "id": "X0leUPq1o7BS"
      },
      "source": [
        "a. creare un dataframe contenente le informazioni riportate qui sotto, relative a quanti prodotti ha\n",
        "venduto (‘quantity’) e quanto ha venduto in termini di $ (‘total_amount’) ogni membro dello staff\n",
        "(colonna “last_name”):"
      ]
    },
    {
      "cell_type": "code",
      "metadata": {
        "id": "sYKDNlSoo4hs",
        "colab": {
          "base_uri": "https://localhost:8080/",
          "height": 235
        },
        "outputId": "038773d1-e724-4978-e183-db3f709c9e27"
      },
      "source": [
        "d = {\n",
        "  'last_name': ['Boyer','Copeland', 'Daniel','Serrano', 'Terrell','Vargas'],\n",
        "  'quantity': [766, 213, 812,269,100,114],\n",
        "  'total_amount': [643049.37, 203549.39, 744259.20,253183.68,93851.95,123156.90]\n",
        "  }\n",
        "\n",
        "df = pd.DataFrame(d)\n",
        "df"
      ],
      "execution_count": null,
      "outputs": [
        {
          "output_type": "execute_result",
          "data": {
            "text/html": [
              "<div>\n",
              "<style scoped>\n",
              "    .dataframe tbody tr th:only-of-type {\n",
              "        vertical-align: middle;\n",
              "    }\n",
              "\n",
              "    .dataframe tbody tr th {\n",
              "        vertical-align: top;\n",
              "    }\n",
              "\n",
              "    .dataframe thead th {\n",
              "        text-align: right;\n",
              "    }\n",
              "</style>\n",
              "<table border=\"1\" class=\"dataframe\">\n",
              "  <thead>\n",
              "    <tr style=\"text-align: right;\">\n",
              "      <th></th>\n",
              "      <th>last_name</th>\n",
              "      <th>quantity</th>\n",
              "      <th>total_amount</th>\n",
              "    </tr>\n",
              "  </thead>\n",
              "  <tbody>\n",
              "    <tr>\n",
              "      <th>0</th>\n",
              "      <td>Boyer</td>\n",
              "      <td>766</td>\n",
              "      <td>643049.37</td>\n",
              "    </tr>\n",
              "    <tr>\n",
              "      <th>1</th>\n",
              "      <td>Copeland</td>\n",
              "      <td>213</td>\n",
              "      <td>203549.39</td>\n",
              "    </tr>\n",
              "    <tr>\n",
              "      <th>2</th>\n",
              "      <td>Daniel</td>\n",
              "      <td>812</td>\n",
              "      <td>744259.20</td>\n",
              "    </tr>\n",
              "    <tr>\n",
              "      <th>3</th>\n",
              "      <td>Serrano</td>\n",
              "      <td>269</td>\n",
              "      <td>253183.68</td>\n",
              "    </tr>\n",
              "    <tr>\n",
              "      <th>4</th>\n",
              "      <td>Terrell</td>\n",
              "      <td>100</td>\n",
              "      <td>93851.95</td>\n",
              "    </tr>\n",
              "    <tr>\n",
              "      <th>5</th>\n",
              "      <td>Vargas</td>\n",
              "      <td>114</td>\n",
              "      <td>123156.90</td>\n",
              "    </tr>\n",
              "  </tbody>\n",
              "</table>\n",
              "</div>"
            ],
            "text/plain": [
              "  last_name  quantity  total_amount\n",
              "0     Boyer       766     643049.37\n",
              "1  Copeland       213     203549.39\n",
              "2    Daniel       812     744259.20\n",
              "3   Serrano       269     253183.68\n",
              "4   Terrell       100      93851.95\n",
              "5    Vargas       114     123156.90"
            ]
          },
          "metadata": {},
          "execution_count": 3
        }
      ]
    },
    {
      "cell_type": "markdown",
      "metadata": {
        "id": "8I1TnYWPrf7D"
      },
      "source": [
        "b. visualizzi due grafici a barre affiancati che indichino quantità vendute e valore venduto per ogni\n",
        "dipendente. Il risultato deve essere questo:"
      ]
    },
    {
      "cell_type": "code",
      "metadata": {
        "colab": {
          "base_uri": "https://localhost:8080/",
          "height": 492
        },
        "id": "BdVRSnC0sGC6",
        "outputId": "5557e66c-0ded-4644-c8e4-2ee3d5df60bc"
      },
      "source": [
        "x1 = list(df['last_name'])\n",
        "y1 = list(df['quantity'])\n",
        "y2 = list(df['total_amount'])\n",
        "\n",
        "fig = plt.figure(figsize=(14,8))\n",
        "ax1 = plt.subplot(1,2,1)\n",
        "ax2 = plt.subplot(1,2,2)\n",
        "\n",
        "plt.rcParams.update({'font.size':9}) #grandezza delle scritte\n",
        "ax1.bar(x1,y1) #ascisse,ordinate\n",
        "ax2.bar(x1,y2) #ascisse,ordinate"
      ],
      "execution_count": null,
      "outputs": [
        {
          "output_type": "execute_result",
          "data": {
            "text/plain": [
              "<BarContainer object of 6 artists>"
            ]
          },
          "metadata": {},
          "execution_count": 15
        },
        {
          "output_type": "display_data",
          "data": {
            "image/png": "[encoded data removed]",
            "text/plain": [
              "<Figure size 1008x576 with 2 Axes>"
            ]
          },
          "metadata": {
            "needs_background": "light"
          }
        }
      ]
    },
    {
      "cell_type": "markdown",
      "metadata": {
        "id": "KUcegS7wxm0d"
      },
      "source": [
        "c. visualizzi i grafici precedenti con un titolo, gli assi e la griglia."
      ]
    },
    {
      "cell_type": "code",
      "metadata": {
        "colab": {
          "base_uri": "https://localhost:8080/",
          "height": 553
        },
        "id": "LiLF-G_0xtVx",
        "outputId": "2fa5a036-99c9-4dd0-9609-d96ac3e86db6"
      },
      "source": [
        "x1 = list(df['last_name'])\n",
        "y1 = list(df['quantity'])\n",
        "y2 = list(df['total_amount'])\n",
        "\n",
        "fig = plt.figure(figsize=(14,8))\n",
        "ax1 = plt.subplot(1,2,1)\n",
        "ax2 = plt.subplot(1,2,2)\n",
        "\n",
        "plt.rcParams.update({'font.size':9}) #grandezza delle scritte\n",
        "ax1.bar(x1,y1) #ascisse,ordinate\n",
        "ax2.bar(x1,y2) #ascisse,ordinate\n",
        "ax2.set_xlabel('Commessi')\n",
        "ax2.set_ylabel('Guadagni')\n",
        "ax1.set_ylabel('Prodotti venduti')\n",
        "ax1.set_xlabel('Commessi')\n",
        "fig.suptitle('Prodotti Venduti dai Membri dello Staf')"
      ],
      "execution_count": null,
      "outputs": [
        {
          "output_type": "execute_result",
          "data": {
            "text/plain": [
              "Text(0.5, 0.98, 'Prodotti Venduti dai Membri dello Staf')"
            ]
          },
          "metadata": {},
          "execution_count": 21
        },
        {
          "output_type": "display_data",
          "data": {
            "image/png": "[encoded data removed]",
            "text/plain": [
              "<Figure size 1008x576 with 2 Axes>"
            ]
          },
          "metadata": {
            "needs_background": "light"
          }
        }
      ]
    },
    {
      "cell_type": "markdown",
      "metadata": {
        "id": "s7IQKgptzOIE"
      },
      "source": [
        "d. visualizzi, senza creare nuovi dataframe, il costo medio dei prodotti venduti da ogni dipendente. Il\n",
        "risultato deve essere questo (prestare attenzione ai valori dell’asse delle ordinate):"
      ]
    },
    {
      "cell_type": "code",
      "metadata": {
        "colab": {
          "base_uri": "https://localhost:8080/",
          "height": 310
        },
        "id": "UUw6eNQkzUZS",
        "outputId": "d664b80e-e5f6-471f-cb86-71dca7cdf3c8"
      },
      "source": [
        "fig = plt.figure()\n",
        "ax = plt.axes()\n",
        "\n",
        "#MEDIA COSTO\n",
        "ax.bar(df['last_name'], df['total_amount'] / df['quantity'], color='r')\n",
        "\n",
        "ax2.set_xlabel('Commessi')\n",
        "ax2.set_ylabel('Costo Medio')\n",
        "fig.suptitle('Costo della merce venduta da ogni commesso')\n"
      ],
      "execution_count": null,
      "outputs": [
        {
          "output_type": "execute_result",
          "data": {
            "text/plain": [
              "Text(0.5, 0.98, 'Costo della merce venduta da ogni commesso')"
            ]
          },
          "metadata": {},
          "execution_count": 22
        },
        {
          "output_type": "display_data",
          "data": {
            "image/png": "[encoded data removed]",
            "text/plain": [
              "<Figure size 432x288 with 1 Axes>"
            ]
          },
          "metadata": {
            "needs_background": "light"
          }
        }
      ]
    }
  ]
}