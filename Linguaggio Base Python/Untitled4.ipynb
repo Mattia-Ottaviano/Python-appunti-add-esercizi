{
  "nbformat": 4,
  "nbformat_minor": 0,
  "metadata": {
    "colab": {
      "name": "Untitled4.ipynb",
      "provenance": []
    },
    "kernelspec": {
      "name": "python3",
      "display_name": "Python 3"
    },
    "language_info": {
      "name": "python"
    }
  },
  "cells": [
    {
      "cell_type": "markdown",
      "metadata": {
        "id": "IgalkHpdytN8"
      },
      "source": [
        "1. scrivere una funzione chiamata media che dati due numeri restituisca la media. Utilizzare poi la funzione in un programma che acquisisca dall'utente due numeri e calcoli la media"
      ]
    },
    {
      "cell_type": "code",
      "metadata": {
        "colab": {
          "base_uri": "https://localhost:8080/"
        },
        "id": "lkfY3R6Eyx6-",
        "outputId": "df08a18c-4315-4890-eacf-63f138d06869"
      },
      "source": [
        "def media(x,y):\n",
        "  z = (x+y)/2\n",
        "  return z\n",
        "a = int(input('Inserisci il numero'))\n",
        "b = int(input('Inserisci il numero'))\n",
        "c = media(a,b)\n",
        "print(c)\n"
      ],
      "execution_count": 1,
      "outputs": [
        {
          "output_type": "stream",
          "name": "stdout",
          "text": [
            "Inserisci il numero4\n",
            "Inserisci il numero7\n",
            "5.5\n"
          ]
        }
      ]
    },
    {
      "cell_type": "markdown",
      "metadata": {
        "id": "LcNtnlxp0tSz"
      },
      "source": [
        "2. scrivere una funzione chiamata piuCorta che date due liste restituisca la lista con meno elementi. Utilizzare poi la funzione in un programma che acquisisca dall'utente due liste e visualizzi gli elementi della lista più corta."
      ]
    },
    {
      "cell_type": "code",
      "metadata": {
        "id": "BZ7oyGYK0u3_",
        "colab": {
          "base_uri": "https://localhost:8080/"
        },
        "outputId": "9f0f8fc5-f114-4ef5-f82f-ca93ab7325b2"
      },
      "source": [
        "def piuCorta(a,b):\n",
        "  if len(a) < len(b):\n",
        "    return a\n",
        "  else:\n",
        "    return b \n",
        "a = str(input(\"Inserire la Lista:  \"))\n",
        "b = str(input(\"Inserire la Lista:  \"))\n",
        "print(\"La lista piu corta è: \" + str(piuCorta(a,b)))\n"
      ],
      "execution_count": 8,
      "outputs": [
        {
          "output_type": "stream",
          "name": "stdout",
          "text": [
            "Inserire la Lista:  1, 3, 4\n",
            "Inserire la Lista:  1, 4, 6, 6, 8\n",
            "La lista piu corta è: 1, 3, 4\n"
          ]
        }
      ]
    },
    {
      "cell_type": "markdown",
      "metadata": {
        "id": "za1zXa5E3Vvd"
      },
      "source": [
        "3. scrivere una funzione chiamata costruisciLista che dati due numeri interi restituisca la lista formata da tutti i numeri interi compresi tra i due numeri dati. Utilizzare poi la funzione in un programma che acquisisca dall'utente due numeri e visualizzi la lista formata da tutti i numeri interi compresi tra i due numeri dati ma a partire dal più grande fino al più piccolo."
      ]
    },
    {
      "cell_type": "code",
      "metadata": {
        "id": "sbYNIKBb3YR8",
        "colab": {
          "base_uri": "https://localhost:8080/"
        },
        "outputId": "ad77d1a9-d765-495f-9b52-38cfb364f5f5"
      },
      "source": [
        "def costruisciLista(x,y):\n",
        "  z = [i for i in range(x+1,y)]\n",
        "  z.reverse()\n",
        "  return z \n",
        "costruisciLista(int(input(\"Inserire il primo numero: \")), int(input(\"Inserire il secondo numero: \")))\n",
        "  "
      ],
      "execution_count": 10,
      "outputs": [
        {
          "name": "stdout",
          "output_type": "stream",
          "text": [
            "Inserire il primo numero: 2\n",
            "Inserire il secondo numero: 6\n"
          ]
        },
        {
          "output_type": "execute_result",
          "data": {
            "text/plain": [
              "[5, 4, 3]"
            ]
          },
          "metadata": {},
          "execution_count": 10
        }
      ]
    },
    {
      "cell_type": "markdown",
      "metadata": {
        "id": "VKwBMsB79qcW"
      },
      "source": [
        "4. scrivere una funzione chiamata valoreAssoluto che dato un numero restituisca il suo valore assoluto. Utilizzare poi questa funzione per determinare il valore assoluto degli elementi di una lista inserita dall'utente."
      ]
    },
    {
      "cell_type": "code",
      "metadata": {
        "id": "kgP3tVvL9rCc",
        "colab": {
          "base_uri": "https://localhost:8080/"
        },
        "outputId": "122a6e52-1763-4e2f-ccca-c76cddf6b4fe"
      },
      "source": [
        "arr = input('inserisci la prima lista:').split(',')\n",
        "\n",
        "def valore_assoluto(n):\n",
        "  return abs(n)\n",
        "\n",
        "print([valore_assoluto(float(i)) for i in arr ])"
      ],
      "execution_count": 12,
      "outputs": [
        {
          "output_type": "stream",
          "name": "stdout",
          "text": [
            "inserisci la prima lista:5\n",
            "[5.0]\n"
          ]
        }
      ]
    },
    {
      "cell_type": "markdown",
      "metadata": {
        "id": "6B2u46nk4o89"
      },
      "source": [
        "5. scrivere una funzione chiamata scambia che data una lista scambi il primo elemento con l'ultimo, il secondo con il penultimo e così via. Utilizzare poi la funzione in un programma che acquisisca dall'utente una lista di 10 elementi e li visualizzi scambiati."
      ]
    },
    {
      "cell_type": "code",
      "metadata": {
        "id": "o5FPjtTF4qih",
        "colab": {
          "base_uri": "https://localhost:8080/"
        },
        "outputId": "b477cfd7-edc2-423f-98ca-856f741f4201"
      },
      "source": [
        "def scambia(lst):\n",
        "  lst.reverse()\n",
        "  return lst\n",
        "\n",
        "scambia([ (input('Scrivi elemento ')) for i in range(0,10)])"
      ],
      "execution_count": 18,
      "outputs": [
        {
          "name": "stdout",
          "output_type": "stream",
          "text": [
            "Scrivi elemento 1\n",
            "Scrivi elemento 2\n",
            "Scrivi elemento 3\n",
            "Scrivi elemento 4\n",
            "Scrivi elemento 5\n",
            "Scrivi elemento 6\n",
            "Scrivi elemento 7\n",
            "Scrivi elemento 8\n",
            "Scrivi elemento 9\n",
            "Scrivi elemento 10\n"
          ]
        },
        {
          "output_type": "execute_result",
          "data": {
            "text/plain": [
              "['10', '9', '8', '7', '6', '5', '4', '3', '2', '1']"
            ]
          },
          "metadata": {},
          "execution_count": 18
        }
      ]
    },
    {
      "cell_type": "markdown",
      "metadata": {
        "id": "UP4-iAWz5l9Q"
      },
      "source": [
        "6. scrivere una funzione lambda che dati due numeri calcoli la loro somma. Utilizzare la funzione in un programma che chieda all'utente due numeri interi e visualizzi la loro somma."
      ]
    },
    {
      "cell_type": "code",
      "metadata": {
        "colab": {
          "base_uri": "https://localhost:8080/"
        },
        "id": "DUxynuAJ5nmC",
        "outputId": "8cafd8ff-6b4e-4127-8784-5625b45ccd75"
      },
      "source": [
        "z = lambda num1,num2: num1 + num2\n",
        "z(int(input('')), int(input('')))\n"
      ],
      "execution_count": null,
      "outputs": [
        {
          "name": "stdout",
          "output_type": "stream",
          "text": [
            "4\n",
            "5\n"
          ]
        },
        {
          "output_type": "execute_result",
          "data": {
            "text/plain": [
              "9"
            ]
          },
          "metadata": {},
          "execution_count": 40
        }
      ]
    },
    {
      "cell_type": "code",
      "metadata": {
        "id": "RtSAioA6y8mJ"
      },
      "source": [
        "def math2(a,b):\n",
        "  return a + b"
      ],
      "execution_count": null,
      "outputs": []
    },
    {
      "cell_type": "markdown",
      "metadata": {
        "id": "-xRKmjKK74Gu"
      },
      "source": [
        "\n",
        "7. scrivere un programma che utilizzi una lambda function per aumentare di 10 unità tutti gli elementi di una lista di interi inserita dall'utente."
      ]
    },
    {
      "cell_type": "code",
      "metadata": {
        "id": "5PPfH3Gg75t2"
      },
      "source": [
        "lst = [ int(input('Scrivi il numero ')) for i in range(0,10)]\n",
        "\n",
        "list(map(lambda x: x + 10, lst))\n",
        "\n"
      ],
      "execution_count": null,
      "outputs": []
    },
    {
      "cell_type": "markdown",
      "metadata": {
        "id": "_PuCqhMa9Rgp"
      },
      "source": [
        "8. scrivere una funzione lambda che sostituisca il valore 0 se il parametro è negativo, il valore del parametro se è positivo. Utilizzare poi la funzione in un programma che chieda all'utente i 10 elementi di una lista e visualizzi la lista con il valore 0 al posto dei numeri negativi."
      ]
    },
    {
      "cell_type": "code",
      "metadata": {
        "id": "ymta4dNJ9sTG"
      },
      "source": [
        "\n",
        "def sost(valore): \n",
        "      if valore < 0:\n",
        "        return 0\n",
        "      else:\n",
        "        return valore \n",
        "lst = [int(input(\"inserisci l'elemento: \")) for i in range (0,4)] \n",
        "lst2 = [sost(elemento) for elemento in lst] \n",
        "\n",
        "sost2 = lambda x: x if x >=0 else 0    # 1 parametro(x), lo restituisce se x >= di 0 altrimenti 0\n",
        "lst3 = [sost2(elemento) for elemento in lst]\n",
        "print(lst)\n",
        "print(lst2)\n",
        "print(lst3)\n",
        "\n"
      ],
      "execution_count": null,
      "outputs": []
    },
    {
      "cell_type": "markdown",
      "metadata": {
        "id": "bUMsdBJd9eDw"
      },
      "source": [
        "9. scrivere un programma che calcoli il fattoriale di un numero utilizzando una lambda function. Provare a realizzare una lambda function ricorsiva (per la ricorsione, google it...)"
      ]
    },
    {
      "cell_type": "code",
      "metadata": {
        "colab": {
          "base_uri": "https://localhost:8080/"
        },
        "id": "ac1pIT0_9stm",
        "outputId": "5fd791f3-0cd8-4aa7-cd90-c22fe99c92a6"
      },
      "source": [
        "fattoriale = lambda n:1 if n == 0 else n * fattoriale(n-1)\n",
        "fattoriale(0)"
      ],
      "execution_count": 27,
      "outputs": [
        {
          "output_type": "execute_result",
          "data": {
            "text/plain": [
              "1"
            ]
          },
          "metadata": {},
          "execution_count": 27
        }
      ]
    }
  ]
}
