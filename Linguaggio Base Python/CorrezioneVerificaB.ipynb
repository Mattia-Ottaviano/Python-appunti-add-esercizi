{
  "nbformat": 4,
  "nbformat_minor": 0,
  "metadata": {
    "colab": {
      "name": "CorrezioneVerificaB.ipynb",
      "provenance": [],
      "collapsed_sections": []
    },
    "kernelspec": {
      "name": "python3",
      "display_name": "Python 3"
    },
    "language_info": {
      "name": "python"
    }
  },
  "cells": [
    {
      "cell_type": "markdown",
      "metadata": {
        "id": "l_ZTYrJqPx4V"
      },
      "source": [
        "Scrivere un programma che permetta di convertire un peso da kg in libbre. L’utente inserisce il peso in kg e il programma calcola il peso corrispondente nell’altra unità di misura.\n"
      ]
    },
    {
      "cell_type": "code",
      "metadata": {
        "colab": {
          "base_uri": "https://localhost:8080/"
        },
        "id": "rixYa08gPwwX",
        "outputId": "8bb7376e-82ff-45d9-81b7-3fef430e779b"
      },
      "source": [
        "kilo_grams = float(input('Enter weight in Kg to Convert into pounds:'))\n",
        "pounds = kilo_grams * 2.2046\n",
        "print(kilo_grams,' Kilograms =', pounds,' Pounds')\n"
      ],
      "execution_count": null,
      "outputs": [
        {
          "output_type": "stream",
          "name": "stdout",
          "text": [
            "Enter weight in Kg to Convert into pounds:60\n",
            "60.0  Kilograms = 132.276  Pounds\n"
          ]
        }
      ]
    },
    {
      "cell_type": "markdown",
      "metadata": {
        "id": "PwiA7g25Rslb"
      },
      "source": [
        "Scrivere un programma che permetta di verificare se un indirizzo mail contiene il carattere @. L’utente inserisce l’indirizzo e il programma restituisce il messaggio “indirizzo corretto” se il carattere è presente” o “indirizzo errato” se il carattere non è presente. Il carattere @ non può essere presente in prima o ultima posizione."
      ]
    },
    {
      "cell_type": "code",
      "metadata": {
        "id": "vvIDvo8bRwsy",
        "colab": {
          "base_uri": "https://localhost:8080/"
        },
        "outputId": "3416f8bb-f9a8-4c47-a6cd-70b872637224"
      },
      "source": [
        "indirizzo = input(\"inserisci indirizzo e-mail: \")\n",
        "carattere = \"@\"\n",
        "\n",
        "if carattere in indirizzo and indirizzo[-1] and indirizzo[0] != carattere:\n",
        "   print(\"Indirizzo Corretto\")\n",
        "else:\n",
        "   print(\"Indirizzo Non Corretto\")\n",
        "\n",
        "\n",
        "\n",
        "\n",
        "\n"
      ],
      "execution_count": null,
      "outputs": [
        {
          "output_type": "stream",
          "name": "stdout",
          "text": [
            "inserisci indirizzo e-mail: ottaviano.mattia@iisgalvanimi.edu.it\n",
            "Indirizzo Corretto\n"
          ]
        }
      ]
    },
    {
      "cell_type": "markdown",
      "metadata": {
        "id": "sYyWPc_yTneC"
      },
      "source": [
        "Scrivere un programma che visualizzi l’inverso dei primi n numeri interi con n inserito dall’utente. Per esempio, se l’utente inserisse il valore 4 il programma dovrebbe visualizzare i valori 1 (1:1), 0,5 (1:2), 0,33333 (1:3) e 0.25 (1:4). Separare i valori visualizzati con una virgola."
      ]
    },
    {
      "cell_type": "code",
      "metadata": {
        "id": "WgNYKZfgTphi",
        "colab": {
          "base_uri": "https://localhost:8080/"
        },
        "outputId": "370efd51-8e4a-470b-952c-cb3529632850"
      },
      "source": [
        "n = int(input('Inserisci Valore: '))\n",
        "lista = [1/i for i in range(1,n+1)]\n",
        "print(lista)\n"
      ],
      "execution_count": null,
      "outputs": [
        {
          "output_type": "stream",
          "name": "stdout",
          "text": [
            "Inserisci Valore: 4\n",
            "[1.0, 0.5, 0.3333333333333333, 0.25]\n"
          ]
        }
      ]
    },
    {
      "cell_type": "markdown",
      "metadata": {
        "id": "YezvfDYJZLnl"
      },
      "source": [
        "scrivere un programma che carichi in una lista i primi 100 numeri interi dispari. Al termine visualizzare gli ultimi 10 numeri della lista."
      ]
    },
    {
      "cell_type": "code",
      "metadata": {
        "id": "2P3N4v7iZMDz",
        "colab": {
          "base_uri": "https://localhost:8080/"
        },
        "outputId": "0ea3c088-265a-4a16-fb9e-3450b8e77aa8"
      },
      "source": [
        "lista1 = []\n",
        "for i in range(0,101):\n",
        "   if i%2 == 1:\n",
        "     lista1.append(i)\n",
        "print(lista1[-10:])\n",
        " "
      ],
      "execution_count": null,
      "outputs": [
        {
          "output_type": "stream",
          "name": "stdout",
          "text": [
            "[81, 83, 85, 87, 89, 91, 93, 95, 97, 99]\n"
          ]
        }
      ]
    },
    {
      "cell_type": "markdown",
      "metadata": {
        "id": "XUdFisreptSk"
      },
      "source": [
        "scrivere un programma che elimini dalla lista precedente gli ultimi 10 elementi. Visualizzare al termine la lista modificata."
      ]
    },
    {
      "cell_type": "code",
      "metadata": {
        "colab": {
          "base_uri": "https://localhost:8080/"
        },
        "id": "37wqOI3-pveU",
        "outputId": "ad6ddee0-6fc3-412f-b7e4-ca14e86a67d3"
      },
      "source": [
        "for i in range(0,9):\n",
        "  lista1.pop( )\n",
        "print(lista1)"
      ],
      "execution_count": null,
      "outputs": [
        {
          "output_type": "stream",
          "name": "stdout",
          "text": [
            "[1, 3, 5, 7, 9, 11, 13, 15, 17, 19, 21, 23, 25, 27, 29, 31, 33, 35, 37, 39, 41, 43, 45, 47, 49, 51, 53, 55, 57, 59, 61, 63, 65, 67, 69, 71, 73, 75, 77, 79, 81]\n"
          ]
        }
      ]
    },
    {
      "cell_type": "markdown",
      "metadata": {
        "id": "oDeVdespp6z0"
      },
      "source": [
        "scrivere una funzione che data una lista formata da un numero pari di elementi restituisca la lista con gli elementi scambiati a due a due. Ad esempio se la lista di partenza fosse [1, 2, 3, 4, 5, 6] la lista da restituire sarebbe [2, 1, 4, 3, 6, 5]"
      ]
    },
    {
      "cell_type": "code",
      "metadata": {
        "id": "iG1Zsf0qp9OM"
      },
      "source": [
        "lista2 = [1,2,3,4,5,6]\n",
        "def scambia(lst):\n",
        "  for i in lst:\n",
        "    a = lst.index(i)\n",
        "    lst.pop(a)\n",
        "    lst.append(i)\n",
        "  print(lst)\n",
        "scambia(lista2)"
      ],
      "execution_count": null,
      "outputs": []
    },
    {
      "cell_type": "markdown",
      "metadata": {
        "id": "5sMCRHu-qSwk"
      },
      "source": [
        "scrivere un programma che permetta di caricare in una struttura dati opportuna i nomi delle regioni italiane, i loro capoluoghi e la popolazione (inserire solo tre regioni). Visualizzare poi i dati di una regione inserita dall’utente"
      ]
    },
    {
      "cell_type": "code",
      "metadata": {
        "colab": {
          "base_uri": "https://localhost:8080/"
        },
        "id": "qKsYvcDrqWTj",
        "outputId": "98342417-f274-414f-c51d-18c8f177b92b"
      },
      "source": [
        "Italia = [{'nome': 'Lombardia', 'capoluogo': 'Milano', 'popolazione':10000000},\n",
        "          {'nome': 'Lazio', 'capoluogo': 'Roma', 'popolazione':5701000},\n",
        "          {'nome': 'Sicilia', 'capoluogo': 'Palermo', 'popolazione':5000000}]\n",
        "\n",
        "Nome = input('Inserisci Regione: ')\n",
        "\n",
        "for regione in Italia:\n",
        "  if regione['nome'] == Nome:\n",
        "    print(regione['capoluogo'], regione['popolazione'])"
      ],
      "execution_count": null,
      "outputs": [
        {
          "output_type": "stream",
          "name": "stdout",
          "text": [
            "Inserisci Regione: Lombardia\n",
            "Milano 10000000\n"
          ]
        }
      ]
    },
    {
      "cell_type": "markdown",
      "metadata": {
        "id": "001jHq9HrQ7u"
      },
      "source": [
        "scrivere un programma che, utilizzando una lambda function e la funzione filter, elimini da una lista inserita dall’utente tutti gli elementi dispari. Al termine, visualizzare la lista modificata"
      ]
    },
    {
      "cell_type": "code",
      "metadata": {
        "colab": {
          "base_uri": "https://localhost:8080/"
        },
        "id": "msZwWaJerSZs",
        "outputId": "911ddff7-56a9-4a6c-d116-776afd7fb732"
      },
      "source": [
        "lista3 = [int(elemento) for elemento in input().split()]\n",
        "l = list(filter(lambda x: x%2==0, lista3))\n",
        "print(l)"
      ],
      "execution_count": null,
      "outputs": [
        {
          "output_type": "stream",
          "name": "stdout",
          "text": [
            "1 2 3 4 5\n",
            "[2, 4]\n"
          ]
        }
      ]
    },
    {
      "cell_type": "markdown",
      "metadata": {
        "id": "orS0jGoSrTyE"
      },
      "source": [
        "scrivere una funzione che, in modo ricorsivo, calcoli la somma dei primi n numeri interi, con n inserito dall’utente. Ad esempio se l’utente inserisse 5 il programma dovrebbe restituire il valore 15 (5+4+3+2+1=15)\n"
      ]
    },
    {
      "cell_type": "code",
      "metadata": {
        "colab": {
          "base_uri": "https://localhost:8080/"
        },
        "id": "ljfnPP-FrUAN",
        "outputId": "d3ab18f7-9083-4561-9f71-caf19cbb3daf"
      },
      "source": [
        "def somma(num):\n",
        "  if num == 0:\n",
        "    return 0\n",
        "  else:\n",
        "    totale = num + somma(num - 1)\n",
        "    return totale\n",
        "somma(int(input('inserisci il valore: ')))"
      ],
      "execution_count": null,
      "outputs": [
        {
          "name": "stdout",
          "output_type": "stream",
          "text": [
            "inserisci il valore: 5\n"
          ]
        },
        {
          "output_type": "execute_result",
          "data": {
            "text/plain": [
              "15"
            ]
          },
          "metadata": {},
          "execution_count": 5
        }
      ]
    }
  ]
}
