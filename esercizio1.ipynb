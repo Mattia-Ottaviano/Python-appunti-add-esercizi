{
  "nbformat": 4,
  "nbformat_minor": 0,
  "metadata": {
    "colab": {
      "name": "esercizio1.ipynb",
      "provenance": []
    },
    "kernelspec": {
      "name": "python3",
      "display_name": "Python 3"
    },
    "language_info": {
      "name": "python"
    }
  },
  "cells": [
    {
      "cell_type": "markdown",
      "metadata": {
        "id": "YW5ilmP-hKmo"
      },
      "source": [
        "a.far inserie all'utente due valori interi"
      ]
    },
    {
      "cell_type": "code",
      "metadata": {
        "colab": {
          "base_uri": "https://localhost:8080/"
        },
        "id": "FN4l_BLUhMbX",
        "outputId": "e89e8332-3665-4509-bdbe-91e888484b9c"
      },
      "source": [
        "num1 =  int(input(\"inserisci il 1 numero:\" ))\n",
        "num2 =  int(input(\"inserisci il 2 numero:\" ))"
      ],
      "execution_count": null,
      "outputs": [
        {
          "name": "stdout",
          "output_type": "stream",
          "text": [
            "inserisci il 1 numero:4\n",
            "inserisci il 2 numero:6\n"
          ]
        }
      ]
    },
    {
      "cell_type": "markdown",
      "metadata": {
        "id": "xzpBojalhSrk"
      },
      "source": [
        "b.effettuare le 4 operazioni aritmetiche tra i due numeri"
      ]
    },
    {
      "cell_type": "code",
      "metadata": {
        "colab": {
          "base_uri": "https://localhost:8080/"
        },
        "id": "KzlbLfBxhUck",
        "outputId": "0c0d73a6-8efa-4786-d129-d7202ce77c32"
      },
      "source": [
        "Addizione = num1  + num2\n",
        "Sottrazione = num1  - num2\n",
        "Moltiplicazione = num1  * num2\n",
        "Divisione = num1  // num2\n",
        "\n",
        "\n",
        "print(Addizione)\n",
        "print(Sottrazione)\n",
        "print(Moltiplicazione) \n",
        "print(Divisione)\n",
        "\n",
        "\n"
      ],
      "execution_count": null,
      "outputs": [
        {
          "output_type": "stream",
          "name": "stdout",
          "text": [
            "10\n",
            "-2\n",
            "24\n",
            "0\n"
          ]
        }
      ]
    },
    {
      "cell_type": "markdown",
      "metadata": {
        "id": "g0bvLKvfkyTm"
      },
      "source": [
        "c.effettuare l'elevamento a potenza del primo numero per il secondo"
      ]
    },
    {
      "cell_type": "code",
      "metadata": {
        "colab": {
          "base_uri": "https://localhost:8080/"
        },
        "id": "J71CxoUWk36s",
        "outputId": "70503da6-39a7-44ca-e0f2-398ad328c95d"
      },
      "source": [
        "risultato = num1**num2\n",
        "print(risultato)"
      ],
      "execution_count": null,
      "outputs": [
        {
          "output_type": "stream",
          "name": "stdout",
          "text": [
            "4096\n"
          ]
        }
      ]
    },
    {
      "cell_type": "markdown",
      "metadata": {
        "id": "N3-rOAphlGek"
      },
      "source": [
        "d.effettuare il calcolo del resto della divisione tra il primo e il secondo numero"
      ]
    },
    {
      "cell_type": "code",
      "metadata": {
        "colab": {
          "base_uri": "https://localhost:8080/"
        },
        "id": "lkYrV-hrlJE0",
        "outputId": "860195f3-113f-46a2-b51e-150e6cd665ed"
      },
      "source": [
        "risultato = num1%num2\n",
        "print(risultato)"
      ],
      "execution_count": null,
      "outputs": [
        {
          "output_type": "stream",
          "name": "stdout",
          "text": [
            "4\n"
          ]
        }
      ]
    },
    {
      "cell_type": "markdown",
      "metadata": {
        "id": "QFPYO9cQ2zjo"
      },
      "source": [
        "f. effettuare la divisione intera tra il primo e il secondo numero\n"
      ]
    },
    {
      "cell_type": "code",
      "metadata": {
        "id": "bvyJ7zsF22i2"
      },
      "source": [
        "risultato = num1//num2\n",
        "print(risultato)"
      ],
      "execution_count": null,
      "outputs": []
    },
    {
      "cell_type": "markdown",
      "metadata": {
        "id": "TIirMIFBpOey"
      },
      "source": [
        "g.incrementare di una unità entrambi i numeri"
      ]
    },
    {
      "cell_type": "code",
      "metadata": {
        "colab": {
          "base_uri": "https://localhost:8080/"
        },
        "id": "39youGGBpVPY",
        "outputId": "92760164-281a-4cbc-e593-d914e0e78174"
      },
      "source": [
        "risultato = num1 + 1\n",
        "print (risultato)\n",
        "risultato2 = num2 + 1\n",
        "print (risultato2)"
      ],
      "execution_count": null,
      "outputs": [
        {
          "output_type": "stream",
          "name": "stdout",
          "text": [
            "5\n",
            "7\n"
          ]
        }
      ]
    },
    {
      "cell_type": "markdown",
      "metadata": {
        "id": "gaYjQtPkpjlQ"
      },
      "source": [
        "h.far inserie all'utente due valori: il primo rappresenta la sua altezza (in metri) e il secondo rappresenta il suo peso (in kg). Visualizzare poi l'IMC (google it...)"
      ]
    },
    {
      "cell_type": "code",
      "metadata": {
        "colab": {
          "base_uri": "https://localhost:8080/"
        },
        "id": "oYxCTg3hpniQ",
        "outputId": "1e16c44f-1723-4d2f-ce3d-4dca3913f5fc"
      },
      "source": [
        "num3 =  float(input(\"inserisci l'altezza:\" ))\n",
        "num4 =  float(input(\"inserisci il peso:\" ))\n",
        "IMC = num4 / (num3 * num3 )\n",
        "print(IMC)"
      ],
      "execution_count": 154,
      "outputs": [
        {
          "output_type": "stream",
          "name": "stdout",
          "text": [
            "inserisci l'altezza:1.78\n",
            "inserisci il peso:57\n",
            "17.99015275849009\n"
          ]
        }
      ]
    },
    {
      "cell_type": "markdown",
      "metadata": {
        "id": "K5lLEtiqvNKq"
      },
      "source": [
        "i.arrotondare l'IMC precedente\n"
      ]
    },
    {
      "cell_type": "code",
      "metadata": {
        "colab": {
          "base_uri": "https://localhost:8080/"
        },
        "id": "np3A6HRPvP3q",
        "outputId": "112a2ef6-b85d-48f1-8ec2-826f783acd06"
      },
      "source": [
        "print( round(IMC))"
      ],
      "execution_count": 155,
      "outputs": [
        {
          "output_type": "stream",
          "name": "stdout",
          "text": [
            "18\n"
          ]
        }
      ]
    },
    {
      "cell_type": "markdown",
      "metadata": {
        "id": "UWbzKKrSwwRV"
      },
      "source": [
        "j. visualizzare il proprio nome, cognome, data di nascita e città di nascita separando le informazioni con un trattino.\n"
      ]
    },
    {
      "cell_type": "code",
      "metadata": {
        "id": "TNeqg1Z1w_h4",
        "colab": {
          "base_uri": "https://localhost:8080/"
        },
        "outputId": "23a871cf-5c10-48b8-d2b2-dfc23e8af87c"
      },
      "source": [
        "print(\"Mattia\",\"Ottaviano\", \"15/09/05\", \"Milano\", sep='-')"
      ],
      "execution_count": null,
      "outputs": [
        {
          "output_type": "stream",
          "name": "stdout",
          "text": [
            "Mattia-Ottaviano-15/09/05-Milano\n"
          ]
        }
      ]
    },
    {
      "cell_type": "markdown",
      "metadata": {
        "id": "Azxe-T09TH3s"
      },
      "source": [
        " k.visualizzare le stesse informazioni per 10 volte di seguito"
      ]
    },
    {
      "cell_type": "code",
      "metadata": {
        "colab": {
          "base_uri": "https://localhost:8080/"
        },
        "id": "han_JWZ2TN7v",
        "outputId": "57c51954-bf96-4241-bf56-4e95325c1f11"
      },
      "source": [
        "print(\"Mattia-Ottaviano-15/09/05-Milano     \" *10)"
      ],
      "execution_count": 158,
      "outputs": [
        {
          "output_type": "stream",
          "name": "stdout",
          "text": [
            "Mattia-Ottaviano-15/09/05-Milano     Mattia-Ottaviano-15/09/05-Milano     Mattia-Ottaviano-15/09/05-Milano     Mattia-Ottaviano-15/09/05-Milano     Mattia-Ottaviano-15/09/05-Milano     Mattia-Ottaviano-15/09/05-Milano     Mattia-Ottaviano-15/09/05-Milano     Mattia-Ottaviano-15/09/05-Milano     Mattia-Ottaviano-15/09/05-Milano     Mattia-Ottaviano-15/09/05-Milano     \n"
          ]
        }
      ]
    },
    {
      "cell_type": "markdown",
      "metadata": {
        "id": "h8dA6DAWZZp9"
      },
      "source": [
        "l. assegnare il proprio nome e cognome ad una stringa e visualizzarla con tutte le lettere maiuscole"
      ]
    },
    {
      "cell_type": "code",
      "metadata": {
        "colab": {
          "base_uri": "https://localhost:8080/"
        },
        "id": "gkE6MbJrZgAc",
        "outputId": "2845e1d8-6af0-45bf-eb88-d8e2d20d2bf9"
      },
      "source": [
        "s = \"mattia ottaviano\"\n",
        "print(s.upper())"
      ],
      "execution_count": null,
      "outputs": [
        {
          "output_type": "stream",
          "name": "stdout",
          "text": [
            "MATTIA OTTAVIANO\n"
          ]
        }
      ]
    },
    {
      "cell_type": "markdown",
      "metadata": {
        "id": "MtOj3-PpgFFV"
      },
      "source": [
        "m.assegnare il proprio nome e cognome ad una stringa e visualizzarla con le prime lettere maiuscole"
      ]
    },
    {
      "cell_type": "code",
      "metadata": {
        "colab": {
          "base_uri": "https://localhost:8080/"
        },
        "id": "JV71TjkegKJS",
        "outputId": "98850750-94bd-4920-ccf8-d78716effab2"
      },
      "source": [
        "s = \"mattia ottaviano\"\n",
        "print(s.title())"
      ],
      "execution_count": null,
      "outputs": [
        {
          "output_type": "stream",
          "name": "stdout",
          "text": [
            "Mattia Ottaviano\n"
          ]
        }
      ]
    },
    {
      "cell_type": "markdown",
      "metadata": {
        "id": "Uzu3cY9fkeI3"
      },
      "source": [
        " n.assegnare il proprio nome e cognome ad una stringa e visualizzarne la lunghezza"
      ]
    },
    {
      "cell_type": "code",
      "metadata": {
        "colab": {
          "base_uri": "https://localhost:8080/"
        },
        "id": "KEtTWUNrkg3o",
        "outputId": "24ac54cc-e56b-4fdf-9f70-957a6058507f"
      },
      "source": [
        "s = \"mattia ottaviano\"\n",
        "print(s,len(s))"
      ],
      "execution_count": null,
      "outputs": [
        {
          "output_type": "stream",
          "name": "stdout",
          "text": [
            "mattia ottaviano 16\n"
          ]
        }
      ]
    },
    {
      "cell_type": "markdown",
      "metadata": {
        "id": "lqdtIE8YleVR"
      },
      "source": [
        "o.assegnare il proprio nome e cognome ad una stringa e contate quante vocali contiene"
      ]
    },
    {
      "cell_type": "code",
      "metadata": {
        "colab": {
          "base_uri": "https://localhost:8080/"
        },
        "id": "dmSEhve-lj3_",
        "outputId": "9d5b56a1-6ca1-4668-ed3f-7aaaedce79da"
      },
      "source": [
        "s = \"mattia ottaviano\"\n",
        "print(s.count(\"a\") + s.count(\"e\") + s.count(\"i\") + s.count(\"o\") + s.count(\"u\"))"
      ],
      "execution_count": null,
      "outputs": [
        {
          "output_type": "stream",
          "name": "stdout",
          "text": [
            "8\n"
          ]
        }
      ]
    },
    {
      "cell_type": "markdown",
      "metadata": {
        "id": "fznVglqVpUDY"
      },
      "source": [
        "p.assegnare il proprio nome e cognome ad una stringa e visualizzare i primi 5 caratteri"
      ]
    },
    {
      "cell_type": "code",
      "metadata": {
        "colab": {
          "base_uri": "https://localhost:8080/"
        },
        "id": "1Ewp9FaXpXX5",
        "outputId": "8e28e527-c92d-4adf-8d16-4f2dbc0f516f"
      },
      "source": [
        "s = \"mattia ottaviano\"\n",
        "print(s[0:5])"
      ],
      "execution_count": null,
      "outputs": [
        {
          "output_type": "stream",
          "name": "stdout",
          "text": [
            "matti\n"
          ]
        }
      ]
    },
    {
      "cell_type": "markdown",
      "metadata": {
        "id": "o6hDawvXqXLQ"
      },
      "source": [
        "q. assegnare il proprio nome e cognome ad una stringa e visualizzare gli ultimi 5 caratteri"
      ]
    },
    {
      "cell_type": "code",
      "metadata": {
        "colab": {
          "base_uri": "https://localhost:8080/"
        },
        "id": "EoepaJ6iqaLR",
        "outputId": "0530bb18-a6ff-4bb1-a519-98721490e34c"
      },
      "source": [
        "s = \"mattia ottaviano\"\n",
        "print(s[11:16])"
      ],
      "execution_count": null,
      "outputs": [
        {
          "output_type": "stream",
          "name": "stdout",
          "text": [
            "viano\n"
          ]
        }
      ]
    },
    {
      "cell_type": "markdown",
      "metadata": {
        "id": "6EPH1zJRs-SA"
      },
      "source": [
        "r.assegnare il proprio nome e cognome ad una stringa e visualizzare i 5 caratteri centrali"
      ]
    },
    {
      "cell_type": "code",
      "metadata": {
        "colab": {
          "base_uri": "https://localhost:8080/"
        },
        "id": "zZNpb0IMtBgy",
        "outputId": "1ee224c1-56fe-4834-a7a5-1e306748e3bb"
      },
      "source": [
        "s = \"mattia ottaviano\"\n",
        "print(s[5:10])"
      ],
      "execution_count": null,
      "outputs": [
        {
          "output_type": "stream",
          "name": "stdout",
          "text": [
            "a ott\n"
          ]
        }
      ]
    },
    {
      "cell_type": "markdown",
      "metadata": {
        "id": "xvmYYPCrt71S"
      },
      "source": [
        "assegnare il proprio nome e cognome ad una stringa e sostituire le vocali con una X"
      ]
    },
    {
      "cell_type": "code",
      "metadata": {
        "colab": {
          "base_uri": "https://localhost:8080/"
        },
        "id": "Ae3Wkqxnt9pt",
        "outputId": "89e7dd0e-ad8f-4215-803a-a29e3770e0d4"
      },
      "source": [
        "s = \"mattia ottaviano\"\n",
        "print(s.replace(\"a\", \"X\").replace(\"e\", \"X\").replace(\"i\", \"X\").replace(\"o\", \"X\").replace(\"u\", \"X\"))   \n"
      ],
      "execution_count": null,
      "outputs": [
        {
          "output_type": "stream",
          "name": "stdout",
          "text": [
            "mXttXX XttXvXXnX\n"
          ]
        }
      ]
    }
  ]
}