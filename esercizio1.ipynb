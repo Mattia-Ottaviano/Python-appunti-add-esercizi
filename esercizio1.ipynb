{
  "nbformat": 4,
  "nbformat_minor": 0,
  "metadata": {
    "colab": {
      "name": "esercizio1.ipynb",
      "provenance": []
    },
    "kernelspec": {
      "name": "python3",
      "display_name": "Python 3"
    },
    "language_info": {
      "name": "python"
    }
  },
  "cells": [
    {
      "cell_type": "code",
      "metadata": {
        "id": "L-VYCJS8g3si"
      },
      "source": [
        ""
      ],
      "execution_count": null,
      "outputs": []
    },
    {
      "cell_type": "markdown",
      "metadata": {
        "id": "YW5ilmP-hKmo"
      },
      "source": [
        "far inserie all'utente due valori interi"
      ]
    },
    {
      "cell_type": "code",
      "metadata": {
        "colab": {
          "base_uri": "https://localhost:8080/",
          "height": 0
        },
        "id": "FN4l_BLUhMbX",
        "outputId": "c4ef5484-bf50-4243-ce28-857256adb64d"
      },
      "source": [
        "num1 =  int(input(\"inserisci il 1 numero:\" ))\n",
        "num2 =  int(input(\"inserisci il 2 numero:\" ))"
      ],
      "execution_count": 22,
      "outputs": [
        {
          "name": "stdout",
          "output_type": "stream",
          "text": [
            "inserisci il 1 numero;:6\n",
            "inserisci il 2 numero:4\n"
          ]
        }
      ]
    },
    {
      "cell_type": "markdown",
      "metadata": {
        "id": "xzpBojalhSrk"
      },
      "source": [
        " effettuare le 4 operazioni aritmetiche tra i due numeri"
      ]
    },
    {
      "cell_type": "code",
      "metadata": {
        "colab": {
          "base_uri": "https://localhost:8080/",
          "height": 0
        },
        "id": "KzlbLfBxhUck",
        "outputId": "c508f94b-4f68-4f2e-96f4-4584085a80f9"
      },
      "source": [
        "Addizione = num1  + num2\n",
        "Sottrazione = num1  - num2\n",
        "Moltiplicazione = num1  * num2\n",
        "Divisione = num1  // num2\n",
        "\n",
        "\n",
        "print(Addizione)\n",
        "print(Sottrazione)\n",
        "print(Moltiplicazione) \n",
        "print(Divisione)\n",
        "\n",
        "\n"
      ],
      "execution_count": 34,
      "outputs": [
        {
          "output_type": "stream",
          "name": "stdout",
          "text": [
            "10\n",
            "2\n",
            "24\n",
            "1\n"
          ]
        }
      ]
    },
    {
      "cell_type": "markdown",
      "metadata": {
        "id": "g0bvLKvfkyTm"
      },
      "source": [
        "effettuare l'elevamento a potenza del primo numero per il secondo"
      ]
    },
    {
      "cell_type": "code",
      "metadata": {
        "colab": {
          "base_uri": "https://localhost:8080/",
          "height": 0
        },
        "id": "J71CxoUWk36s",
        "outputId": "252b1daa-4850-4c9a-9c79-89e9423f0f5d"
      },
      "source": [
        "risultato = num1**num2\n",
        "print(risultato)"
      ],
      "execution_count": 17,
      "outputs": [
        {
          "output_type": "stream",
          "name": "stdout",
          "text": [
            "4096\n"
          ]
        }
      ]
    },
    {
      "cell_type": "markdown",
      "metadata": {
        "id": "N3-rOAphlGek"
      },
      "source": [
        "effettuare il calcolo del resto della divisione tra il primo e il secondo numero"
      ]
    },
    {
      "cell_type": "code",
      "metadata": {
        "colab": {
          "base_uri": "https://localhost:8080/",
          "height": 0
        },
        "id": "lkYrV-hrlJE0",
        "outputId": "bc12bab8-9d88-4500-c572-0dc353e17e6a"
      },
      "source": [
        "risultato = num1//num2\n",
        "print(risultato)"
      ],
      "execution_count": 19,
      "outputs": [
        {
          "output_type": "stream",
          "name": "stdout",
          "text": [
            "0.6666666666666666\n"
          ]
        }
      ]
    },
    {
      "cell_type": "markdown",
      "metadata": {
        "id": "TIirMIFBpOey"
      },
      "source": [
        " incrementare di una unità entrambi i numeri"
      ]
    },
    {
      "cell_type": "code",
      "metadata": {
        "colab": {
          "base_uri": "https://localhost:8080/",
          "height": 0
        },
        "id": "39youGGBpVPY",
        "outputId": "92760164-281a-4cbc-e593-d914e0e78174"
      },
      "source": [
        "risultato = num1 + 1\n",
        "print (risultato)\n",
        "risultato2 = num2 + 1\n",
        "print (risultato2)"
      ],
      "execution_count": 20,
      "outputs": [
        {
          "output_type": "stream",
          "name": "stdout",
          "text": [
            "5\n",
            "7\n"
          ]
        }
      ]
    },
    {
      "cell_type": "markdown",
      "metadata": {
        "id": "gaYjQtPkpjlQ"
      },
      "source": [
        "far inserie all'utente due valori: il primo rappresenta la sua altezza (in metri) e il secondo rappresenta il suo peso (in kg). Visualizzare poi l'IMC (google it...)"
      ]
    },
    {
      "cell_type": "code",
      "metadata": {
        "colab": {
          "base_uri": "https://localhost:8080/",
          "height": 0
        },
        "id": "oYxCTg3hpniQ",
        "outputId": "d649b385-353f-437c-9705-840c5f9c5498"
      },
      "source": [
        "num3 =  float(input(\"inserisci l'altezza:\" ))\n",
        "num4 =  float(input(\"inserisci il peso:\" ))\n",
        "IMC = num4 / (num3 * num3 )\n",
        "print(IMC)"
      ],
      "execution_count": 39,
      "outputs": [
        {
          "output_type": "stream",
          "name": "stdout",
          "text": [
            "inserisci l'altezza:1.78\n",
            "inserisci il peso:57\n",
            "17.99015275849009\n"
          ]
        }
      ]
    },
    {
      "cell_type": "markdown",
      "metadata": {
        "id": "K5lLEtiqvNKq"
      },
      "source": [
        "arrotondare l'IMC precedente\n"
      ]
    },
    {
      "cell_type": "code",
      "metadata": {
        "colab": {
          "base_uri": "https://localhost:8080/",
          "height": 0
        },
        "id": "np3A6HRPvP3q",
        "outputId": "de1aebd2-a0cc-4216-c583-5e057db41175"
      },
      "source": [
        "print( round(17.990))"
      ],
      "execution_count": 40,
      "outputs": [
        {
          "output_type": "stream",
          "name": "stdout",
          "text": [
            "18\n"
          ]
        }
      ]
    },
    {
      "cell_type": "markdown",
      "metadata": {
        "id": "UWbzKKrSwwRV"
      },
      "source": [
        "visualizzare il proprio nome, cognome, data di nascita e città di nascita separando le informazioni con un trattino.\n"
      ]
    },
    {
      "cell_type": "code",
      "metadata": {
        "id": "TNeqg1Z1w_h4"
      },
      "source": [
        "print(\"Mattia\",\"Ottaviano\",sep='...',end='!!',flush=True)"
      ],
      "execution_count": null,
      "outputs": []
    }
  ]
}