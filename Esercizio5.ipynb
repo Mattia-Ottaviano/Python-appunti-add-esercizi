{
  "nbformat": 4,
  "nbformat_minor": 0,
  "metadata": {
    "colab": {
      "name": "Esercizio5.ipynb",
      "provenance": [],
      "collapsed_sections": []
    },
    "kernelspec": {
      "name": "python3",
      "display_name": "Python 3"
    },
    "language_info": {
      "name": "python"
    }
  },
  "cells": [
    {
      "cell_type": "markdown",
      "metadata": {
        "id": "xRcikUOdesrv"
      },
      "source": [
        "1. scrivere una funzione chiamata max che dati due numeri restituisca il più grande. Scrivere poi un programma che, utilizzando la funzione creata, trovi il massimo tra tre numeri inseriti dall'utente. "
      ]
    },
    {
      "cell_type": "code",
      "metadata": {
        "id": "sqxEwzexnk4l",
        "colab": {
          "base_uri": "https://localhost:8080/"
        },
        "outputId": "f285be31-8aac-45b7-8ca0-44a76ccb75d3"
      },
      "source": [
        "def max(a, b):\n",
        "\n",
        " return a if a > b else b\n",
        "  \n",
        "num1 = int(input(\"INSERISCI 1 VALORE:  \"))\n",
        "num2 = int(input(\"INSERISCI 2 VALORE:  \"))\n",
        "num3 = int(input(\"INSERISCI 3 VALORE:  \"))\n",
        "\n",
        "max(max(num1, num2), num3)\n",
        "  \n"
      ],
      "execution_count": 1,
      "outputs": [
        {
          "name": "stdout",
          "output_type": "stream",
          "text": [
            "INSERISCI 1 VALORE:  2\n",
            "INSERISCI 2 VALORE:  6\n",
            "INSERISCI 3 VALORE:  8\n"
          ]
        },
        {
          "output_type": "execute_result",
          "data": {
            "text/plain": [
              "8"
            ]
          },
          "metadata": {},
          "execution_count": 1
        }
      ]
    },
    {
      "cell_type": "markdown",
      "metadata": {
        "id": "_2XkOG9zn6iS"
      },
      "source": [
        "2. scrivere una funzione chiamata sommaLista che data una lista di interi restituisca la somma di tutti gli elementi della lista. Scrivere poi un programma che, utilizzando la funzione create, trovi la somma degli elementi di una lista inserita dall'utente. "
      ]
    },
    {
      "cell_type": "code",
      "metadata": {
        "id": "QwgJIVETn8t-",
        "colab": {
          "base_uri": "https://localhost:8080/"
        },
        "outputId": "f24950da-2ac0-4d3a-b070-ae68347a130b"
      },
      "source": [
        "def sommaLista(lista):\n",
        "  return sum(lista)\n",
        "\n",
        "lst = [int(n) for n in input('Inserisci una lista').split(' ')]\n",
        "print(sommaLista(lst))"
      ],
      "execution_count": 2,
      "outputs": [
        {
          "output_type": "stream",
          "name": "stdout",
          "text": [
            "Inserisci una lista1 2 3 4\n",
            "10\n"
          ]
        }
      ]
    },
    {
      "cell_type": "markdown",
      "metadata": {
        "id": "lzaFYOcez0Km"
      },
      "source": [
        "\n",
        "\n",
        "3. utilizzando le funzioni create precedentemente, scrivere un programma che permetta all'utente di inserire tre liste e di avere il valore massimo della somma degli elementi delle tre liste."
      ]
    },
    {
      "cell_type": "code",
      "metadata": {
        "id": "1N2snlzGz5oT",
        "colab": {
          "base_uri": "https://localhost:8080/"
        },
        "outputId": "485921ff-8808-4364-c3c2-70de1fa9ba4b"
      },
      "source": [
        "lst1 = [int(s)for s in input('Inserisci i valori: ').split()]\n",
        "lst2 = [int(s)for s in input('Inserisci i valori: ').split()]\n",
        "lst3 = [int(s)for s in input('Inserisci i valori: ').split()]\n",
        "\n",
        "max(max(sommaLista(lst1),sommaLista(lst2)),sommaLista(lst3))"
      ],
      "execution_count": 20,
      "outputs": [
        {
          "name": "stdout",
          "output_type": "stream",
          "text": [
            "Inserisci i valori: 1 2 3 4 5\n",
            "Inserisci i valori: 1 4 64 32\n",
            "Inserisci i valori: 4 68 214\n"
          ]
        },
        {
          "output_type": "execute_result",
          "data": {
            "text/plain": [
              "286"
            ]
          },
          "metadata": {},
          "execution_count": 20
        }
      ]
    },
    {
      "cell_type": "markdown",
      "metadata": {
        "id": "R1aJttP96ahC"
      },
      "source": [
        "4. scrivere una funzione chiamata controlla che dato un numero e due estremi restituisca True se il numero è compreso tra i due estremi, false altrimenti. Utilizzare poi la funzione per trovare il numero di elementi di una lista di numeri interi (inserita dall'utente) compresi tra due estremi (inseriti anch'essi dall'utente)"
      ]
    },
    {
      "cell_type": "code",
      "metadata": {
        "id": "CgoAUE_C6cPO"
      },
      "source": [
        "def controlla(n_max,n,n_min):\n",
        "  c = True\n",
        "  e = False\n",
        "  if n in range(n_min, n_max):\n",
        "    return c\n",
        "  else:\n",
        "    return e\n",
        "\n",
        "  \n",
        "\n",
        "  "
      ],
      "execution_count": 5,
      "outputs": []
    },
    {
      "cell_type": "markdown",
      "metadata": {
        "id": "o2Gz3OCy6cmZ"
      },
      "source": [
        "\n",
        "5. utilizzare la funzione controlla creata precedentemente per scrivere un programma che, data una lista di numeri interi inserita  dall'utente, carichi in un'altra lista i numeri compresi tra due estremi inseriti anch'essi dall'utente."
      ]
    },
    {
      "cell_type": "code",
      "metadata": {
        "id": "JDZF2IAW6eBI"
      },
      "source": [
        ""
      ],
      "execution_count": null,
      "outputs": []
    },
    {
      "cell_type": "markdown",
      "metadata": {
        "id": "ugzqm1D96fIH"
      },
      "source": [
        "\n",
        "6. scrivere una funzione chiamata confrontaListe che date due liste restituisca True se le due liste sono uguali, False altrimenti. Utilizzare poi la funzione in un programma che dica se una lista di interi è palindroma, cioè se può essere letta indifferentemente da sinistra a destra e da destra a sinistra. Ad esempio la lista [1, 2, 3, 4, 3, 2, 1] è palindroma, la lista [1, 2, 3, 4, 3,1, 2] non lo è."
      ]
    },
    {
      "cell_type": "code",
      "metadata": {
        "id": "ZVz07JvF6fgy",
        "colab": {
          "base_uri": "https://localhost:8080/"
        },
        "outputId": "f5b40881-32b2-4e2c-b2db-a999458967af"
      },
      "source": [
        "def confrontaListe(lst1,lst2):\n",
        "    return lst1 == lst2\n",
        "\n",
        "lst1 =  [int(n)for n in input('Inserisci i valori: ').split()]\n",
        "confrontaListe(lst1, lst1[::-1])"
      ],
      "execution_count": 9,
      "outputs": [
        {
          "name": "stdout",
          "output_type": "stream",
          "text": [
            "Inserisci i valori: 1 2 3 6 7 8 \n"
          ]
        },
        {
          "output_type": "execute_result",
          "data": {
            "text/plain": [
              "False"
            ]
          },
          "metadata": {},
          "execution_count": 9
        }
      ]
    },
    {
      "cell_type": "markdown",
      "metadata": {
        "id": "aL3tN7nK6hFw"
      },
      "source": [
        "\n",
        "\n",
        "7. scrivere una funzione chiamata celsiusToFahrenheit che data una temperatura in gradi Celsius restituisca il valore convertito in gradi Fahrenheit (per ulteriori info, google it). Scrivere poi un programma che data una lista di temperature in gradi Celsius,inserita dall'utente, converta tutte le temperature in gradi Fahrenheit."
      ]
    },
    {
      "cell_type": "code",
      "metadata": {
        "colab": {
          "base_uri": "https://localhost:8080/"
        },
        "id": "AD-k0xcN6hcK",
        "outputId": "492e5351-f679-457d-ce9c-66000c2dbad2"
      },
      "source": [
        "def celsiusToFahrenheit(x):\n",
        " \n",
        "  return round(x * (1.8) + 32)\n",
        "\n",
        "lista  = input(\"Insert a Value Celsius: \").split(',')\n",
        "\n",
        "print([celsiusToFahrenheit(int(x)) for x in lista])"
      ],
      "execution_count": 12,
      "outputs": [
        {
          "output_type": "stream",
          "name": "stdout",
          "text": [
            "Insert a Value Celsius: 35,56,76\n",
            "[95, 133, 169]\n"
          ]
        }
      ]
    },
    {
      "cell_type": "markdown",
      "metadata": {
        "id": "1LudYsYJ6hiG"
      },
      "source": [
        ""
      ]
    },
    {
      "cell_type": "markdown",
      "metadata": {
        "id": "13AY9jsS6jRf"
      },
      "source": [
        "8. scrivere una funzione chiamata IMC che calcoli l'Indice di Massa Corporea a partire dal peso (in kg) e dall'altezza (in m). Utilizzare poi la funzione per scrivere un programma che date tre liste, contenente la prima una serie di nomi, la seconda una serie di pesi e la terza una serie di altezze, produca una quarta lista contenente i valori di IMC corrispondenti. Visualizzare poi i risultati nel seguente modo: \"<nome> pesa <peso kg, misura <altezza> m ed ha un IMC di <IMC>\" ( i valori nelle parentesi angolari vanno presi ovviamente dalle liste)\n"
      ]
    },
    {
      "cell_type": "code",
      "metadata": {
        "id": "opJt9Y9D6jnh"
      },
      "source": [
        "def IMC(Kg, h):\n",
        "  return round(Kg / h**2, 2)\n",
        "\n",
        "lstN = ['Mario','Mattia','Leonardo']\n",
        "lstkg = [65,73,75]\n",
        "lstH = [1.65,1.70,1.73]\n",
        "\n",
        "lst4 = []"
      ],
      "execution_count": 15,
      "outputs": []
    },
    {
      "cell_type": "markdown",
      "metadata": {
        "id": "swep8Ryq6js7"
      },
      "source": [
        "9: scrivere una lambda function per estrarre da una lista di numeri interi tutti i valori pari."
      ]
    },
    {
      "cell_type": "code",
      "metadata": {
        "id": "x_k6X04P6kvA",
        "colab": {
          "base_uri": "https://localhost:8080/"
        },
        "outputId": "b76ce69f-6500-49ae-b121-872f998aa9a6"
      },
      "source": [
        "list = [0,1,2,3,4,5,6,7,8,9,10]\n",
        "num = lambda l: [n for n in l if n%2 == 0]\n",
        "print(num(list))"
      ],
      "execution_count": 17,
      "outputs": [
        {
          "output_type": "stream",
          "name": "stdout",
          "text": [
            "[0, 2, 4, 6, 8, 10]\n"
          ]
        }
      ]
    }
  ]
}