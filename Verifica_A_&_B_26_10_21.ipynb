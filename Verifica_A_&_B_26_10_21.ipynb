{
  "nbformat": 4,
  "nbformat_minor": 0,
  "metadata": {
    "colab": {
      "name": "Verifica A & B 26.10.21.ipynb",
      "provenance": [],
      "collapsed_sections": []
    },
    "kernelspec": {
      "name": "python3",
      "display_name": "Python 3"
    },
    "language_info": {
      "name": "python"
    }
  },
  "cells": [
    {
      "cell_type": "markdown",
      "metadata": {
        "id": "ObYr4AJ5chVl"
      },
      "source": [
        "scrivere un programma che calcoli il volume di un parallelepipedo data la base, l’altezza e la profondità. I valori inseriti possono essere decimali e il risultato deve essere fornito con due cifre decimali. I valori della base, dell’altezza e della profondità devono essere inseriti dall’utente"
      ]
    },
    {
      "cell_type": "code",
      "metadata": {
        "colab": {
          "base_uri": "https://localhost:8080/"
        },
        "id": "pJP-w5r82t6E",
        "outputId": "7d1acc4a-9332-43f7-817f-edd9909e1e9d"
      },
      "source": [
        "base = float(input('inserisci base'))\n",
        "altezza = float(input('inserisci altezza'))\n",
        "profondità = float(input('inserisci profondità'))\n",
        "Volume = base*altezza*profondità\n",
        "print(round(Volume, 2))"
      ],
      "execution_count": null,
      "outputs": [
        {
          "output_type": "stream",
          "name": "stdout",
          "text": [
            "inserisci base2.123\n",
            "inserisci altezza6.456\n",
            "inserisci profondità4.263\n",
            "58.43\n"
          ]
        }
      ]
    },
    {
      "cell_type": "markdown",
      "metadata": {
        "id": "IzURkhXUduvF"
      },
      "source": [
        "modificare il programma precedente in modo che prima di effettuare il calcolo controlli che i valori inseriti dall’utente siano positivi. Visualizzare gli opportuni messaggi di errore a seconda del verificarsi delle diverse condizioni\n"
      ]
    },
    {
      "cell_type": "code",
      "metadata": {
        "colab": {
          "base_uri": "https://localhost:8080/"
        },
        "id": "beBSd9F94uhQ",
        "outputId": "6ad7cb0a-8877-4c24-9e19-5dfce7f51e43"
      },
      "source": [
        "base = float(input('inserisci base'))\n",
        "\n",
        "if base < 0:\n",
        "  print('la base non può essere negativa')\n",
        "else:\n",
        "  altezza = float(input('inserisci altezza'))\n",
        "  if altezza < 0:\n",
        "    print('l''altezza non può essere negativa')\n",
        "  else:\n",
        "    profondità = float(input('inserisci profondità'))\n",
        "    if profondità < 0:\n",
        "      print('la profondità non può essere negativa')\n",
        "    else:\n",
        "      volume = base*altezza*profondità\n",
        "      print(round(volume,2))"
      ],
      "execution_count": null,
      "outputs": [
        {
          "output_type": "stream",
          "name": "stdout",
          "text": [
            "inserisci base3.456\n",
            "inserisci altezza2.446\n",
            "inserisci profondità7.567\n",
            "63.97\n"
          ]
        }
      ]
    },
    {
      "cell_type": "markdown",
      "metadata": {
        "id": "vXt0lpzGfN2d"
      },
      "source": [
        "scrivere un programma che permetta di visualizzare tutti i quadrati perfetti minori di un numero intero inserito dall’utente. I quadrati perfetti sono numeri interi che possono essere espressi come il quadrato di un numero intero. Ad esempio 9 è un quadrato perfetto perché è il quadrato del numero intero 3 mentre 8 non è un quadrato perfetto perché non è il quadrato di nessun numero intero)"
      ]
    },
    {
      "cell_type": "code",
      "metadata": {
        "colab": {
          "base_uri": "https://localhost:8080/"
        },
        "id": "BdR5DGL66AMv",
        "outputId": "b2268675-019b-40e8-e343-fb5b8ee63094"
      },
      "source": [
        "num = int(input('inserisci numero: '))\n",
        "quadratiperfetti = []\n",
        "i = 1\n",
        "while i**2 < num:\n",
        "  print(i**2)\n",
        "  i +=1"
      ],
      "execution_count": null,
      "outputs": [
        {
          "output_type": "stream",
          "name": "stdout",
          "text": [
            "inserisci numero: 30\n",
            "1\n",
            "4\n",
            "9\n",
            "16\n",
            "25\n"
          ]
        }
      ]
    },
    {
      "cell_type": "markdown",
      "metadata": {
        "id": "V9lu9YhifUYB"
      },
      "source": [
        "scrivere un programma che inserisca in una lista tutti i numeri interi compresi tra due estremi forniti dall’utente. Al termine, visualizzare la lista dei numeri e la lista al contrario\n"
      ]
    },
    {
      "cell_type": "code",
      "metadata": {
        "colab": {
          "base_uri": "https://localhost:8080/"
        },
        "id": "EqARBWwf7GSG",
        "outputId": "dcb7f904-d588-4e36-a305-9cea6fb40ffa"
      },
      "source": [
        "estremo1 = int(input('inserisci estremo1:'))\n",
        "estremo2 = int(input('inserisci estremo2:'))\n",
        "lst1 = [numero for numero in range(estremo1,estremo2)]\n",
        "print(lst1)\n",
        "lst1.reverse()\n",
        "print(lst1)"
      ],
      "execution_count": null,
      "outputs": [
        {
          "output_type": "stream",
          "name": "stdout",
          "text": [
            "inserisci estremo1:10\n",
            "inserisci estremo2:20\n",
            "[10, 11, 12, 13, 14, 15, 16, 17, 18, 19]\n",
            "[19, 18, 17, 16, 15, 14, 13, 12, 11, 10]\n"
          ]
        }
      ]
    },
    {
      "cell_type": "markdown",
      "metadata": {
        "id": "G5UgD_wcfZZ7"
      },
      "source": [
        "scrivere un programma che carichi in una lista chiamata “tutti” i numeri pari compresi tra -30 e +30. Usando poi lo slicing, caricare in una lista chiamata “negativi” gli elementi della lista “tutti” minori di 0 e in una chiamata “positivi” gli elementi della lista “tutti” maggiori di zero. Al termine visualizzare le tre liste..\n"
      ]
    },
    {
      "cell_type": "code",
      "metadata": {
        "colab": {
          "base_uri": "https://localhost:8080/"
        },
        "id": "RK-gGGgg8nvm",
        "outputId": "bb52f496-37bf-445a-a583-6cd38c876212"
      },
      "source": [
        "tutti = [elemento for elemento in range(-30,31) if elemento%2==0]\n",
        "print(tutti)\n",
        "negativi = print(tutti[:15])\n",
        "positivi = print(tutti[15:])\n"
      ],
      "execution_count": null,
      "outputs": [
        {
          "output_type": "stream",
          "name": "stdout",
          "text": [
            "[-30, -28, -26, -24, -22, -20, -18, -16, -14, -12, -10, -8, -6, -4, -2, 0, 2, 4, 6, 8, 10, 12, 14, 16, 18, 20, 22, 24, 26, 28, 30]\n",
            "[-30, -28, -26, -24, -22, -20, -18, -16, -14, -12, -10, -8, -6, -4, -2]\n",
            "[0, 2, 4, 6, 8, 10, 12, 14, 16, 18, 20, 22, 24, 26, 28, 30]\n"
          ]
        }
      ]
    },
    {
      "cell_type": "markdown",
      "metadata": {
        "id": "Lk5srwHBfefD"
      },
      "source": [
        "scrivere una funzione chiamata volumeSfera che dato il raggio in metri di una sfera calcoli il suo volume. Utilizzare poi quella funzione per scrivere un’altra funzione chiamata pesoSfera che permetta di calcolare il peso di una sfera dato il suo raggio in metri e la sua densità, espressa in grammi al centimetro cubo. Infine, scrivere un programma che calcoli il peso di una sfera di piombo del raggio di un metro (la densità del piombo è di 11.34 g/cm3)\n"
      ]
    },
    {
      "cell_type": "code",
      "metadata": {
        "colab": {
          "base_uri": "https://localhost:8080/"
        },
        "id": "A3voUgb7914d",
        "outputId": "9265901d-26c4-418e-e210-1bdfe43f72fc"
      },
      "source": [
        "import math\n",
        "def volumeSfera(x):\n",
        "  return 4/3 * math.pi * (x**3)\n",
        "def pesoSfera(r,d):\n",
        "  return volumeSfera(r)*d\n",
        "print(pesoSfera(1,11.34*1000), 'kg')\n"
      ],
      "execution_count": null,
      "outputs": [
        {
          "output_type": "stream",
          "name": "stdout",
          "text": [
            "47500.88092227767 kg\n"
          ]
        }
      ]
    },
    {
      "cell_type": "markdown",
      "metadata": {
        "id": "k8s0KVoEgpTT"
      },
      "source": [
        "data una lista di 100 numeri pari casuali caricata tramite una list comprehension, sostituire ogni elemento con il suo quadrato \n"
      ]
    },
    {
      "cell_type": "code",
      "metadata": {
        "id": "xE3DW2FKBiAF"
      },
      "source": [
        "import random\n",
        "listaNumCas1 = [numero for numero in random if numero%2 == 0]\n",
        "print(listaNumCas1)"
      ],
      "execution_count": null,
      "outputs": []
    },
    {
      "cell_type": "markdown",
      "metadata": {
        "id": "h0iz2yaDj_gt"
      },
      "source": [
        ""
      ]
    },
    {
      "cell_type": "markdown",
      "metadata": {
        "id": "z6sEgA03hen9"
      },
      "source": [
        "data una lista di 100 numeri pari casuali caricata tramite una list comprehension, eliminare tutti gli elementi della lista che sono multipli di 6\n"
      ]
    },
    {
      "cell_type": "code",
      "metadata": {
        "id": "nofkCj9kHBEk"
      },
      "source": [
        "listaNumCas2 = [numero for numero in range(0,201) if numero%2 == 0]\n",
        "print(listaNumCas)"
      ],
      "execution_count": null,
      "outputs": []
    },
    {
      "cell_type": "markdown",
      "metadata": {
        "id": "Sjts38TChn7K"
      },
      "source": [
        "progettare una struttura dati che permetta di memorizzare l’orario di partenza e di arrivo dei treni della tratta Milano Roma dell’alta velocità. Ad esempio il treno 9645 parte alle 16.00 e arriva alle 19.10, il treno 9647 parte alle 16.30 e arriva alle 19.40 a Roma. Memorizzare nella struttura dati progettata queste informazioni e scrivere il codice necessario per cercare un treno ed avere l’ora di partenza e l’ora di arrivo. Se non c’è il treno che l’utente inserisce, dare un opportuno messaggio di errore.\n"
      ]
    },
    {
      "cell_type": "code",
      "metadata": {
        "id": "53MYqMSmHcib",
        "colab": {
          "base_uri": "https://localhost:8080/"
        },
        "outputId": "ac0f827c-96bb-4611-e638-ed1d91a1fef7"
      },
      "source": [
        "trattaMilanoRoma = [{'Nome':'9645', 'partenza': '16:00', 'arrivo': '19:10'},\n",
        "                    {'Nome':'9647', 'partenza': '16:30', 'arrivo': '19:40'}]\n",
        "\n",
        "NomeTreno = input('inserisci il nome del treno: ')\n",
        "\n",
        "for treno in trattaMilanoRoma:\n",
        "  if treno['Nome'] == NomeTreno:\n",
        "    print(treno['partenza'], treno['arrivo'])\n",
        "    break\n",
        "  else:\n",
        "    print('il treno è inesistente')\n",
        "    break"
      ],
      "execution_count": 22,
      "outputs": [
        {
          "output_type": "stream",
          "name": "stdout",
          "text": [
            "inserisci il nome del treno: 9645\n",
            "16:00 19:10\n"
          ]
        }
      ]
    },
    {
      "cell_type": "markdown",
      "metadata": {
        "id": "Gs-gOEfHkFiR"
      },
      "source": [
        "scrivere un programma che calcoli le radici (dette anche zeri) di una equazione di secondo grado. L’utente inserisce i valori dei coefficienti  a. b e c e il programma calcola gli zeri.\n"
      ]
    },
    {
      "cell_type": "code",
      "metadata": {
        "colab": {
          "base_uri": "https://localhost:8080/"
        },
        "id": "bIM0P0K4qzDu",
        "outputId": "686a516f-7859-4607-d6da-15c6f67e5392"
      },
      "source": [
        "a = float(input(\"Inserisci il coefficiente a: \"))\n",
        "b = float(input(\"Inserisci il coefficiente b: \"))\n",
        "c = float(input(\"Inserisci il coefficiente c: \"))\n",
        "\n",
        "\n",
        "delta = b**2 - 4 * a * c\n",
        "\n",
        "if a < 0 and c > 0:\n",
        "   print(\"impossibile\")\n",
        "if a > 0 and c<0:\n",
        "  print(\"impossibile\")\n",
        "else:\n",
        "  print(\"accettabile\")  \n",
        "if delta > 0:\n",
        " print(delta)"
      ],
      "execution_count": null,
      "outputs": [
        {
          "output_type": "stream",
          "name": "stdout",
          "text": [
            "Inserisci il coefficiente a: 2\n",
            "Inserisci il coefficiente b: 5\n",
            "Inserisci il coefficiente c: 1\n",
            "accettabile\n",
            "17.0\n"
          ]
        }
      ]
    },
    {
      "cell_type": "markdown",
      "metadata": {
        "id": "c1Bz8rhMq75g"
      },
      "source": [
        "modificare il programma precedente in modo che prima di effettuare il calcolo controlli che i valori inseriti dall’utente siano accettabili. Visualizzare gli opportuni messaggi di errore a seconda del verificarsi delle diverse condizioni\n"
      ]
    },
    {
      "cell_type": "code",
      "metadata": {
        "colab": {
          "base_uri": "https://localhost:8080/"
        },
        "id": "w6zwcU6arDI7",
        "outputId": "3d6d8479-a25e-4659-bf2f-d5dbfc9abbbc"
      },
      "source": [
        "from math import sqrt\n",
        "\n",
        "\n",
        "a = 0\n",
        "while a == 0:\n",
        " a = float(input(\"Inserisci il coefficiente a: \"))\n",
        "b = float(input(\"Inserisci il coefficiente b: \"))\n",
        "c = float(input(\"Inserisci il coefficiente c: \"))\n",
        "\n",
        "\n",
        "delta = b**2 - 4 * a * c\n",
        "\n",
        "\n",
        "if delta < 0:\n",
        "    print(\"Delta negativo. Nessuna soluzione reale (impossibile).\")\n",
        "elif delta == 0:\n",
        "    x = (-b) / (2 * a)\n",
        "    print(\"Delta nullo. Unica soluzione x=\", x)\n",
        "else:\n",
        "    x1 = (-b - sqrt(delta)) / (2 * a)\n",
        "    x2 = (-b + sqrt(delta)) / (2 * a)\n",
        "    print(\"Delta positivo. Due soluzioni reali x1=\", x1, \" x2=\", x2)"
      ],
      "execution_count": null,
      "outputs": [
        {
          "output_type": "stream",
          "name": "stdout",
          "text": [
            "Inserisci il coefficiente a: 4\n",
            "Inserisci il coefficiente b: 2\n",
            "Inserisci il coefficiente c: 8\n",
            "Delta negativo. Nessuna soluzione reale (impossibile).\n"
          ]
        }
      ]
    },
    {
      "cell_type": "markdown",
      "metadata": {
        "id": "Uav-KBH1rO41"
      },
      "source": [
        "scrivere un programma che permetta di visualizzare tutti i multipli di 10 minori di un numero inserito dall’utente.\n"
      ]
    },
    {
      "cell_type": "code",
      "metadata": {
        "id": "NGRaXAwBrQ-w",
        "colab": {
          "base_uri": "https://localhost:8080/"
        },
        "outputId": "36edb21e-54a4-4881-ca55-dd6e3be84d3a"
      },
      "source": [
        "numero = int(input('inserisci un numero'))\n",
        "multipli = [numero for numero in range(1,numero) if numero%10 == 0]\n",
        "print(multipli)"
      ],
      "execution_count": 9,
      "outputs": [
        {
          "output_type": "stream",
          "name": "stdout",
          "text": [
            "inserisci un numero40\n",
            "[10, 20, 30]\n"
          ]
        }
      ]
    },
    {
      "cell_type": "markdown",
      "metadata": {
        "id": "3ELFAnILrTA5"
      },
      "source": [
        "scrivere un programma che inserisca in una lista tutti i numeri interi pari minori di un numero inserito dall’utente. Al termine, visualizzare la lista dei numeri e la lista al contrario\n"
      ]
    },
    {
      "cell_type": "code",
      "metadata": {
        "colab": {
          "base_uri": "https://localhost:8080/"
        },
        "id": "LIbWCFKhrU4w",
        "outputId": "89103e60-f50d-4e3e-c155-0ddc8bee055e"
      },
      "source": [
        "numero = int(input(\"inserire numero\"))\n",
        "numeriInteri = []\n",
        "for i in range(0,100):\n",
        "  if i%2==0:\n",
        "    if i < numero: \n",
        "     numeriInteri.append(i)\n",
        "print(numeriInteri)"
      ],
      "execution_count": 10,
      "outputs": [
        {
          "output_type": "stream",
          "name": "stdout",
          "text": [
            "inserire numero6\n",
            "[0, 2, 4]\n"
          ]
        }
      ]
    },
    {
      "cell_type": "markdown",
      "metadata": {
        "id": "kt23iH2Drg-O"
      },
      "source": [
        "scrivere un programma che carichi in una lista chiamata “tutti” i numeri dispari compresi tra 0 e 90. Usando poi lo slicing, caricare in una lista chiamata “bassi” gli elementi della prima metà della lista “tutti” e in una lista chiamata “alti” gli elementi della seconda metà della  lista. Al termine visualizzare le tre liste..\n"
      ]
    },
    {
      "cell_type": "code",
      "metadata": {
        "colab": {
          "base_uri": "https://localhost:8080/"
        },
        "id": "TzEAAaWSrhev",
        "outputId": "5bd35316-0d6f-49b3-c382-165478e67bab"
      },
      "source": [
        "tutti = [numero for numero in range(0,91) if numero%2 == 1]\n",
        "print(tutti)\n",
        "bassi = tutti[:23]\n",
        "print(bassi)\n",
        "alti = tutti[23:]\n",
        "print(alti)"
      ],
      "execution_count": null,
      "outputs": [
        {
          "output_type": "stream",
          "name": "stdout",
          "text": [
            "[1, 3, 5, 7, 9, 11, 13, 15, 17, 19, 21, 23, 25, 27, 29, 31, 33, 35, 37, 39, 41, 43, 45, 47, 49, 51, 53, 55, 57, 59, 61, 63, 65, 67, 69, 71, 73, 75, 77, 79, 81, 83, 85, 87, 89]\n",
            "[1, 3, 5, 7, 9, 11, 13, 15, 17, 19, 21, 23, 25, 27, 29, 31, 33, 35, 37, 39, 41, 43, 45]\n",
            "[47, 49, 51, 53, 55, 57, 59, 61, 63, 65, 67, 69, 71, 73, 75, 77, 79, 81, 83, 85, 87, 89]\n"
          ]
        }
      ]
    },
    {
      "cell_type": "markdown",
      "metadata": {
        "id": "SizhWiGUskjI"
      },
      "source": [
        "scrivere una funzione chiamata volumeCubo che dato il lato in metri di un cubo calcoli il suo volume. Utilizzare poi quella funzione per scrivere un’altra funzione chiamata pesoCubo che permetta di calcolare il peso in kg di un cubo dato il suo lato in metri e la sua densità, espressa in grammi al centimetro cubo. Infine, scrivere un programma che calcoli il peso di un cubo di alluminio avente il lato di un metro (la densità dell’alluminio è di 2.7 g/cm3)\n"
      ]
    },
    {
      "cell_type": "code",
      "metadata": {
        "id": "bXC1jtX7smTP",
        "colab": {
          "base_uri": "https://localhost:8080/"
        },
        "outputId": "cb7dd045-ff35-4b49-91aa-7c56e0468f63"
      },
      "source": [
        "def volumeCubo(l):\n",
        "  return l*3\n",
        "def pesoCubo(l,d):\n",
        "  return volumeCubo(l)*d\n",
        "print(pesoCubo(1,2.7*1000), 'kg')"
      ],
      "execution_count": 11,
      "outputs": [
        {
          "output_type": "stream",
          "name": "stdout",
          "text": [
            "8100.0 kg\n"
          ]
        }
      ]
    },
    {
      "cell_type": "markdown",
      "metadata": {
        "id": "2ooRkFfetfmp"
      },
      "source": [
        "data una lista di 100 numeri pari casuali caricata tramite una list comprehension, sostituire con uno zero tutti gli elementi della lista che sono multipli di 6"
      ]
    },
    {
      "cell_type": "code",
      "metadata": {
        "id": "yd0o_d2mth0m",
        "colab": {
          "base_uri": "https://localhost:8080/"
        },
        "outputId": "2e6d9114-5f5c-42c0-a3a9-2cb0b994ded2"
      },
      "source": [
        "listaNum1 = [numero for numero in range(0,200) if numero%2 == 0]\n",
        "\n",
        "for i in listaNum:\n",
        "  if i%6 == 0:\n",
        "    i = 0\n",
        "print(listaNum1)"
      ],
      "execution_count": 15,
      "outputs": [
        {
          "output_type": "stream",
          "name": "stdout",
          "text": [
            "[0, 2, 4, 6, 8, 10, 12, 14, 16, 18, 20, 22, 24, 26, 28, 30, 32, 34, 36, 38, 40, 42, 44, 46, 48, 50, 52, 54, 56, 58, 60, 62, 64, 66, 68, 70, 72, 74, 76, 78, 80, 82, 84, 86, 88, 90, 92, 94, 96, 98, 100, 102, 104, 106, 108, 110, 112, 114, 116, 118, 120, 122, 124, 126, 128, 130, 132, 134, 136, 138, 140, 142, 144, 146, 148, 150, 152, 154, 156, 158, 160, 162, 164, 166, 168, 170, 172, 174, 176, 178, 180, 182, 184, 186, 188, 190, 192, 194, 196, 198]\n"
          ]
        }
      ]
    },
    {
      "cell_type": "markdown",
      "metadata": {
        "id": "7UBV2c0PtlVZ"
      },
      "source": [
        "data una lista di 100 numeri pari casuali caricata tramite una list comprehension, eliminare tutti gli elementi della lista minori di un valore intero inserito dall’utente\n"
      ]
    },
    {
      "cell_type": "code",
      "metadata": {
        "id": "_-C4b1YKtlnN",
        "colab": {
          "base_uri": "https://localhost:8080/"
        },
        "outputId": "856d375a-31dc-43cb-e0a3-cd87600bfd30"
      },
      "source": [
        "listaNum2 = [numero for numero in range(0,200) if numero%2 == 0]\n",
        "numero = int(input('inserisci numero: '))\n",
        "for i in listaNum2:\n",
        "  if i < numero:\n",
        "    listaNum2.remove(i)\n",
        "print(listaNum2)"
      ],
      "execution_count": 18,
      "outputs": [
        {
          "output_type": "stream",
          "name": "stdout",
          "text": [
            "inserisci numero: 5\n",
            "[2, 6, 8, 10, 12, 14, 16, 18, 20, 22, 24, 26, 28, 30, 32, 34, 36, 38, 40, 42, 44, 46, 48, 50, 52, 54, 56, 58, 60, 62, 64, 66, 68, 70, 72, 74, 76, 78, 80, 82, 84, 86, 88, 90, 92, 94, 96, 98, 100, 102, 104, 106, 108, 110, 112, 114, 116, 118, 120, 122, 124, 126, 128, 130, 132, 134, 136, 138, 140, 142, 144, 146, 148, 150, 152, 154, 156, 158, 160, 162, 164, 166, 168, 170, 172, 174, 176, 178, 180, 182, 184, 186, 188, 190, 192, 194, 196, 198]\n"
          ]
        }
      ]
    },
    {
      "cell_type": "markdown",
      "metadata": {
        "id": "Z5rmSKTItlsE"
      },
      "source": [
        "progettare una struttura dati che permetta di memorizzare l’orario di partenza e di arrivo dei treni della tratta Milano Roma dell’alta velocità. Ad esempio il treno 9645 parte alle 16.00 e arriva alle 19.10, il treno 9647 parte alle 16.30 e arriva alle 19.40 a Roma. Memorizzare nella struttura dati progettata queste informazioni e scrivere il codice necessario per cercare un treno ed avere l’ora di partenza e l’ora di arrivo. Se non c’è il treno che l’utente inserisce, dare un opportuno messaggio di errore.\n"
      ]
    },
    {
      "cell_type": "code",
      "metadata": {
        "id": "62hoiUDDto-L",
        "colab": {
          "base_uri": "https://localhost:8080/"
        },
        "outputId": "847c9d90-c34d-4792-8c58-6f9c7fe4c6f9"
      },
      "source": [
        "trattaMilanoRoma = [{'Nome':'9645', 'partenza': '16:00', 'arrivo': '19:10'},\n",
        "                    {'Nome':'9647', 'partenza': '16:30', 'arrivo': '19:40'}]\n",
        "\n",
        "NomeTreno = input('inserisci il nome del treno: ')\n",
        "\n",
        "for treno in trattaMilanoRoma:\n",
        "  if treno['Nome'] == NomeTreno:\n",
        "    print(treno['partenza'], treno['arrivo'])\n",
        "    break\n",
        "  else:\n",
        "    print('il treno è inesistente')\n",
        "    break"
      ],
      "execution_count": 21,
      "outputs": [
        {
          "output_type": "stream",
          "name": "stdout",
          "text": [
            "inserisci il nome del treno: 2345\n",
            "il treno è inesistente\n"
          ]
        }
      ]
    }
  ]
}