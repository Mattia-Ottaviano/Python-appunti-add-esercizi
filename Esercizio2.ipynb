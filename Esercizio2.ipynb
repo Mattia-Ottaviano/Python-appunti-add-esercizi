{
  "nbformat": 4,
  "nbformat_minor": 0,
  "metadata": {
    "colab": {
      "name": "Esercizio2",
      "provenance": []
    },
    "kernelspec": {
      "name": "python3",
      "display_name": "Python 3"
    },
    "language_info": {
      "name": "python"
    }
  },
  "cells": [
    {
      "cell_type": "markdown",
      "metadata": {
        "id": "XE-CjDNTP78I"
      },
      "source": [
        "1. Scrivere un programma che crei una lista contenente i nomi dei capoluoghi delle regioni italiane e che visualizzi la lista. Chiamare la lista capoluoghiRegione"
      ]
    },
    {
      "cell_type": "code",
      "metadata": {
        "colab": {
          "base_uri": "https://localhost:8080/"
        },
        "id": "NaymdwpkQAwq",
        "outputId": "58ebb571-32ae-46fa-f11e-29c262d9b1a3"
      },
      "source": [
        "capoluoghiRegione = (\t'L Aquila', 'Potenza', 'Catanzaro', 'Napoli', 'Bologna', 'Trieste', 'Roma', 'Genova', 'Milano', \t'Ancona', 'Campobasso', 'Torino', \t'Bari', \t'Cagliari', \t'Palermo', \t'Firenze', \t'Trento', 'Perugia', \t'Aosta', \t'Venezia')\n",
        "print(capoluoghiRegione)"
      ],
      "execution_count": 125,
      "outputs": [
        {
          "output_type": "stream",
          "name": "stdout",
          "text": [
            "('L Aquila', 'Potenza', 'Catanzaro', 'Napoli', 'Bologna', 'Trieste', 'Roma', 'Genova', 'Milano', 'Ancona', 'Campobasso', 'Torino', 'Bari', 'Cagliari', 'Palermo', 'Firenze', 'Trento', 'Perugia', 'Aosta', 'Venezia')\n"
          ]
        }
      ]
    },
    {
      "cell_type": "markdown",
      "metadata": {
        "id": "P6PZrpZkRS37"
      },
      "source": [
        "2. Scrivere un programma che visualizzi i primi 6 capoluoghi di regione presenti in capoluoghiRegione"
      ]
    },
    {
      "cell_type": "code",
      "metadata": {
        "colab": {
          "base_uri": "https://localhost:8080/"
        },
        "id": "V5mrfqAdRa5R",
        "outputId": "bbf0c4c6-e4c1-42f8-d821-b7a3c0f70af8"
      },
      "source": [
        "print(capoluoghiRegione[0:6])"
      ],
      "execution_count": 3,
      "outputs": [
        {
          "output_type": "stream",
          "name": "stdout",
          "text": [
            "('L Aquila', 'Potenza', 'Catanzaro', 'Napoli', 'Bologna', 'Trieste')\n"
          ]
        }
      ]
    },
    {
      "cell_type": "markdown",
      "metadata": {
        "id": "qqljOmoLRrkA"
      },
      "source": [
        "3. Scrivere un programma che visualizzi gli ultimi 6 capoluoghi di regione presenti in capoluoghiRegione"
      ]
    },
    {
      "cell_type": "code",
      "metadata": {
        "colab": {
          "base_uri": "https://localhost:8080/"
        },
        "id": "McLpRwksRvri",
        "outputId": "4f3c1dcf-fb5e-42a3-9e06-e6b84e25f514"
      },
      "source": [
        "print(capoluoghiRegione[14:20])"
      ],
      "execution_count": 5,
      "outputs": [
        {
          "output_type": "stream",
          "name": "stdout",
          "text": [
            "('Palermo', 'Firenze', 'Trento', 'Perugia', 'Aosta', 'Venezia')\n"
          ]
        }
      ]
    },
    {
      "cell_type": "markdown",
      "metadata": {
        "id": "yM4nwXHXSKLk"
      },
      "source": [
        "4. Scrivere un programma che visualizzi i 6 capoluoghi di regione presenti nella parte centrale di capoluoghiRegione"
      ]
    },
    {
      "cell_type": "code",
      "metadata": {
        "colab": {
          "base_uri": "https://localhost:8080/"
        },
        "id": "E_bmOW68SNqh",
        "outputId": "ca407716-65a5-4bef-91ec-8b55cb4db060"
      },
      "source": [
        "print(capoluoghiRegione[7:13])"
      ],
      "execution_count": 7,
      "outputs": [
        {
          "output_type": "stream",
          "name": "stdout",
          "text": [
            "('Genova', 'Milano', 'Ancona', 'Campobasso', 'Torino', 'Bari')\n"
          ]
        }
      ]
    },
    {
      "cell_type": "markdown",
      "metadata": {
        "id": "xMUnJUrtSb9j"
      },
      "source": [
        "5. Scrivere un programma che visualizzi i capoluoghi di regione presenti in capoluoghiRegione nelle posizioni pari."
      ]
    },
    {
      "cell_type": "code",
      "metadata": {
        "colab": {
          "base_uri": "https://localhost:8080/"
        },
        "id": "wE-nBFpASfzH",
        "outputId": "b8bd86f0-c837-4be5-ad75-3d1a8607f4ba"
      },
      "source": [
        "print(capoluoghiRegione[:19:2])\n"
      ],
      "execution_count": 38,
      "outputs": [
        {
          "output_type": "stream",
          "name": "stdout",
          "text": [
            "('L Aquila', 'Catanzaro', 'Bologna', 'Roma', 'Milano', 'Campobasso', 'Bari', 'Palermo', 'Trento', 'Aosta')\n"
          ]
        }
      ]
    },
    {
      "cell_type": "markdown",
      "metadata": {
        "id": "_ShY_NmFXQif"
      },
      "source": [
        "6. Scrivere un programma che visualizzi i capoluoghi di regione presenti in capoluoghiRegione nelle posizioni dispari."
      ]
    },
    {
      "cell_type": "code",
      "metadata": {
        "colab": {
          "base_uri": "https://localhost:8080/"
        },
        "id": "TMvR_dZmXTsu",
        "outputId": "000ec54d-70f7-43d7-a1cc-fbaaae8c5c05"
      },
      "source": [
        "print(capoluoghiRegione[1::2])"
      ],
      "execution_count": 109,
      "outputs": [
        {
          "output_type": "stream",
          "name": "stdout",
          "text": [
            "('Potenza', 'Napoli', 'Trieste', 'Genova', 'Ancona', 'Torino', 'Cagliari', 'Firenze', 'Perugia', 'Venezia')\n"
          ]
        }
      ]
    },
    {
      "cell_type": "markdown",
      "metadata": {
        "id": "icZTSQ4_Yiuo"
      },
      "source": [
        "7. Scrivere un programma che visualizzi il primo capoluogo di regione in ordine alfabetico"
      ]
    },
    {
      "cell_type": "code",
      "metadata": {
        "id": "XPIq_cjYiAQB"
      },
      "source": [
        "capoluoghiRegione.sort()\n",
        "print(capoluoghiRegione[0])\n",
        "\n"
      ],
      "execution_count": null,
      "outputs": []
    },
    {
      "cell_type": "markdown",
      "metadata": {
        "id": "eOEIRBHEaB_Z"
      },
      "source": [
        "8. Scrivere un programma che permetta ad un utente di inserire il nome di una città è risponda True\n",
        "se quella città è un capoluogo di regione, False altrimenti."
      ]
    },
    {
      "cell_type": "code",
      "metadata": {
        "id": "J4w9KP1djtoX"
      },
      "source": [
        "citta = (input(\"Inserisci nome della citta:\"))\n",
        "citta in capoluoghiRegione"
      ],
      "execution_count": null,
      "outputs": []
    },
    {
      "cell_type": "markdown",
      "metadata": {
        "id": "iQ93caZBjtzX"
      },
      "source": [
        "9. Scrivere un programma che visualizzi i capoluoghi in ordine alfabetico"
      ]
    },
    {
      "cell_type": "code",
      "metadata": {
        "colab": {
          "base_uri": "https://localhost:8080/"
        },
        "id": "Z_gvE1vcjut_",
        "outputId": "1d6cd57d-8766-4f36-8df4-dfe75ba854c6"
      },
      "source": [
        "print(sorted(['L Aquila', 'Potenza', 'Catanzaro', 'Napoli', 'Bologna', 'Trieste', 'Roma', 'Genova', 'Milano', \t'Ancona', 'Campobasso', 'Torino', \t'Bari', \t'Cagliari', \t'Palermo', \t'Firenze', \t'Trento', 'Perugia', \t'Aosta', \t'Venezia']))"
      ],
      "execution_count": 65,
      "outputs": [
        {
          "output_type": "stream",
          "name": "stdout",
          "text": [
            "['Ancona', 'Aosta', 'Bari', 'Bologna', 'Cagliari', 'Campobasso', 'Catanzaro', 'Firenze', 'Genova', 'L Aquila', 'Milano', 'Napoli', 'Palermo', 'Perugia', 'Potenza', 'Roma', 'Torino', 'Trento', 'Trieste', 'Venezia']\n"
          ]
        }
      ]
    },
    {
      "cell_type": "markdown",
      "metadata": {
        "id": "sH5MVjUykQBt"
      },
      "source": [
        "10. Scrivere un programma che visualizzi i capoluoghi in ordine alfabetico inverso (dalla Z alla A)"
      ]
    },
    {
      "cell_type": "code",
      "metadata": {
        "colab": {
          "base_uri": "https://localhost:8080/"
        },
        "id": "hj9Es-a1kUZf",
        "outputId": "09e034d6-481d-47d3-acc3-1b84a9c754c0"
      },
      "source": [
        "print(sorted(capoluoghiRegione,reverse=True)) \n"
      ],
      "execution_count": 81,
      "outputs": [
        {
          "output_type": "stream",
          "name": "stdout",
          "text": [
            "['Venezia', 'Trieste', 'Trento', 'Torino', 'Roma', 'Potenza', 'Perugia', 'Palermo', 'Napoli', 'Milano', 'L Aquila', 'Genova', 'Firenze', 'Catanzaro', 'Campobasso', 'Cagliari', 'Bologna', 'Bari', 'Aosta', 'Ancona']\n"
          ]
        }
      ]
    },
    {
      "cell_type": "markdown",
      "metadata": {
        "id": "Eztk8Zxrm8a5"
      },
      "source": [
        "11. Scrivere un programma che visualizzi i capoluoghi in ordine sulla base della lunghezza del nome (da\n",
        "quello più corto a quello più lungo)"
      ]
    },
    {
      "cell_type": "code",
      "metadata": {
        "colab": {
          "base_uri": "https://localhost:8080/"
        },
        "id": "ujZT7rl11AUl",
        "outputId": "ad0eb6fc-0ebe-4da7-ccbb-0669ce1729b4"
      },
      "source": [
        "print(sorted(capoluoghiRegione, key=len))"
      ],
      "execution_count": 134,
      "outputs": [
        {
          "output_type": "stream",
          "name": "stdout",
          "text": [
            "['Roma', 'Bari', 'Aosta', 'Napoli', 'Genova', 'Milano', 'Ancona', 'Torino', 'Trento', 'Potenza', 'Bologna', 'Trieste', 'Palermo', 'Firenze', 'Perugia', 'Venezia', 'L Aquila', 'Cagliari', 'Catanzaro', 'Campobasso']\n"
          ]
        }
      ]
    },
    {
      "cell_type": "markdown",
      "metadata": {
        "id": "yuPXTuA7nsPJ"
      },
      "source": [
        "12. Scrivere un programma che copi la lista capoluoghiRegione nella lista\n",
        "capoluoghiRegione2 e che elimini dalla prima lista il primo e l’ultimo elemento. Al termine,\n",
        "visualizzare le due liste una sotto l’altra per verificare che effettivamente siano stati eliminati gli\n",
        "elementi della lista originale."
      ]
    },
    {
      "cell_type": "code",
      "metadata": {
        "id": "1MQ7_T2J2Ag8"
      },
      "source": [
        "capoluoghiRegione2 = capoluoghiRegione\n",
        "capoluoghiRegione.remove('L Aquila')\n",
        "capoluoghiRegione.remove('L Aquila')\n",
        "print(capoluoghiRegione2)\n"
      ],
      "execution_count": null,
      "outputs": []
    },
    {
      "cell_type": "markdown",
      "metadata": {
        "id": "WKfAGhHE35mQ"
      },
      "source": [
        "13. Scrivere un programma che, con una sola istruzione, carichi una lista con i primi 100 numeri interi.\n",
        "Chiamare la lista numeriInteri. Al termine, visualizzare la lista."
      ]
    },
    {
      "cell_type": "code",
      "metadata": {
        "colab": {
          "base_uri": "https://localhost:8080/"
        },
        "id": "j__HV-TU4An3",
        "outputId": "baafc1b9-8cef-4c2c-ee5d-46f97a42b5f4"
      },
      "source": [
        "numeriInteri = [i for i in range(0,100)]\n",
        "print(numeriInteri)"
      ],
      "execution_count": 140,
      "outputs": [
        {
          "output_type": "stream",
          "name": "stdout",
          "text": [
            "[0, 1, 2, 3, 4, 5, 6, 7, 8, 9, 10, 11, 12, 13, 14, 15, 16, 17, 18, 19, 20, 21, 22, 23, 24, 25, 26, 27, 28, 29, 30, 31, 32, 33, 34, 35, 36, 37, 38, 39, 40, 41, 42, 43, 44, 45, 46, 47, 48, 49, 50, 51, 52, 53, 54, 55, 56, 57, 58, 59, 60, 61, 62, 63, 64, 65, 66, 67, 68, 69, 70, 71, 72, 73, 74, 75, 76, 77, 78, 79, 80, 81, 82, 83, 84, 85, 86, 87, 88, 89, 90, 91, 92, 93, 94, 95, 96, 97, 98, 99]\n"
          ]
        }
      ]
    },
    {
      "cell_type": "markdown",
      "metadata": {
        "id": "AY1zB4jQ4RmM"
      },
      "source": [
        "14. Scrivere un programma che permetta all’utente di inserire in una lista 10 numeri interi, elimini i\n",
        "duplicati e visualizzi la lista senza duplicati. Chiamare la lista numeriInteri."
      ]
    },
    {
      "cell_type": "code",
      "metadata": {
        "colab": {
          "base_uri": "https://localhost:8080/"
        },
        "id": "5VgTuU4g4Xw9",
        "outputId": "5c723636-120f-4521-c30a-6b83b27bbf27"
      },
      "source": [
        "numeriInteri = []\n",
        "for i in range(10):\n",
        " numeriInteri.insert(i,input(\"Inserire il numero intero \"))\n",
        "print(set(numeriInteri))3"
      ],
      "execution_count": 143,
      "outputs": [
        {
          "output_type": "stream",
          "name": "stdout",
          "text": [
            "Inserire il numero intero 4\n",
            "Inserire il numero intero 67\n",
            "Inserire il numero intero 4\n",
            "Inserire il numero intero 9\n",
            "Inserire il numero intero 1\n",
            "Inserire il numero intero 4\n",
            "Inserire il numero intero 9\n",
            "Inserire il numero intero 5\n",
            "Inserire il numero intero 3\n",
            "Inserire il numero intero 45\n",
            "{'9', '4', '3', '5', '45', '67', '1'}\n"
          ]
        }
      ]
    }
  ]
}