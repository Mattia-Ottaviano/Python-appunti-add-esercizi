{
  "nbformat": 4,
  "nbformat_minor": 0,
  "metadata": {
    "colab": {
      "name": "Eserizio Python, Pandas e MatPlotLib.ipynb",
      "provenance": [],
      "collapsed_sections": []
    },
    "kernelspec": {
      "name": "python3",
      "display_name": "Python 3"
    },
    "language_info": {
      "name": "python"
    }
  },
  "cells": [
    {
      "cell_type": "code",
      "metadata": {
        "colab": {
          "base_uri": "https://localhost:8080/",
          "height": 424
        },
        "id": "DvhrBwaXX0HM",
        "outputId": "42466e8c-23c1-4dba-ba99-d618736e6803"
      },
      "source": [
        "import pandas as pd\n",
        "df = pd.read_csv('https://raw.githubusercontent.com/italia/covid19-opendata-vaccini/master/dati/consegne-vaccini-latest.csv')\n",
        "df"
      ],
      "execution_count": null,
      "outputs": [
        {
          "output_type": "execute_result",
          "data": {
            "text/html": [
              "<div>\n",
              "<style scoped>\n",
              "    .dataframe tbody tr th:only-of-type {\n",
              "        vertical-align: middle;\n",
              "    }\n",
              "\n",
              "    .dataframe tbody tr th {\n",
              "        vertical-align: top;\n",
              "    }\n",
              "\n",
              "    .dataframe thead th {\n",
              "        text-align: right;\n",
              "    }\n",
              "</style>\n",
              "<table border=\"1\" class=\"dataframe\">\n",
              "  <thead>\n",
              "    <tr style=\"text-align: right;\">\n",
              "      <th></th>\n",
              "      <th>area</th>\n",
              "      <th>fornitore</th>\n",
              "      <th>numero_dosi</th>\n",
              "      <th>data_consegna</th>\n",
              "      <th>codice_NUTS1</th>\n",
              "      <th>codice_NUTS2</th>\n",
              "      <th>codice_regione_ISTAT</th>\n",
              "      <th>nome_area</th>\n",
              "    </tr>\n",
              "  </thead>\n",
              "  <tbody>\n",
              "    <tr>\n",
              "      <th>0</th>\n",
              "      <td>ABR</td>\n",
              "      <td>Pfizer/BioNTech</td>\n",
              "      <td>135</td>\n",
              "      <td>2020-12-27</td>\n",
              "      <td>ITF</td>\n",
              "      <td>ITF1</td>\n",
              "      <td>13</td>\n",
              "      <td>Abruzzo</td>\n",
              "    </tr>\n",
              "    <tr>\n",
              "      <th>1</th>\n",
              "      <td>ABR</td>\n",
              "      <td>Pfizer/BioNTech</td>\n",
              "      <td>7800</td>\n",
              "      <td>2020-12-30</td>\n",
              "      <td>ITF</td>\n",
              "      <td>ITF1</td>\n",
              "      <td>13</td>\n",
              "      <td>Abruzzo</td>\n",
              "    </tr>\n",
              "    <tr>\n",
              "      <th>2</th>\n",
              "      <td>ABR</td>\n",
              "      <td>Pfizer/BioNTech</td>\n",
              "      <td>3900</td>\n",
              "      <td>2021-01-05</td>\n",
              "      <td>ITF</td>\n",
              "      <td>ITF1</td>\n",
              "      <td>13</td>\n",
              "      <td>Abruzzo</td>\n",
              "    </tr>\n",
              "    <tr>\n",
              "      <th>3</th>\n",
              "      <td>ABR</td>\n",
              "      <td>Pfizer/BioNTech</td>\n",
              "      <td>3900</td>\n",
              "      <td>2021-01-07</td>\n",
              "      <td>ITF</td>\n",
              "      <td>ITF1</td>\n",
              "      <td>13</td>\n",
              "      <td>Abruzzo</td>\n",
              "    </tr>\n",
              "    <tr>\n",
              "      <th>4</th>\n",
              "      <td>ABR</td>\n",
              "      <td>Pfizer/BioNTech</td>\n",
              "      <td>3900</td>\n",
              "      <td>2021-01-11</td>\n",
              "      <td>ITF</td>\n",
              "      <td>ITF1</td>\n",
              "      <td>13</td>\n",
              "      <td>Abruzzo</td>\n",
              "    </tr>\n",
              "    <tr>\n",
              "      <th>...</th>\n",
              "      <td>...</td>\n",
              "      <td>...</td>\n",
              "      <td>...</td>\n",
              "      <td>...</td>\n",
              "      <td>...</td>\n",
              "      <td>...</td>\n",
              "      <td>...</td>\n",
              "      <td>...</td>\n",
              "    </tr>\n",
              "    <tr>\n",
              "      <th>5278</th>\n",
              "      <td>VEN</td>\n",
              "      <td>Moderna</td>\n",
              "      <td>-1200</td>\n",
              "      <td>2021-10-11</td>\n",
              "      <td>ITH</td>\n",
              "      <td>ITH3</td>\n",
              "      <td>5</td>\n",
              "      <td>Veneto</td>\n",
              "    </tr>\n",
              "    <tr>\n",
              "      <th>5279</th>\n",
              "      <td>VEN</td>\n",
              "      <td>Moderna</td>\n",
              "      <td>1</td>\n",
              "      <td>2021-10-13</td>\n",
              "      <td>ITH</td>\n",
              "      <td>ITH3</td>\n",
              "      <td>5</td>\n",
              "      <td>Veneto</td>\n",
              "    </tr>\n",
              "    <tr>\n",
              "      <th>5280</th>\n",
              "      <td>VEN</td>\n",
              "      <td>Moderna</td>\n",
              "      <td>8</td>\n",
              "      <td>2021-10-14</td>\n",
              "      <td>ITH</td>\n",
              "      <td>ITH3</td>\n",
              "      <td>5</td>\n",
              "      <td>Veneto</td>\n",
              "    </tr>\n",
              "    <tr>\n",
              "      <th>5281</th>\n",
              "      <td>VEN</td>\n",
              "      <td>Pfizer/BioNTech</td>\n",
              "      <td>4</td>\n",
              "      <td>2021-10-15</td>\n",
              "      <td>ITH</td>\n",
              "      <td>ITH3</td>\n",
              "      <td>5</td>\n",
              "      <td>Veneto</td>\n",
              "    </tr>\n",
              "    <tr>\n",
              "      <th>5282</th>\n",
              "      <td>VEN</td>\n",
              "      <td>Moderna</td>\n",
              "      <td>5</td>\n",
              "      <td>2021-11-11</td>\n",
              "      <td>ITH</td>\n",
              "      <td>ITH3</td>\n",
              "      <td>5</td>\n",
              "      <td>Veneto</td>\n",
              "    </tr>\n",
              "  </tbody>\n",
              "</table>\n",
              "<p>5283 rows × 8 columns</p>\n",
              "</div>"
            ],
            "text/plain": [
              "     area        fornitore  ...  codice_regione_ISTAT nome_area\n",
              "0     ABR  Pfizer/BioNTech  ...                    13   Abruzzo\n",
              "1     ABR  Pfizer/BioNTech  ...                    13   Abruzzo\n",
              "2     ABR  Pfizer/BioNTech  ...                    13   Abruzzo\n",
              "3     ABR  Pfizer/BioNTech  ...                    13   Abruzzo\n",
              "4     ABR  Pfizer/BioNTech  ...                    13   Abruzzo\n",
              "...   ...              ...  ...                   ...       ...\n",
              "5278  VEN          Moderna  ...                     5    Veneto\n",
              "5279  VEN          Moderna  ...                     5    Veneto\n",
              "5280  VEN          Moderna  ...                     5    Veneto\n",
              "5281  VEN  Pfizer/BioNTech  ...                     5    Veneto\n",
              "5282  VEN          Moderna  ...                     5    Veneto\n",
              "\n",
              "[5283 rows x 8 columns]"
            ]
          },
          "metadata": {},
          "execution_count": 26
        }
      ]
    },
    {
      "cell_type": "markdown",
      "metadata": {
        "id": "AdkpNHyIoRDG"
      },
      "source": [
        "1. visualizzare il numero totale di record presenti nel file"
      ]
    },
    {
      "cell_type": "code",
      "metadata": {
        "colab": {
          "base_uri": "https://localhost:8080/"
        },
        "id": "go9TV9DApR7z",
        "outputId": "dc351ea9-c256-45bd-a573-22970f311ab0"
      },
      "source": [
        "len(df.index)\n"
      ],
      "execution_count": null,
      "outputs": [
        {
          "output_type": "execute_result",
          "data": {
            "text/plain": [
              "5283"
            ]
          },
          "metadata": {},
          "execution_count": 27
        }
      ]
    },
    {
      "cell_type": "markdown",
      "metadata": {
        "id": "cf9lFmCToUz8"
      },
      "source": [
        "2. visualizzare il numero di record presenti relativi ad una regione inserita dall'utente"
      ]
    },
    {
      "cell_type": "code",
      "metadata": {
        "colab": {
          "base_uri": "https://localhost:8080/"
        },
        "id": "eIG3-FaMp93R",
        "outputId": "1d7eb99a-dfb3-4066-be80-489855f1cbe9"
      },
      "source": [
        "regione = str(input('inserisci il nome di una regione: '))\n",
        "df[df['nome_area'] == regione]['numero_dosi'].count()\n",
        "\n"
      ],
      "execution_count": null,
      "outputs": [
        {
          "name": "stdout",
          "output_type": "stream",
          "text": [
            "inserisci il nome di una regione: Veneto\n"
          ]
        },
        {
          "output_type": "execute_result",
          "data": {
            "text/plain": [
              "191"
            ]
          },
          "metadata": {},
          "execution_count": 36
        }
      ]
    },
    {
      "cell_type": "markdown",
      "metadata": {
        "id": "ErHRvhP0oYVJ"
      },
      "source": [
        "3. modificare l'esercizio precedente per rispondere con un messaggio appropriato se la regione non è presente"
      ]
    },
    {
      "cell_type": "code",
      "metadata": {
        "colab": {
          "base_uri": "https://localhost:8080/"
        },
        "id": "L6CKPpNDXwNi",
        "outputId": "f0cfd6cb-d90d-4782-cb9d-0fbe4ee51f89"
      },
      "source": [
        "regione = str(input('inserisci il nome di una regione: '))\n",
        "\n",
        "if df.loc[df['nome_area']==regione,'area'].count() >= 1:\n",
        "  print(df.loc[df['nome_area']==regione,'area'].count())\n",
        "else:\n",
        " print('siamo spiacenti, la regione inserita non esiste')"
      ],
      "execution_count": null,
      "outputs": [
        {
          "output_type": "stream",
          "name": "stdout",
          "text": [
            "inserisci il nome di una regione: Ciao\n",
            "siamo spiacenti, la regione inserita non esiste\n"
          ]
        }
      ]
    },
    {
      "cell_type": "markdown",
      "metadata": {
        "id": "Fx3vzHd8obD8"
      },
      "source": [
        "4. visualizzare il numero totale di vaccini consegnati in una regione inserita dall'utente"
      ]
    },
    {
      "cell_type": "code",
      "metadata": {
        "colab": {
          "base_uri": "https://localhost:8080/"
        },
        "id": "J7bviOlBso-S",
        "outputId": "63aaeb48-b6ac-4cb9-dc1d-3b363c74b365"
      },
      "source": [
        "regione = str(input('inserisci il nome di una regione: '))\n",
        "df[df['nome_area'] == regione]['numero_dosi'].sum()"
      ],
      "execution_count": null,
      "outputs": [
        {
          "name": "stdout",
          "output_type": "stream",
          "text": [
            "inserisci il nome di una regione: Lombardia\n"
          ]
        },
        {
          "output_type": "execute_result",
          "data": {
            "text/plain": [
              "17274689"
            ]
          },
          "metadata": {},
          "execution_count": 30
        }
      ]
    },
    {
      "cell_type": "markdown",
      "metadata": {
        "id": "hTmgxsxVoduH"
      },
      "source": [
        "5. visualizzare il numero di vaccini per ogni fornitore"
      ]
    },
    {
      "cell_type": "code",
      "metadata": {
        "colab": {
          "base_uri": "https://localhost:8080/"
        },
        "id": "7jJMQPqh4Tkz",
        "outputId": "b9481b39-90a3-4bfa-b44d-d804f463cc0a"
      },
      "source": [
        "df.groupby('fornitore')['numero_dosi'].sum()"
      ],
      "execution_count": null,
      "outputs": [
        {
          "output_type": "execute_result",
          "data": {
            "text/plain": [
              "fornitore\n",
              "Janssen                     1846104\n",
              "Moderna                    15235940\n",
              "Pfizer/BioNTech            71327408\n",
              "Vaxzevria (AstraZeneca)    11544591\n",
              "Name: numero_dosi, dtype: int64"
            ]
          },
          "metadata": {},
          "execution_count": 31
        }
      ]
    },
    {
      "cell_type": "markdown",
      "metadata": {
        "id": "iX8Ax8_2okfI"
      },
      "source": [
        "6. visualizzare il numero di vaccini per ogni fornitore di una regione inserita dall'utente. Ordinare in ordine\n",
        "decrescente sul numero di vaccini"
      ]
    },
    {
      "cell_type": "code",
      "metadata": {
        "colab": {
          "base_uri": "https://localhost:8080/",
          "height": 192
        },
        "id": "hTaLXuL65jCj",
        "outputId": "4b4cf931-daf0-4303-a81a-c37c18b1aa5a"
      },
      "source": [
        "regione = str(input('inserisci il nome di una regione: '))\n",
        "                  \n",
        "df2=df.groupby(['nome_area','fornitore'],as_index=False).sum().sort_values('numero_dosi',ascending=False)\n",
        "df2[df2['nome_area']==regione]"
      ],
      "execution_count": null,
      "outputs": [
        {
          "name": "stdout",
          "output_type": "stream",
          "text": [
            "inserisci il nome di una regione: Veneto\n"
          ]
        },
        {
          "output_type": "execute_result",
          "data": {
            "text/html": [
              "<div>\n",
              "<style scoped>\n",
              "    .dataframe tbody tr th:only-of-type {\n",
              "        vertical-align: middle;\n",
              "    }\n",
              "\n",
              "    .dataframe tbody tr th {\n",
              "        vertical-align: top;\n",
              "    }\n",
              "\n",
              "    .dataframe thead th {\n",
              "        text-align: right;\n",
              "    }\n",
              "</style>\n",
              "<table border=\"1\" class=\"dataframe\">\n",
              "  <thead>\n",
              "    <tr style=\"text-align: right;\">\n",
              "      <th></th>\n",
              "      <th>nome_area</th>\n",
              "      <th>fornitore</th>\n",
              "      <th>numero_dosi</th>\n",
              "      <th>codice_regione_ISTAT</th>\n",
              "    </tr>\n",
              "  </thead>\n",
              "  <tbody>\n",
              "    <tr>\n",
              "      <th>82</th>\n",
              "      <td>Veneto</td>\n",
              "      <td>Pfizer/BioNTech</td>\n",
              "      <td>5778279</td>\n",
              "      <td>375</td>\n",
              "    </tr>\n",
              "    <tr>\n",
              "      <th>81</th>\n",
              "      <td>Veneto</td>\n",
              "      <td>Moderna</td>\n",
              "      <td>1278314</td>\n",
              "      <td>175</td>\n",
              "    </tr>\n",
              "    <tr>\n",
              "      <th>83</th>\n",
              "      <td>Veneto</td>\n",
              "      <td>Vaxzevria (AstraZeneca)</td>\n",
              "      <td>929079</td>\n",
              "      <td>340</td>\n",
              "    </tr>\n",
              "    <tr>\n",
              "      <th>80</th>\n",
              "      <td>Veneto</td>\n",
              "      <td>Janssen</td>\n",
              "      <td>103000</td>\n",
              "      <td>65</td>\n",
              "    </tr>\n",
              "  </tbody>\n",
              "</table>\n",
              "</div>"
            ],
            "text/plain": [
              "   nome_area                fornitore  numero_dosi  codice_regione_ISTAT\n",
              "82    Veneto          Pfizer/BioNTech      5778279                   375\n",
              "81    Veneto                  Moderna      1278314                   175\n",
              "83    Veneto  Vaxzevria (AstraZeneca)       929079                   340\n",
              "80    Veneto                  Janssen       103000                    65"
            ]
          },
          "metadata": {},
          "execution_count": 37
        }
      ]
    },
    {
      "cell_type": "markdown",
      "metadata": {
        "id": "QC0x-mj7osYO"
      },
      "source": [
        "7. visualizzare le informazioni dell'esercizio 6 con un grafico a barre"
      ]
    },
    {
      "cell_type": "code",
      "metadata": {
        "colab": {
          "base_uri": "https://localhost:8080/",
          "height": 712
        },
        "id": "CQBUe_v-8sz1",
        "outputId": "68c2ea8f-ce5d-40c5-f027-f9f5ee7f316b"
      },
      "source": [
        "import matplotlib.pyplot as plt\n",
        "import numpy as np\n",
        "\n",
        "plt.rcParams.update({'font.size' : 20})\n",
        "fig = plt.figure(figsize=(9.6, 7.2))\n",
        "ax = plt.axes()\n",
        "fig.autofmt_xdate(rotation=90)\n",
        "\n",
        "\n",
        "fig.suptitle('Numero dosi di ogni Fornitore')\n",
        "ax.set_xlabel('Fornitore')\n",
        "ax.set_ylabel('Numero Dosi')\n",
        "\n",
        "ax.grid()\n",
        "\n",
        "ax.bar(df2['fornitore'], df2['numero_dosi'], color= 'khaki')\n",
        "\n",
        "plt.show() \n",
        "\n",
        "\n",
        "\n",
        "\n",
        "\n"
      ],
      "execution_count": null,
      "outputs": [
        {
          "output_type": "display_data",
          "data": {
            "image/png": "[encoded data removed]",
            "text/plain": [
              "<Figure size 691.2x518.4 with 1 Axes>"
            ]
          },
          "metadata": {
            "needs_background": "light"
          }
        }
      ]
    },
    {
      "cell_type": "markdown",
      "metadata": {
        "id": "2zRolHpuovj3"
      },
      "source": [
        "8. visualizzare le informazioni dell'esercizio 6 con un grafico a torta"
      ]
    },
    {
      "cell_type": "code",
      "metadata": {
        "colab": {
          "base_uri": "https://localhost:8080/",
          "height": 474
        },
        "id": "a3IJh8huddVm",
        "outputId": "8c73461c-6ae4-4cdf-e303-62bc43b983bf"
      },
      "source": [
        "df2=df.groupby(['fornitore'],as_index=False).sum().sort_values('numero_dosi',ascending=False)\n",
        "\n",
        "plt.rcParams.update({'font.size' : 20})\n",
        "fig = plt.figure(figsize=(9.6, 7.2))\n",
        "ax = plt.axes()\n",
        "\n",
        "fig.suptitle('Numero dosi di ogni Fornitore')\n",
        "\n",
        "\n",
        "\n",
        "ax.pie(df2['numero_dosi'], labels= df2['fornitore'], autopct='%.1f%%', colors=['red', 'yellow', 'purple', 'green'])\n",
        "\n",
        "plt.show() "
      ],
      "execution_count": null,
      "outputs": [
        {
          "output_type": "display_data",
          "data": {
            "image/png": "[encoded data removed]",
            "text/plain": [
              "<Figure size 691.2x518.4 with 1 Axes>"
            ]
          },
          "metadata": {}
        }
      ]
    },
    {
      "cell_type": "markdown",
      "metadata": {
        "id": "vli_P7rEoySN"
      },
      "source": [
        "9. visualizzare le informazioni dell'esercizio 6 con un grafico treemap\n"
      ]
    },
    {
      "cell_type": "code",
      "metadata": {
        "colab": {
          "base_uri": "https://localhost:8080/",
          "height": 265
        },
        "id": "H28EMFl4gm_b",
        "outputId": "a07905f8-8969-4cd0-e143-6b8c62ef0f3e"
      },
      "source": [
        "!pip install squarify\n",
        "import squarify\n",
        "\n",
        "\n",
        "df2=df.groupby(['fornitore'],as_index=False).sum().sort_values('numero_dosi',ascending=False)\n",
        "color_list = ['#0f7216', '#b2790c', '#ffe9a3', '#f9d4d4', '#d35158', '#ea3033']\n",
        "\n",
        "plt.rc('font', size=14)\n",
        "squarify.plot(sizes=df2['numero_dosi'], label=df2['fornitore'], color=color_list)\n",
        "plt.axis('Off')\n",
        "\n",
        "plt.show()"
      ],
      "execution_count": null,
      "outputs": [
        {
          "output_type": "stream",
          "name": "stdout",
          "text": [
            "Requirement already satisfied: squarify in /usr/local/lib/python3.7/dist-packages (0.4.3)\n"
          ]
        },
        {
          "output_type": "display_data",
          "data": {
            "image/png": "[encoded data removed]",
            "text/plain": [
              "<Figure size 432x288 with 1 Axes>"
            ]
          },
          "metadata": {
            "needs_background": "light"
          }
        }
      ]
    },
    {
      "cell_type": "markdown",
      "metadata": {
        "id": "f65VYNIFo1hA"
      },
      "source": [
        "10. visualizzare i nomi delle tre regioni in cui sono stati consegnati più vaccini"
      ]
    },
    {
      "cell_type": "code",
      "metadata": {
        "colab": {
          "base_uri": "https://localhost:8080/",
          "height": 143
        },
        "id": "kzIKLS_uiDsE",
        "outputId": "0691c546-91d6-45d0-b91b-9270315dd345"
      },
      "source": [
        "df.groupby(['nome_area'],as_index=False).agg({'numero_dosi':sum }).sort_values('numero_dosi',ascending=False).head(3) \n"
      ],
      "execution_count": null,
      "outputs": [
        {
          "output_type": "execute_result",
          "data": {
            "text/html": [
              "<div>\n",
              "<style scoped>\n",
              "    .dataframe tbody tr th:only-of-type {\n",
              "        vertical-align: middle;\n",
              "    }\n",
              "\n",
              "    .dataframe tbody tr th {\n",
              "        vertical-align: top;\n",
              "    }\n",
              "\n",
              "    .dataframe thead th {\n",
              "        text-align: right;\n",
              "    }\n",
              "</style>\n",
              "<table border=\"1\" class=\"dataframe\">\n",
              "  <thead>\n",
              "    <tr style=\"text-align: right;\">\n",
              "      <th></th>\n",
              "      <th>nome_area</th>\n",
              "      <th>numero_dosi</th>\n",
              "    </tr>\n",
              "  </thead>\n",
              "  <tbody>\n",
              "    <tr>\n",
              "      <th>8</th>\n",
              "      <td>Lombardia</td>\n",
              "      <td>17274689</td>\n",
              "    </tr>\n",
              "    <tr>\n",
              "      <th>6</th>\n",
              "      <td>Lazio</td>\n",
              "      <td>10332809</td>\n",
              "    </tr>\n",
              "    <tr>\n",
              "      <th>3</th>\n",
              "      <td>Campania</td>\n",
              "      <td>9179718</td>\n",
              "    </tr>\n",
              "  </tbody>\n",
              "</table>\n",
              "</div>"
            ],
            "text/plain": [
              "   nome_area  numero_dosi\n",
              "8  Lombardia     17274689\n",
              "6      Lazio     10332809\n",
              "3   Campania      9179718"
            ]
          },
          "metadata": {},
          "execution_count": 44
        }
      ]
    },
    {
      "cell_type": "markdown",
      "metadata": {
        "id": "aMaq3oZ1o4lq"
      },
      "source": [
        "11. visualizzare i nomi delle regioni in cui sono stati consegnati un numero di vaccini inferiore alla media"
      ]
    },
    {
      "cell_type": "code",
      "metadata": {
        "colab": {
          "base_uri": "https://localhost:8080/",
          "height": 426
        },
        "id": "UgAikNsliqW4",
        "outputId": "65b7b4f5-8884-4b46-889c-f785db7b7c61"
      },
      "source": [
        "df2=df.groupby(['nome_area'],as_index=False).agg({'numero_dosi':sum })\n",
        "\n",
        "df2.loc[df2['numero_dosi'] < df2['numero_dosi'].mean(),['nome_area']]"
      ],
      "execution_count": null,
      "outputs": [
        {
          "output_type": "execute_result",
          "data": {
            "text/html": [
              "<div>\n",
              "<style scoped>\n",
              "    .dataframe tbody tr th:only-of-type {\n",
              "        vertical-align: middle;\n",
              "    }\n",
              "\n",
              "    .dataframe tbody tr th {\n",
              "        vertical-align: top;\n",
              "    }\n",
              "\n",
              "    .dataframe thead th {\n",
              "        text-align: right;\n",
              "    }\n",
              "</style>\n",
              "<table border=\"1\" class=\"dataframe\">\n",
              "  <thead>\n",
              "    <tr style=\"text-align: right;\">\n",
              "      <th></th>\n",
              "      <th>nome_area</th>\n",
              "    </tr>\n",
              "  </thead>\n",
              "  <tbody>\n",
              "    <tr>\n",
              "      <th>0</th>\n",
              "      <td>Abruzzo</td>\n",
              "    </tr>\n",
              "    <tr>\n",
              "      <th>1</th>\n",
              "      <td>Basilicata</td>\n",
              "    </tr>\n",
              "    <tr>\n",
              "      <th>2</th>\n",
              "      <td>Calabria</td>\n",
              "    </tr>\n",
              "    <tr>\n",
              "      <th>5</th>\n",
              "      <td>Friuli-Venezia Giulia</td>\n",
              "    </tr>\n",
              "    <tr>\n",
              "      <th>7</th>\n",
              "      <td>Liguria</td>\n",
              "    </tr>\n",
              "    <tr>\n",
              "      <th>9</th>\n",
              "      <td>Marche</td>\n",
              "    </tr>\n",
              "    <tr>\n",
              "      <th>10</th>\n",
              "      <td>Molise</td>\n",
              "    </tr>\n",
              "    <tr>\n",
              "      <th>12</th>\n",
              "      <td>Provincia Autonoma Bolzano / Bozen</td>\n",
              "    </tr>\n",
              "    <tr>\n",
              "      <th>13</th>\n",
              "      <td>Provincia Autonoma Trento</td>\n",
              "    </tr>\n",
              "    <tr>\n",
              "      <th>15</th>\n",
              "      <td>Sardegna</td>\n",
              "    </tr>\n",
              "    <tr>\n",
              "      <th>18</th>\n",
              "      <td>Umbria</td>\n",
              "    </tr>\n",
              "    <tr>\n",
              "      <th>19</th>\n",
              "      <td>Valle d'Aosta / Vallée d'Aoste</td>\n",
              "    </tr>\n",
              "  </tbody>\n",
              "</table>\n",
              "</div>"
            ],
            "text/plain": [
              "                             nome_area\n",
              "0                              Abruzzo\n",
              "1                           Basilicata\n",
              "2                             Calabria\n",
              "5                Friuli-Venezia Giulia\n",
              "7                              Liguria\n",
              "9                               Marche\n",
              "10                              Molise\n",
              "12  Provincia Autonoma Bolzano / Bozen\n",
              "13           Provincia Autonoma Trento\n",
              "15                            Sardegna\n",
              "18                              Umbria\n",
              "19      Valle d'Aosta / Vallée d'Aoste"
            ]
          },
          "metadata": {},
          "execution_count": 45
        }
      ]
    },
    {
      "cell_type": "markdown",
      "metadata": {
        "id": "EJtxYaaso8-k"
      },
      "source": [
        "12. visualizzare il grafico delle consegne dei vaccini in Lombardia e nel Lazio. Visualizzare solo i dati delle\n",
        "consegne avvenute negli utlimi sei mesi. Fare in modo che la data sia determinata in modo automatico"
      ]
    },
    {
      "cell_type": "code",
      "metadata": {
        "colab": {
          "base_uri": "https://localhost:8080/",
          "height": 676
        },
        "id": "vCa5he4amlfD",
        "outputId": "26307075-7d78-4f11-8624-c2e21a96bf9c"
      },
      "source": [
        "import matplotlib\n",
        "import datetime\n",
        "from dateutil.relativedelta import *\n",
        "import numpy as np\n",
        "\n",
        "matplotlib.rcParams.update({'font.size': 22})\n",
        "\n",
        "df['data_consegna'] = pd.to_datetime(df['data_consegna']).dt.date\n",
        "\n",
        "data = df.groupby(['nome_area', 'data_consegna'], as_index=False).agg({'numero_dosi': 'sum'})\n",
        "data = data[(data['nome_area'] == 'Lazio') | (data['nome_area'] == 'Lombardia')]\n",
        "\n",
        "def calctime(t):\n",
        "  t = datetime.datetime.strptime(str(t), '%Y-%m-%d')\n",
        "  past = datetime.datetime.now() - relativedelta(months=6)\n",
        "  return past<t\n",
        "\n",
        "check_values = data['data_consegna'].apply(calctime)\n",
        "data = data[check_values.values == True]\n",
        "\n",
        "data['month'] = pd.to_datetime(data['data_consegna']).dt.month\n",
        "data = data.groupby(['nome_area', 'month'], as_index=False).agg({'numero_dosi': 'sum', 'data_consegna': 'first'})\n",
        "\n",
        "\n",
        "# Plot\n",
        "fig = plt.figure(figsize=(20,10))\n",
        "ax = plt.axes()\n",
        "\n",
        "lables_lombardia = data.loc[data['nome_area'] == 'Lombardia', 'month'].values\n",
        "labels_lazio = data.loc[data['nome_area'] == 'Lazio', 'month'].values\n",
        "\n",
        "values_lombardia = data.loc[data['nome_area'] == 'Lombardia', 'numero_dosi'].values\n",
        "values_lazio = data.loc[data['nome_area'] == 'Lazio', 'numero_dosi'].values\n",
        "\n",
        "ax.bar(lables_lombardia, values_lombardia, label='Lombardia', color='#00983c')\n",
        "ax.bar(labels_lazio, values_lazio, bottom=values_lombardia, label='Lazio', color='#58b6f2')\n",
        "\n",
        "fig.legend(prop={'size': 32})\n",
        "ax.set_xlabel('Mese')\n",
        "ax.set_ylabel('Dosi Vaccini')\n",
        "ax.set_ylim([0, 10000000])\n",
        "ax.set_yticklabels(np.arange(0, 10000001, step=1000000))\n",
        "ax.set_yticks(np.arange(0, 10000001, step=1000000))\n",
        "ax.set_xticklabels([])\n",
        "\n",
        "plt.show()"
      ],
      "execution_count": null,
      "outputs": [
        {
          "output_type": "display_data",
          "data": {
            "image/png": "[encoded data removed]",
            "text/plain": [
              "<Figure size 1440x720 with 1 Axes>"
            ]
          },
          "metadata": {
            "needs_background": "light"
          }
        }
      ]
    }
  ]
}