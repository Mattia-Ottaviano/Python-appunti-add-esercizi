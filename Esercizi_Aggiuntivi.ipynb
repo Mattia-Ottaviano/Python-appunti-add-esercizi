{
  "nbformat": 4,
  "nbformat_minor": 0,
  "metadata": {
    "colab": {
      "name": "Esercizi Aggiuntivi.ipynb",
      "provenance": [],
      "collapsed_sections": []
    },
    "kernelspec": {
      "name": "python3",
      "display_name": "Python 3"
    },
    "language_info": {
      "name": "python"
    }
  },
  "cells": [
    {
      "cell_type": "markdown",
      "metadata": {
        "id": "AyWPZKstvMIM"
      },
      "source": [
        "scrivere un programma che data una data nella forma gg/mm/aaaa visualizzi separatamente il giorno, il mese e l’anno"
      ]
    },
    {
      "cell_type": "code",
      "metadata": {
        "colab": {
          "base_uri": "https://localhost:8080/"
        },
        "id": "6JJyj51avDLI",
        "outputId": "3e8a0eda-5ec2-4bc8-f754-ac81d9763d6d"
      },
      "source": [
        "print(\"15\",\"09\",\"2005\",sep='/') \n"
      ],
      "execution_count": null,
      "outputs": [
        {
          "output_type": "stream",
          "name": "stdout",
          "text": [
            "15/09/2005\n"
          ]
        }
      ]
    },
    {
      "cell_type": "markdown",
      "metadata": {
        "id": "_5DzQHQRw1-s"
      },
      "source": [
        "scrivere un programma che permetta di stabilire se un numero dispari è divisibile per 5. L’utente inserisce il numero e il programma, una volta controllato che sia dispari, controlla anche se è divisibile per 5.\n"
      ]
    },
    {
      "cell_type": "code",
      "metadata": {
        "id": "B0fGd6pow6F9",
        "colab": {
          "base_uri": "https://localhost:8080/"
        },
        "outputId": "0c64159a-32b7-471a-d97e-9ab53e093e07"
      },
      "source": [
        "n = int(input(\"Inserisci il Numero: \"))\n",
        "if n%2 == 1 and n%5 == 0:\n",
        "    print('è divisibile per 5')\n",
        "else:\n",
        "    print('non è divisibile per 5')\n"
      ],
      "execution_count": null,
      "outputs": [
        {
          "output_type": "stream",
          "name": "stdout",
          "text": [
            "Inserisci il Numero: 75\n",
            "è divisibile per 5\n"
          ]
        }
      ]
    },
    {
      "cell_type": "markdown",
      "metadata": {
        "id": "u0JTf4AGLz1E"
      },
      "source": [
        "scrivere un programma per verificare se una parola comincia e finisce con la stessa lettera."
      ]
    },
    {
      "cell_type": "code",
      "metadata": {
        "colab": {
          "base_uri": "https://localhost:8080/"
        },
        "id": "wf6SSyFXL2zT",
        "outputId": "0ca50dd3-4a72-44c8-d9dd-1e94b26d7ff4"
      },
      "source": [
        "parola = input('inserisci la parola: ')\n",
        "if parola[0] == parola[-1]:\n",
        "   print('la prima e ultima lettera sono UGUALI')\n",
        "else:\n",
        "   print('la prima e ultima lettera NON sono UGUALI')\n"
      ],
      "execution_count": null,
      "outputs": [
        {
          "output_type": "stream",
          "name": "stdout",
          "text": [
            "inserisci la parola: argento\n",
            "la prima e ultima lettera NON sono UGUALI\n"
          ]
        }
      ]
    },
    {
      "cell_type": "markdown",
      "metadata": {
        "id": "S8aYXuVAOxKF"
      },
      "source": [
        "scrivere un programma che permetta di caricare una lista di parole e che elimini dalla lista tutte le parole che iniziano con una lettera inserita dall’utente\n"
      ]
    },
    {
      "cell_type": "code",
      "metadata": {
        "colab": {
          "base_uri": "https://localhost:8080/"
        },
        "id": "PR06S8aGO2gF",
        "outputId": "10a2cf04-e813-4e13-cc64-c6a6b09205ef"
      },
      "source": [
        "lista1 = [parola for parola in input('inserire parole: ').split()]\n",
        "lettera = input('inserisci la lettera: ')\n",
        "print(lista1)\n",
        "for parola in lista1:\n",
        "  if parola[0] == lettera:\n",
        "    lista1.remove(parola)\n",
        "print(lista1)"
      ],
      "execution_count": null,
      "outputs": [
        {
          "output_type": "stream",
          "name": "stdout",
          "text": [
            "inserire parole: ciao come stai\n",
            "inserisci la lettera: c\n",
            "['ciao', 'come', 'stai']\n",
            "['come', 'stai']\n"
          ]
        }
      ]
    },
    {
      "cell_type": "markdown",
      "metadata": {
        "id": "HSRl2ZIpX2Ar"
      },
      "source": [
        "scrivere una funzione che data una parola restituisca la stessa parola senza le vocali\n"
      ]
    },
    {
      "cell_type": "code",
      "metadata": {
        "id": "swmIsr-oX6ZX"
      },
      "source": [
        "vocali = ('a', 'e', 'i','o','u')\n",
        "parola = [lettera for lettera in input('inserire parola: ')]\n",
        "\n",
        "def RemoveVowels(parola):\n",
        " for lettera in parola:\n",
        "  if lettera in vocali:\n",
        "    parola.remove(lettera)\n",
        "RemoveVowels(parola)\n",
        "print(parola)\n",
        "   \n",
        "\n",
        "\n",
        "\n",
        "\n"
      ],
      "execution_count": null,
      "outputs": []
    },
    {
      "cell_type": "code",
      "metadata": {
        "colab": {
          "base_uri": "https://localhost:8080/"
        },
        "id": "3k5vn3_tOJOS",
        "outputId": "36722a21-fbc0-419b-e65b-e86c01ace514"
      },
      "source": [
        "parola = [lettera for lettera in input('inserire parola: ')]\n",
        "\n",
        "def RemoveVowels(parola):\n",
        "  return str(list(filter(lambda x: not(x in set('aeiou')), parola)))\n",
        "print(RemoveVowels(parola))"
      ],
      "execution_count": null,
      "outputs": [
        {
          "output_type": "stream",
          "name": "stdout",
          "text": [
            "inserire parola: ciao\n",
            "['c']\n"
          ]
        }
      ]
    },
    {
      "cell_type": "markdown",
      "metadata": {
        "id": "7LiXDcF1fhoT"
      },
      "source": [
        "scrivere un programma che utilizzando la funzione precedente elimini da una frase composta da più parole tutte le vocali\n"
      ]
    },
    {
      "cell_type": "code",
      "metadata": {
        "id": "Ce4ozqh5flH2"
      },
      "source": [
        "frase = [parola for parola in input('inserire frase: ').split()]\n"
      ],
      "execution_count": null,
      "outputs": []
    },
    {
      "cell_type": "markdown",
      "metadata": {
        "id": "gQdiOUw5flhR"
      },
      "source": [
        "scrivere un programma che utilizzando una lambda function  sostituisca ad ogni elemento di una lista di parole la lunghezza delle parole stesse. Ad esempio se la lista fosse [‘mamma’, ‘stella’, ‘casa’] la lista finale dovrebbe essere [5, 5, 4]\n"
      ]
    },
    {
      "cell_type": "code",
      "metadata": {
        "id": "SYbVyO7EfowB",
        "colab": {
          "base_uri": "https://localhost:8080/"
        },
        "outputId": "9c6dbf86-0285-496c-e771-91fd647b2ab9"
      },
      "source": [
        "lst1 = [elemento for elemento in input(\"Inserisci lista: \").split()]\n",
        "print(lst1)\n",
        "lst2 = list(map(lambda x: len(x), lst1))\n",
        "print(lst2)\n",
        "\n"
      ],
      "execution_count": null,
      "outputs": [
        {
          "output_type": "stream",
          "name": "stdout",
          "text": [
            "Inserisci lista: ciao come stai\n",
            "['ciao', 'come', 'stai']\n",
            "[4, 4, 4]\n"
          ]
        }
      ]
    },
    {
      "cell_type": "markdown",
      "metadata": {
        "id": "ITzvWCbd7xsm"
      },
      "source": [
        "scrivere un programma che utilizzando una lambda function elimini da una lista di parole tutte quelle più corte di un valore inserito dall’utente.  Ad esempio se la lista fosse [‘tre’, ‘stella’, ‘casa’] e l’utente inserisse il valore 5, la lista finale dovrebbe essere [‘stella’]\n"
      ]
    },
    {
      "cell_type": "code",
      "metadata": {
        "colab": {
          "base_uri": "https://localhost:8080/"
        },
        "id": "OJV3Aqe870LY",
        "outputId": "003a4a8c-f34a-48af-81b4-6c8ae51dbc6d"
      },
      "source": [
        "lst3 = [elemento for elemento in input(\"Inserisci lista: \").split()]\n",
        "valore = int(input(\"inserisci valore: \"))\n",
        "lst4 = list(filter(lambda x: len(x) >= valore, lst3 ))\n",
        "print(lst4)"
      ],
      "execution_count": null,
      "outputs": [
        {
          "output_type": "stream",
          "name": "stdout",
          "text": [
            "Inserisci lista: ciao papetino\n",
            "inserisci valore: 8\n",
            "['papetino']\n"
          ]
        }
      ]
    },
    {
      "cell_type": "markdown",
      "metadata": {
        "id": "BbxojiDu973z"
      },
      "source": [
        "MilanoSport propone corsi di nuoto e vuole memorizzare i nomi dei corsi e i cognomi delle persone che partecipano a quel corso. Caricare in una struttura dati apposita i nomi dei corsi (solo due nomi) e i cognomi dei partecipanti (solo due cognomi) e permettere di avere i cognomi dei partecipanti di un determinato corso inserito dall’utente. "
      ]
    },
    {
      "cell_type": "code",
      "metadata": {
        "colab": {
          "base_uri": "https://localhost:8080/"
        },
        "id": "OPn9fmMa996W",
        "outputId": "0c9dddc3-df8e-48cf-c479-e930a4c305ae"
      },
      "source": [
        "CorsiNuoto = [{'nome': 'acquagim', 'cognome': 'ottaviano'},\n",
        "             {'nome': 'nuoto libero', 'cognome': 'ricciardi'}]\n",
        "\n",
        "Nome = input('Inserisci Corso: ')\n",
        "\n",
        "for corso in CorsiNuoto:\n",
        "  if corso['nome'] == Nome:\n",
        "    print(corso['cognome'])\n",
        "          "
      ],
      "execution_count": null,
      "outputs": [
        {
          "output_type": "stream",
          "name": "stdout",
          "text": [
            "Inserisci Corso: nuoto libero\n",
            "ricciardi\n"
          ]
        }
      ]
    },
    {
      "cell_type": "markdown",
      "metadata": {
        "id": "uIW3wmVDrAnX"
      },
      "source": [
        "scrivere un programma che dato un indirizzo email nella forma nome.cognome@dominio visualizzi separatamente il nome, il cognome e il dominio\n"
      ]
    },
    {
      "cell_type": "code",
      "metadata": {
        "colab": {
          "base_uri": "https://localhost:8080/"
        },
        "id": "YbkHt1korMxJ",
        "outputId": "8a31892e-42e4-46b2-9ce6-94873ad0cc6c"
      },
      "source": [
        "print('mattia.','ottaviano','@gmail.com', sep=' ')"
      ],
      "execution_count": null,
      "outputs": [
        {
          "output_type": "stream",
          "name": "stdout",
          "text": [
            "mattia. ottaviano @gmail.com\n"
          ]
        }
      ]
    },
    {
      "cell_type": "markdown",
      "metadata": {
        "id": "ZDWuSj1Yr8Jq"
      },
      "source": [
        "scrivere un programma che permetta di stabilire se un numero pari è divisibile per 6. L’utente inserisce il numero e il programma, una volta controllato che sia pari, controlla anche se è divisibile per 6.\n"
      ]
    },
    {
      "cell_type": "code",
      "metadata": {
        "colab": {
          "base_uri": "https://localhost:8080/"
        },
        "id": "9Ei8yQHFr-Jw",
        "outputId": "a795e587-b1e1-46fd-f997-3040790c2742"
      },
      "source": [
        "num = int(input(\"inserisci numero: \"))\n",
        "if num%2 == 0 and num%6 == 0:\n",
        "  print('il numero è corretto: %d' %num )\n",
        "else:\n",
        "  print('numero non corretto')"
      ],
      "execution_count": null,
      "outputs": [
        {
          "output_type": "stream",
          "name": "stdout",
          "text": [
            "inserisci numero: 6\n",
            "il numero è corretto: 6\n"
          ]
        }
      ]
    },
    {
      "cell_type": "markdown",
      "metadata": {
        "id": "vPqaJ838tE1D"
      },
      "source": [
        "scrivere un programma per verificare se una parola contiene solo vocali.\n"
      ]
    },
    {
      "cell_type": "code",
      "metadata": {
        "colab": {
          "base_uri": "https://localhost:8080/"
        },
        "id": "fc3IlQTxtG56",
        "outputId": "c7b8edb9-d95f-4aa7-f053-85c7fbcf7974"
      },
      "source": [
        "parola = [lettera for lettera in input('inserisci parola: ')]\n",
        "vocali = ('a', 'e', 'i', 'o','u')\n",
        "def Vocali(parola):\n",
        " for lettera in parola:\n",
        "  if lettera in vocali:\n",
        "    print('contiene solo vocali')\n",
        "  else: \n",
        "    print('NON contiene solo vocali')\n",
        "Vocali(parola)\n"
      ],
      "execution_count": null,
      "outputs": [
        {
          "output_type": "stream",
          "name": "stdout",
          "text": [
            "inserisci parola: cioa\n",
            "['c', 'i', 'o', 'a']\n",
            "['c', 'i', 'o', 'a']\n",
            "['c', 'i', 'o', 'a']\n"
          ]
        }
      ]
    },
    {
      "cell_type": "markdown",
      "metadata": {
        "id": "CJ3lveQZ2MpU"
      },
      "source": [
        "scrivere un programma che permetta di caricare una lista di parole e che elimini dalla lista tutte le parole più lunghe di un valore inserito dall’utente\n"
      ]
    },
    {
      "cell_type": "code",
      "metadata": {
        "colab": {
          "base_uri": "https://localhost:8080/"
        },
        "id": "kjquHn6f2P61",
        "outputId": "e4428aba-b631-460e-8d62-604bbc1ea66d"
      },
      "source": [
        "lst5 = [elemento for elemento in input(\"Inserisci lista: \").split()]\n",
        "valore = int(input(\"inserisci valore: \"))\n",
        "lst6 = list(filter(lambda x: len(x) <= valore, lst5 ))\n",
        "print(lst6)\n",
        "\n",
        "\n",
        " "
      ],
      "execution_count": null,
      "outputs": [
        {
          "output_type": "stream",
          "name": "stdout",
          "text": [
            "Inserisci lista: ciao paperino\n",
            "inserisci valore: 4\n",
            "['ciao']\n"
          ]
        }
      ]
    },
    {
      "cell_type": "markdown",
      "metadata": {
        "id": "3jMceDkJ5nJ5"
      },
      "source": [
        "scrivere una funzione che data una parola restituisca la stessa parola con i caratteri separati da uno spazio\n"
      ]
    },
    {
      "cell_type": "code",
      "metadata": {
        "colab": {
          "base_uri": "https://localhost:8080/"
        },
        "id": "IRvaTAPL5pz_",
        "outputId": "c187c442-9d97-4d52-ca8d-ac931050c33c"
      },
      "source": [
        "lista1 = [lettera for lettera in str(input('inserisci parola: '))]\n",
        "lista2 = list(map(lambda x: x.split()[0], lista1))\n",
        "print(lista2)\n",
        "    "
      ],
      "execution_count": null,
      "outputs": [
        {
          "output_type": "stream",
          "name": "stdout",
          "text": [
            "inserisci parola: ciao\n",
            "['c', 'i', 'a', 'o']\n"
          ]
        }
      ]
    },
    {
      "cell_type": "markdown",
      "metadata": {
        "id": "Mww87W2G9bOQ"
      },
      "source": [
        "scrivere un programma che utilizzando la funzione precedente inserisca uno spazio tra i caratteri di tutte le parole presenti in una stringa\n"
      ]
    },
    {
      "cell_type": "code",
      "metadata": {
        "id": "-M1cEC_Y9lYn"
      },
      "source": [
        ""
      ],
      "execution_count": null,
      "outputs": []
    },
    {
      "cell_type": "code",
      "metadata": {
        "id": "SwceqCCd94QZ"
      },
      "source": [
        ""
      ],
      "execution_count": null,
      "outputs": []
    },
    {
      "cell_type": "markdown",
      "metadata": {
        "id": "SCUTKW4f94W-"
      },
      "source": [
        "scrivere un programma che utilizzando una lambda function  sostituisca ad ogni elemento di una lista di parole la lunghezza delle parole stesse. Ad esempio se la lista fosse [‘mamma’, ‘stella’, ‘casa’] la lista finale dovrebbe essere [5, 5, 4]\n"
      ]
    },
    {
      "cell_type": "code",
      "metadata": {
        "colab": {
          "base_uri": "https://localhost:8080/"
        },
        "id": "f4CHCpgs97AG",
        "outputId": "1cf69d96-9aa3-4e41-dc04-ad4961a43e2f"
      },
      "source": [
        "lista3 = [parola for parola in input('inserisci la lista: ').split()]\n",
        "print(lista3)\n",
        "lista4 = list(map(lambda x: len(x), lista3))\n",
        "print(lista4)"
      ],
      "execution_count": null,
      "outputs": [
        {
          "output_type": "stream",
          "name": "stdout",
          "text": [
            "inserisci la lista: ciao mamma\n",
            "['ciao', 'mamma']\n",
            "[4, 5]\n"
          ]
        }
      ]
    },
    {
      "cell_type": "markdown",
      "metadata": {
        "id": "zpPj8z_N_G2F"
      },
      "source": [
        "scrivere un programma che utilizzando una lambda function elimini da una lista di parole tutte quelle più corte di un valore inserito dall’utente.  Ad esempio se la lista fosse [‘tre’, ‘stella’, ‘casa’] e l’utente inserisse il valore 5, la lista finale dovrebbe essere [‘stella’]\n"
      ]
    },
    {
      "cell_type": "code",
      "metadata": {
        "colab": {
          "base_uri": "https://localhost:8080/"
        },
        "id": "swUJLciY_Jv_",
        "outputId": "61720f4f-2a8a-4b7b-ec73-7e3e41b5fee5"
      },
      "source": [
        "lista4 = [parola for parola in input('inserisci la lista: ').split()]\n",
        "valore = int(input('inserisci valore: '))\n",
        "lista5 = list(filter(lambda x: len(x) >= valore, lista4 ))\n",
        "print(lista5)\n"
      ],
      "execution_count": null,
      "outputs": [
        {
          "output_type": "stream",
          "name": "stdout",
          "text": [
            "inserisci la lista: caio peppino\n",
            "inserisci valore: 7\n",
            "['peppino']\n"
          ]
        }
      ]
    },
    {
      "cell_type": "markdown",
      "metadata": {
        "id": "4tz_0oaEA0NB"
      },
      "source": [
        "Il centro vaccinale Covid di Milano vuole memorizzare le informazioni dei cittadini che si sono vaccinati. Le informazioni da inserire sono il codice fiscale del cittadino, le date in cui ha fatto la vaccinazione e il vaccino utilizzato. Caricare in una struttura dati apposita i codici fiscali dei cittadini (solo due codici) e le vaccinazioni effettuate (solo due vaccinazioni) e permettere di avere le informazioni relative ad un cittadino di cui si inserisce il codice fiscle. Inventare ovviamente tutte le informazioni.\n"
      ]
    },
    {
      "cell_type": "code",
      "metadata": {
        "colab": {
          "base_uri": "https://localhost:8080/"
        },
        "id": "0JJcsQUkA2s_",
        "outputId": "000d43b1-64f8-4490-fc56-03ec05915316"
      },
      "source": [
        "Informazioni = [{'codice fiscale': 'TTVCECIHEBFEH038F', 'data': '23/09/2021', 'tipo di vaccino': 'p fizer'},\n",
        "                {'codice fiscale': 'TTVCJTFHF456BS3G2', 'data': '23/10/2021', 'tipo di vaccino': 'jonson'}]\n",
        "\n",
        "Nome = input('Inserisci Codice: ')\n",
        "\n",
        "for Codice in Informazioni:\n",
        "  if Codice['codice fiscale'] == Nome:\n",
        "    print(Codice['data'], Codice['tipo di vaccino'])\n"
      ],
      "execution_count": null,
      "outputs": [
        {
          "output_type": "stream",
          "name": "stdout",
          "text": [
            "Inserisci Codice: TTVCECIHEBFEH038F\n",
            "23/09/2021 p fizer\n"
          ]
        }
      ]
    }
  ]
}