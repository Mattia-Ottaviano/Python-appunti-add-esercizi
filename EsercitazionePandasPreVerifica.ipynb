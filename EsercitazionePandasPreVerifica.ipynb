{
  "nbformat": 4,
  "nbformat_minor": 0,
  "metadata": {
    "colab": {
      "name": "EsercitazionePandasPreVerifica.ipynb",
      "provenance": [],
      "collapsed_sections": []
    },
    "kernelspec": {
      "name": "python3",
      "display_name": "Python 3"
    },
    "language_info": {
      "name": "python"
    }
  },
  "cells": [
    {
      "cell_type": "markdown",
      "metadata": {
        "id": "JfSR7OmIQA0n"
      },
      "source": [
        "1. caricare i dati in un dataframe e studiare le informazioni inserite per capire di che cosa si tratta"
      ]
    },
    {
      "cell_type": "code",
      "metadata": {
        "colab": {
          "base_uri": "https://localhost:8080/",
          "height": 762
        },
        "id": "yU0u4jT9PXcK",
        "outputId": "32f1d0a0-1479-4232-f6fc-f89ad115027c"
      },
      "source": [
        "import pandas as pd\n",
        "\n",
        "df = pd.read_csv('https://raw.githubusercontent.com/CappuCitti/Python-appunti-ed-esercizi/main/Pandas/Data/uffici_postali_milano.csv')\n",
        "df"
      ],
      "execution_count": null,
      "outputs": [
        {
          "output_type": "execute_result",
          "data": {
            "text/html": [
              "<div>\n",
              "<style scoped>\n",
              "    .dataframe tbody tr th:only-of-type {\n",
              "        vertical-align: middle;\n",
              "    }\n",
              "\n",
              "    .dataframe tbody tr th {\n",
              "        vertical-align: top;\n",
              "    }\n",
              "\n",
              "    .dataframe thead th {\n",
              "        text-align: right;\n",
              "    }\n",
              "</style>\n",
              "<table border=\"1\" class=\"dataframe\">\n",
              "  <thead>\n",
              "    <tr style=\"text-align: right;\">\n",
              "      <th></th>\n",
              "      <th>Indirizzo</th>\n",
              "      <th>Telefono</th>\n",
              "      <th>Fax</th>\n",
              "      <th>CAP</th>\n",
              "      <th>MUNICIPIO</th>\n",
              "      <th>ID_NIL</th>\n",
              "      <th>NIL</th>\n",
              "      <th>LONG_X_4326</th>\n",
              "      <th>LAT_Y_4326</th>\n",
              "      <th>Location</th>\n",
              "    </tr>\n",
              "  </thead>\n",
              "  <tbody>\n",
              "    <tr>\n",
              "      <th>0</th>\n",
              "      <td>BASTIONI DI PORTA VOLTA 7</td>\n",
              "      <td>02-6572655</td>\n",
              "      <td>02-29002004</td>\n",
              "      <td>20121</td>\n",
              "      <td>1</td>\n",
              "      <td>2</td>\n",
              "      <td>BRERA</td>\n",
              "      <td>9.182151</td>\n",
              "      <td>45.479601</td>\n",
              "      <td>(45.47960100000006;9.182151000000033)</td>\n",
              "    </tr>\n",
              "    <tr>\n",
              "      <th>1</th>\n",
              "      <td>CORSO DI PORTA VIGENTINA 35</td>\n",
              "      <td>02-58320771</td>\n",
              "      <td>02-58319779</td>\n",
              "      <td>20122</td>\n",
              "      <td>1</td>\n",
              "      <td>5</td>\n",
              "      <td>PORTA VIGENTINA - PORTA LODOVICA</td>\n",
              "      <td>9.196520</td>\n",
              "      <td>45.452538</td>\n",
              "      <td>(45.45253800000006;9.196519500000022)</td>\n",
              "    </tr>\n",
              "    <tr>\n",
              "      <th>2</th>\n",
              "      <td>CORSO ITALI 16</td>\n",
              "      <td>02-804336</td>\n",
              "      <td>02-86454450</td>\n",
              "      <td>20122</td>\n",
              "      <td>1</td>\n",
              "      <td>1</td>\n",
              "      <td>DUOMO</td>\n",
              "      <td>9.187470</td>\n",
              "      <td>45.457893</td>\n",
              "      <td>(45.45789300000007;9.187470000000076)</td>\n",
              "    </tr>\n",
              "    <tr>\n",
              "      <th>3</th>\n",
              "      <td>CORSO SEMPIONE 94</td>\n",
              "      <td>NaN</td>\n",
              "      <td>NaN</td>\n",
              "      <td>20154</td>\n",
              "      <td>8</td>\n",
              "      <td>69</td>\n",
              "      <td>SARPI</td>\n",
              "      <td>9.158508</td>\n",
              "      <td>45.486540</td>\n",
              "      <td>(45.48654000000005;9.15850800000004)</td>\n",
              "    </tr>\n",
              "    <tr>\n",
              "      <th>4</th>\n",
              "      <td>CORSO VENEZIA 42</td>\n",
              "      <td>02-76023056</td>\n",
              "      <td>02-7837251</td>\n",
              "      <td>20121</td>\n",
              "      <td>1</td>\n",
              "      <td>4</td>\n",
              "      <td>GUASTALLA</td>\n",
              "      <td>9.202703</td>\n",
              "      <td>45.471861</td>\n",
              "      <td>(45.47186100000005;9.202702500000044)</td>\n",
              "    </tr>\n",
              "    <tr>\n",
              "      <th>...</th>\n",
              "      <td>...</td>\n",
              "      <td>...</td>\n",
              "      <td>...</td>\n",
              "      <td>...</td>\n",
              "      <td>...</td>\n",
              "      <td>...</td>\n",
              "      <td>...</td>\n",
              "      <td>...</td>\n",
              "      <td>...</td>\n",
              "      <td>...</td>\n",
              "    </tr>\n",
              "    <tr>\n",
              "      <th>77</th>\n",
              "      <td>VIALE GORIZIA 6</td>\n",
              "      <td>02-8358241</td>\n",
              "      <td>02-8373830</td>\n",
              "      <td>20144</td>\n",
              "      <td>6</td>\n",
              "      <td>44</td>\n",
              "      <td>PORTA TICINESE - CONCHETTA</td>\n",
              "      <td>9.173156</td>\n",
              "      <td>45.454518</td>\n",
              "      <td>(45.454518000000064;9.173155500000064)</td>\n",
              "    </tr>\n",
              "    <tr>\n",
              "      <th>78</th>\n",
              "      <td>VIALE MONTE CENERI SNC</td>\n",
              "      <td>02-32671911</td>\n",
              "      <td>02-32671947</td>\n",
              "      <td>20155</td>\n",
              "      <td>8</td>\n",
              "      <td>71</td>\n",
              "      <td>VILLAPIZZONE - CAGNOLA - BOLDINASCO</td>\n",
              "      <td>9.153592</td>\n",
              "      <td>45.491568</td>\n",
              "      <td>(45.49156751800007;9.153591732000052)</td>\n",
              "    </tr>\n",
              "    <tr>\n",
              "      <th>79</th>\n",
              "      <td>VIALE SABOTINO 21/A</td>\n",
              "      <td>02-58457911</td>\n",
              "      <td>02-58457947</td>\n",
              "      <td>20135</td>\n",
              "      <td>5</td>\n",
              "      <td>27</td>\n",
              "      <td>PTA ROMANA</td>\n",
              "      <td>9.200174</td>\n",
              "      <td>45.451017</td>\n",
              "      <td>(45.451017000000036;9.200173500000062)</td>\n",
              "    </tr>\n",
              "    <tr>\n",
              "      <th>80</th>\n",
              "      <td>VIALE SAN GIMIGNANO 10</td>\n",
              "      <td>02-41411311</td>\n",
              "      <td>02-41411347</td>\n",
              "      <td>20146</td>\n",
              "      <td>6</td>\n",
              "      <td>52</td>\n",
              "      <td>BANDE NERE</td>\n",
              "      <td>9.136526</td>\n",
              "      <td>45.455868</td>\n",
              "      <td>(45.455868000000066;9.136525500000062)</td>\n",
              "    </tr>\n",
              "    <tr>\n",
              "      <th>81</th>\n",
              "      <td>VIALE ZARA 131</td>\n",
              "      <td>02-69911111</td>\n",
              "      <td>02-69911147</td>\n",
              "      <td>20159</td>\n",
              "      <td>9</td>\n",
              "      <td>12</td>\n",
              "      <td>MACIACHINI - MAGGIOLINA</td>\n",
              "      <td>9.196686</td>\n",
              "      <td>45.500193</td>\n",
              "      <td>(45.50019300000008;9.196686000000057)</td>\n",
              "    </tr>\n",
              "  </tbody>\n",
              "</table>\n",
              "<p>82 rows × 10 columns</p>\n",
              "</div>"
            ],
            "text/plain": [
              "                      Indirizzo  ...                                Location\n",
              "0     BASTIONI DI PORTA VOLTA 7  ...   (45.47960100000006;9.182151000000033)\n",
              "1   CORSO DI PORTA VIGENTINA 35  ...   (45.45253800000006;9.196519500000022)\n",
              "2                CORSO ITALI 16  ...   (45.45789300000007;9.187470000000076)\n",
              "3             CORSO SEMPIONE 94  ...    (45.48654000000005;9.15850800000004)\n",
              "4              CORSO VENEZIA 42  ...   (45.47186100000005;9.202702500000044)\n",
              "..                          ...  ...                                     ...\n",
              "77              VIALE GORIZIA 6  ...  (45.454518000000064;9.173155500000064)\n",
              "78       VIALE MONTE CENERI SNC  ...   (45.49156751800007;9.153591732000052)\n",
              "79          VIALE SABOTINO 21/A  ...  (45.451017000000036;9.200173500000062)\n",
              "80       VIALE SAN GIMIGNANO 10  ...  (45.455868000000066;9.136525500000062)\n",
              "81               VIALE ZARA 131  ...   (45.50019300000008;9.196686000000057)\n",
              "\n",
              "[82 rows x 10 columns]"
            ]
          },
          "metadata": {},
          "execution_count": 5
        }
      ]
    },
    {
      "cell_type": "markdown",
      "metadata": {
        "id": "5FDWH4Z1QTdH"
      },
      "source": [
        "2. visualizzare solo la prima colonna"
      ]
    },
    {
      "cell_type": "code",
      "metadata": {
        "colab": {
          "base_uri": "https://localhost:8080/",
          "height": 419
        },
        "id": "g4nwKQ8pQi2_",
        "outputId": "d12d18c6-73b7-42a1-8e5d-c3f15e399f7b"
      },
      "source": [
        "df[['Indirizzo']]"
      ],
      "execution_count": null,
      "outputs": [
        {
          "output_type": "execute_result",
          "data": {
            "text/html": [
              "<div>\n",
              "<style scoped>\n",
              "    .dataframe tbody tr th:only-of-type {\n",
              "        vertical-align: middle;\n",
              "    }\n",
              "\n",
              "    .dataframe tbody tr th {\n",
              "        vertical-align: top;\n",
              "    }\n",
              "\n",
              "    .dataframe thead th {\n",
              "        text-align: right;\n",
              "    }\n",
              "</style>\n",
              "<table border=\"1\" class=\"dataframe\">\n",
              "  <thead>\n",
              "    <tr style=\"text-align: right;\">\n",
              "      <th></th>\n",
              "      <th>Indirizzo</th>\n",
              "    </tr>\n",
              "  </thead>\n",
              "  <tbody>\n",
              "    <tr>\n",
              "      <th>0</th>\n",
              "      <td>BASTIONI DI PORTA VOLTA 7</td>\n",
              "    </tr>\n",
              "    <tr>\n",
              "      <th>1</th>\n",
              "      <td>CORSO DI PORTA VIGENTINA 35</td>\n",
              "    </tr>\n",
              "    <tr>\n",
              "      <th>2</th>\n",
              "      <td>CORSO ITALI 16</td>\n",
              "    </tr>\n",
              "    <tr>\n",
              "      <th>3</th>\n",
              "      <td>CORSO SEMPIONE 94</td>\n",
              "    </tr>\n",
              "    <tr>\n",
              "      <th>4</th>\n",
              "      <td>CORSO VENEZIA 42</td>\n",
              "    </tr>\n",
              "    <tr>\n",
              "      <th>...</th>\n",
              "      <td>...</td>\n",
              "    </tr>\n",
              "    <tr>\n",
              "      <th>77</th>\n",
              "      <td>VIALE GORIZIA 6</td>\n",
              "    </tr>\n",
              "    <tr>\n",
              "      <th>78</th>\n",
              "      <td>VIALE MONTE CENERI SNC</td>\n",
              "    </tr>\n",
              "    <tr>\n",
              "      <th>79</th>\n",
              "      <td>VIALE SABOTINO 21/A</td>\n",
              "    </tr>\n",
              "    <tr>\n",
              "      <th>80</th>\n",
              "      <td>VIALE SAN GIMIGNANO 10</td>\n",
              "    </tr>\n",
              "    <tr>\n",
              "      <th>81</th>\n",
              "      <td>VIALE ZARA 131</td>\n",
              "    </tr>\n",
              "  </tbody>\n",
              "</table>\n",
              "<p>82 rows × 1 columns</p>\n",
              "</div>"
            ],
            "text/plain": [
              "                      Indirizzo\n",
              "0     BASTIONI DI PORTA VOLTA 7\n",
              "1   CORSO DI PORTA VIGENTINA 35\n",
              "2                CORSO ITALI 16\n",
              "3             CORSO SEMPIONE 94\n",
              "4              CORSO VENEZIA 42\n",
              "..                          ...\n",
              "77              VIALE GORIZIA 6\n",
              "78       VIALE MONTE CENERI SNC\n",
              "79          VIALE SABOTINO 21/A\n",
              "80       VIALE SAN GIMIGNANO 10\n",
              "81               VIALE ZARA 131\n",
              "\n",
              "[82 rows x 1 columns]"
            ]
          },
          "metadata": {},
          "execution_count": 6
        }
      ]
    },
    {
      "cell_type": "markdown",
      "metadata": {
        "id": "nEO5-s8iQ4oZ"
      },
      "source": [
        "3. visualizzare solo l'ultima colonna"
      ]
    },
    {
      "cell_type": "code",
      "metadata": {
        "colab": {
          "base_uri": "https://localhost:8080/",
          "height": 419
        },
        "id": "qnCFN8d_Q7FJ",
        "outputId": "63e58040-eae0-401a-8ea8-32b206a988c2"
      },
      "source": [
        "df[['Location']]"
      ],
      "execution_count": null,
      "outputs": [
        {
          "output_type": "execute_result",
          "data": {
            "text/html": [
              "<div>\n",
              "<style scoped>\n",
              "    .dataframe tbody tr th:only-of-type {\n",
              "        vertical-align: middle;\n",
              "    }\n",
              "\n",
              "    .dataframe tbody tr th {\n",
              "        vertical-align: top;\n",
              "    }\n",
              "\n",
              "    .dataframe thead th {\n",
              "        text-align: right;\n",
              "    }\n",
              "</style>\n",
              "<table border=\"1\" class=\"dataframe\">\n",
              "  <thead>\n",
              "    <tr style=\"text-align: right;\">\n",
              "      <th></th>\n",
              "      <th>Location</th>\n",
              "    </tr>\n",
              "  </thead>\n",
              "  <tbody>\n",
              "    <tr>\n",
              "      <th>0</th>\n",
              "      <td>(45.47960100000006;9.182151000000033)</td>\n",
              "    </tr>\n",
              "    <tr>\n",
              "      <th>1</th>\n",
              "      <td>(45.45253800000006;9.196519500000022)</td>\n",
              "    </tr>\n",
              "    <tr>\n",
              "      <th>2</th>\n",
              "      <td>(45.45789300000007;9.187470000000076)</td>\n",
              "    </tr>\n",
              "    <tr>\n",
              "      <th>3</th>\n",
              "      <td>(45.48654000000005;9.15850800000004)</td>\n",
              "    </tr>\n",
              "    <tr>\n",
              "      <th>4</th>\n",
              "      <td>(45.47186100000005;9.202702500000044)</td>\n",
              "    </tr>\n",
              "    <tr>\n",
              "      <th>...</th>\n",
              "      <td>...</td>\n",
              "    </tr>\n",
              "    <tr>\n",
              "      <th>77</th>\n",
              "      <td>(45.454518000000064;9.173155500000064)</td>\n",
              "    </tr>\n",
              "    <tr>\n",
              "      <th>78</th>\n",
              "      <td>(45.49156751800007;9.153591732000052)</td>\n",
              "    </tr>\n",
              "    <tr>\n",
              "      <th>79</th>\n",
              "      <td>(45.451017000000036;9.200173500000062)</td>\n",
              "    </tr>\n",
              "    <tr>\n",
              "      <th>80</th>\n",
              "      <td>(45.455868000000066;9.136525500000062)</td>\n",
              "    </tr>\n",
              "    <tr>\n",
              "      <th>81</th>\n",
              "      <td>(45.50019300000008;9.196686000000057)</td>\n",
              "    </tr>\n",
              "  </tbody>\n",
              "</table>\n",
              "<p>82 rows × 1 columns</p>\n",
              "</div>"
            ],
            "text/plain": [
              "                                  Location\n",
              "0    (45.47960100000006;9.182151000000033)\n",
              "1    (45.45253800000006;9.196519500000022)\n",
              "2    (45.45789300000007;9.187470000000076)\n",
              "3     (45.48654000000005;9.15850800000004)\n",
              "4    (45.47186100000005;9.202702500000044)\n",
              "..                                     ...\n",
              "77  (45.454518000000064;9.173155500000064)\n",
              "78   (45.49156751800007;9.153591732000052)\n",
              "79  (45.451017000000036;9.200173500000062)\n",
              "80  (45.455868000000066;9.136525500000062)\n",
              "81   (45.50019300000008;9.196686000000057)\n",
              "\n",
              "[82 rows x 1 columns]"
            ]
          },
          "metadata": {},
          "execution_count": 7
        }
      ]
    },
    {
      "cell_type": "markdown",
      "metadata": {
        "id": "-_Uov43-Q_nG"
      },
      "source": [
        "4. visualizzare le colonne dalle terza alla quinta"
      ]
    },
    {
      "cell_type": "code",
      "metadata": {
        "colab": {
          "base_uri": "https://localhost:8080/",
          "height": 419
        },
        "id": "w0m9RqleREes",
        "outputId": "e888e9b3-310d-4338-fc2c-e2070e7cadcb"
      },
      "source": [
        "df[['Fax', 'CAP', 'MUNICIPIO']]"
      ],
      "execution_count": null,
      "outputs": [
        {
          "output_type": "execute_result",
          "data": {
            "text/html": [
              "<div>\n",
              "<style scoped>\n",
              "    .dataframe tbody tr th:only-of-type {\n",
              "        vertical-align: middle;\n",
              "    }\n",
              "\n",
              "    .dataframe tbody tr th {\n",
              "        vertical-align: top;\n",
              "    }\n",
              "\n",
              "    .dataframe thead th {\n",
              "        text-align: right;\n",
              "    }\n",
              "</style>\n",
              "<table border=\"1\" class=\"dataframe\">\n",
              "  <thead>\n",
              "    <tr style=\"text-align: right;\">\n",
              "      <th></th>\n",
              "      <th>Fax</th>\n",
              "      <th>CAP</th>\n",
              "      <th>MUNICIPIO</th>\n",
              "    </tr>\n",
              "  </thead>\n",
              "  <tbody>\n",
              "    <tr>\n",
              "      <th>0</th>\n",
              "      <td>02-29002004</td>\n",
              "      <td>20121</td>\n",
              "      <td>1</td>\n",
              "    </tr>\n",
              "    <tr>\n",
              "      <th>1</th>\n",
              "      <td>02-58319779</td>\n",
              "      <td>20122</td>\n",
              "      <td>1</td>\n",
              "    </tr>\n",
              "    <tr>\n",
              "      <th>2</th>\n",
              "      <td>02-86454450</td>\n",
              "      <td>20122</td>\n",
              "      <td>1</td>\n",
              "    </tr>\n",
              "    <tr>\n",
              "      <th>3</th>\n",
              "      <td>NaN</td>\n",
              "      <td>20154</td>\n",
              "      <td>8</td>\n",
              "    </tr>\n",
              "    <tr>\n",
              "      <th>4</th>\n",
              "      <td>02-7837251</td>\n",
              "      <td>20121</td>\n",
              "      <td>1</td>\n",
              "    </tr>\n",
              "    <tr>\n",
              "      <th>...</th>\n",
              "      <td>...</td>\n",
              "      <td>...</td>\n",
              "      <td>...</td>\n",
              "    </tr>\n",
              "    <tr>\n",
              "      <th>77</th>\n",
              "      <td>02-8373830</td>\n",
              "      <td>20144</td>\n",
              "      <td>6</td>\n",
              "    </tr>\n",
              "    <tr>\n",
              "      <th>78</th>\n",
              "      <td>02-32671947</td>\n",
              "      <td>20155</td>\n",
              "      <td>8</td>\n",
              "    </tr>\n",
              "    <tr>\n",
              "      <th>79</th>\n",
              "      <td>02-58457947</td>\n",
              "      <td>20135</td>\n",
              "      <td>5</td>\n",
              "    </tr>\n",
              "    <tr>\n",
              "      <th>80</th>\n",
              "      <td>02-41411347</td>\n",
              "      <td>20146</td>\n",
              "      <td>6</td>\n",
              "    </tr>\n",
              "    <tr>\n",
              "      <th>81</th>\n",
              "      <td>02-69911147</td>\n",
              "      <td>20159</td>\n",
              "      <td>9</td>\n",
              "    </tr>\n",
              "  </tbody>\n",
              "</table>\n",
              "<p>82 rows × 3 columns</p>\n",
              "</div>"
            ],
            "text/plain": [
              "            Fax    CAP  MUNICIPIO\n",
              "0   02-29002004  20121          1\n",
              "1   02-58319779  20122          1\n",
              "2   02-86454450  20122          1\n",
              "3           NaN  20154          8\n",
              "4    02-7837251  20121          1\n",
              "..          ...    ...        ...\n",
              "77   02-8373830  20144          6\n",
              "78  02-32671947  20155          8\n",
              "79  02-58457947  20135          5\n",
              "80  02-41411347  20146          6\n",
              "81  02-69911147  20159          9\n",
              "\n",
              "[82 rows x 3 columns]"
            ]
          },
          "metadata": {},
          "execution_count": 10
        }
      ]
    },
    {
      "cell_type": "markdown",
      "metadata": {
        "id": "ve-uhI4lRiq2"
      },
      "source": [
        "5. visualizzare la terza e la sesta colonna"
      ]
    },
    {
      "cell_type": "code",
      "metadata": {
        "colab": {
          "base_uri": "https://localhost:8080/",
          "height": 419
        },
        "id": "UP7X3wF3Rlzm",
        "outputId": "fe99da7b-6b28-49ca-d7a2-53a82c10905e"
      },
      "source": [
        "df[['Fax', 'ID_NIL']]"
      ],
      "execution_count": null,
      "outputs": [
        {
          "output_type": "execute_result",
          "data": {
            "text/html": [
              "<div>\n",
              "<style scoped>\n",
              "    .dataframe tbody tr th:only-of-type {\n",
              "        vertical-align: middle;\n",
              "    }\n",
              "\n",
              "    .dataframe tbody tr th {\n",
              "        vertical-align: top;\n",
              "    }\n",
              "\n",
              "    .dataframe thead th {\n",
              "        text-align: right;\n",
              "    }\n",
              "</style>\n",
              "<table border=\"1\" class=\"dataframe\">\n",
              "  <thead>\n",
              "    <tr style=\"text-align: right;\">\n",
              "      <th></th>\n",
              "      <th>Fax</th>\n",
              "      <th>ID_NIL</th>\n",
              "    </tr>\n",
              "  </thead>\n",
              "  <tbody>\n",
              "    <tr>\n",
              "      <th>0</th>\n",
              "      <td>02-29002004</td>\n",
              "      <td>2</td>\n",
              "    </tr>\n",
              "    <tr>\n",
              "      <th>1</th>\n",
              "      <td>02-58319779</td>\n",
              "      <td>5</td>\n",
              "    </tr>\n",
              "    <tr>\n",
              "      <th>2</th>\n",
              "      <td>02-86454450</td>\n",
              "      <td>1</td>\n",
              "    </tr>\n",
              "    <tr>\n",
              "      <th>3</th>\n",
              "      <td>NaN</td>\n",
              "      <td>69</td>\n",
              "    </tr>\n",
              "    <tr>\n",
              "      <th>4</th>\n",
              "      <td>02-7837251</td>\n",
              "      <td>4</td>\n",
              "    </tr>\n",
              "    <tr>\n",
              "      <th>...</th>\n",
              "      <td>...</td>\n",
              "      <td>...</td>\n",
              "    </tr>\n",
              "    <tr>\n",
              "      <th>77</th>\n",
              "      <td>02-8373830</td>\n",
              "      <td>44</td>\n",
              "    </tr>\n",
              "    <tr>\n",
              "      <th>78</th>\n",
              "      <td>02-32671947</td>\n",
              "      <td>71</td>\n",
              "    </tr>\n",
              "    <tr>\n",
              "      <th>79</th>\n",
              "      <td>02-58457947</td>\n",
              "      <td>27</td>\n",
              "    </tr>\n",
              "    <tr>\n",
              "      <th>80</th>\n",
              "      <td>02-41411347</td>\n",
              "      <td>52</td>\n",
              "    </tr>\n",
              "    <tr>\n",
              "      <th>81</th>\n",
              "      <td>02-69911147</td>\n",
              "      <td>12</td>\n",
              "    </tr>\n",
              "  </tbody>\n",
              "</table>\n",
              "<p>82 rows × 2 columns</p>\n",
              "</div>"
            ],
            "text/plain": [
              "            Fax  ID_NIL\n",
              "0   02-29002004       2\n",
              "1   02-58319779       5\n",
              "2   02-86454450       1\n",
              "3           NaN      69\n",
              "4    02-7837251       4\n",
              "..          ...     ...\n",
              "77   02-8373830      44\n",
              "78  02-32671947      71\n",
              "79  02-58457947      27\n",
              "80  02-41411347      52\n",
              "81  02-69911147      12\n",
              "\n",
              "[82 rows x 2 columns]"
            ]
          },
          "metadata": {},
          "execution_count": 11
        }
      ]
    },
    {
      "cell_type": "markdown",
      "metadata": {
        "id": "5e4Iwbf3Rsmg"
      },
      "source": [
        "6. visualizzare la colonna dell'indirizzo e del municipio\n"
      ]
    },
    {
      "cell_type": "code",
      "metadata": {
        "colab": {
          "base_uri": "https://localhost:8080/",
          "height": 419
        },
        "id": "HqnojC8ERuSQ",
        "outputId": "050b3288-e1da-4b3f-f5a6-f67ca42bac10"
      },
      "source": [
        "df[['Indirizzo', 'MUNICIPIO']]"
      ],
      "execution_count": null,
      "outputs": [
        {
          "output_type": "execute_result",
          "data": {
            "text/html": [
              "<div>\n",
              "<style scoped>\n",
              "    .dataframe tbody tr th:only-of-type {\n",
              "        vertical-align: middle;\n",
              "    }\n",
              "\n",
              "    .dataframe tbody tr th {\n",
              "        vertical-align: top;\n",
              "    }\n",
              "\n",
              "    .dataframe thead th {\n",
              "        text-align: right;\n",
              "    }\n",
              "</style>\n",
              "<table border=\"1\" class=\"dataframe\">\n",
              "  <thead>\n",
              "    <tr style=\"text-align: right;\">\n",
              "      <th></th>\n",
              "      <th>Indirizzo</th>\n",
              "      <th>MUNICIPIO</th>\n",
              "    </tr>\n",
              "  </thead>\n",
              "  <tbody>\n",
              "    <tr>\n",
              "      <th>0</th>\n",
              "      <td>BASTIONI DI PORTA VOLTA 7</td>\n",
              "      <td>1</td>\n",
              "    </tr>\n",
              "    <tr>\n",
              "      <th>1</th>\n",
              "      <td>CORSO DI PORTA VIGENTINA 35</td>\n",
              "      <td>1</td>\n",
              "    </tr>\n",
              "    <tr>\n",
              "      <th>2</th>\n",
              "      <td>CORSO ITALI 16</td>\n",
              "      <td>1</td>\n",
              "    </tr>\n",
              "    <tr>\n",
              "      <th>3</th>\n",
              "      <td>CORSO SEMPIONE 94</td>\n",
              "      <td>8</td>\n",
              "    </tr>\n",
              "    <tr>\n",
              "      <th>4</th>\n",
              "      <td>CORSO VENEZIA 42</td>\n",
              "      <td>1</td>\n",
              "    </tr>\n",
              "    <tr>\n",
              "      <th>...</th>\n",
              "      <td>...</td>\n",
              "      <td>...</td>\n",
              "    </tr>\n",
              "    <tr>\n",
              "      <th>77</th>\n",
              "      <td>VIALE GORIZIA 6</td>\n",
              "      <td>6</td>\n",
              "    </tr>\n",
              "    <tr>\n",
              "      <th>78</th>\n",
              "      <td>VIALE MONTE CENERI SNC</td>\n",
              "      <td>8</td>\n",
              "    </tr>\n",
              "    <tr>\n",
              "      <th>79</th>\n",
              "      <td>VIALE SABOTINO 21/A</td>\n",
              "      <td>5</td>\n",
              "    </tr>\n",
              "    <tr>\n",
              "      <th>80</th>\n",
              "      <td>VIALE SAN GIMIGNANO 10</td>\n",
              "      <td>6</td>\n",
              "    </tr>\n",
              "    <tr>\n",
              "      <th>81</th>\n",
              "      <td>VIALE ZARA 131</td>\n",
              "      <td>9</td>\n",
              "    </tr>\n",
              "  </tbody>\n",
              "</table>\n",
              "<p>82 rows × 2 columns</p>\n",
              "</div>"
            ],
            "text/plain": [
              "                      Indirizzo  MUNICIPIO\n",
              "0     BASTIONI DI PORTA VOLTA 7          1\n",
              "1   CORSO DI PORTA VIGENTINA 35          1\n",
              "2                CORSO ITALI 16          1\n",
              "3             CORSO SEMPIONE 94          8\n",
              "4              CORSO VENEZIA 42          1\n",
              "..                          ...        ...\n",
              "77              VIALE GORIZIA 6          6\n",
              "78       VIALE MONTE CENERI SNC          8\n",
              "79          VIALE SABOTINO 21/A          5\n",
              "80       VIALE SAN GIMIGNANO 10          6\n",
              "81               VIALE ZARA 131          9\n",
              "\n",
              "[82 rows x 2 columns]"
            ]
          },
          "metadata": {},
          "execution_count": 12
        }
      ]
    },
    {
      "cell_type": "markdown",
      "metadata": {
        "id": "QFduXp4_R5Fn"
      },
      "source": [
        "7. visualizzare la prima riga"
      ]
    },
    {
      "cell_type": "code",
      "metadata": {
        "colab": {
          "base_uri": "https://localhost:8080/",
          "height": 80
        },
        "id": "LRxDzoG_R7q_",
        "outputId": "35c9364b-06b4-460c-fb76-a0a55359466c"
      },
      "source": [
        "df.iloc[[0]]"
      ],
      "execution_count": null,
      "outputs": [
        {
          "output_type": "execute_result",
          "data": {
            "text/html": [
              "<div>\n",
              "<style scoped>\n",
              "    .dataframe tbody tr th:only-of-type {\n",
              "        vertical-align: middle;\n",
              "    }\n",
              "\n",
              "    .dataframe tbody tr th {\n",
              "        vertical-align: top;\n",
              "    }\n",
              "\n",
              "    .dataframe thead th {\n",
              "        text-align: right;\n",
              "    }\n",
              "</style>\n",
              "<table border=\"1\" class=\"dataframe\">\n",
              "  <thead>\n",
              "    <tr style=\"text-align: right;\">\n",
              "      <th></th>\n",
              "      <th>Indirizzo</th>\n",
              "      <th>Telefono</th>\n",
              "      <th>Fax</th>\n",
              "      <th>CAP</th>\n",
              "      <th>MUNICIPIO</th>\n",
              "      <th>ID_NIL</th>\n",
              "      <th>NIL</th>\n",
              "      <th>LONG_X_4326</th>\n",
              "      <th>LAT_Y_4326</th>\n",
              "      <th>Location</th>\n",
              "    </tr>\n",
              "  </thead>\n",
              "  <tbody>\n",
              "    <tr>\n",
              "      <th>0</th>\n",
              "      <td>BASTIONI DI PORTA VOLTA 7</td>\n",
              "      <td>02-6572655</td>\n",
              "      <td>02-29002004</td>\n",
              "      <td>20121</td>\n",
              "      <td>1</td>\n",
              "      <td>2</td>\n",
              "      <td>BRERA</td>\n",
              "      <td>9.182151</td>\n",
              "      <td>45.479601</td>\n",
              "      <td>(45.47960100000006;9.182151000000033)</td>\n",
              "    </tr>\n",
              "  </tbody>\n",
              "</table>\n",
              "</div>"
            ],
            "text/plain": [
              "                   Indirizzo  ...                               Location\n",
              "0  BASTIONI DI PORTA VOLTA 7  ...  (45.47960100000006;9.182151000000033)\n",
              "\n",
              "[1 rows x 10 columns]"
            ]
          },
          "metadata": {},
          "execution_count": 14
        }
      ]
    },
    {
      "cell_type": "markdown",
      "metadata": {
        "id": "yqe3UsvrSQno"
      },
      "source": [
        "8. visualizzare l'ultima riga"
      ]
    },
    {
      "cell_type": "code",
      "metadata": {
        "colab": {
          "base_uri": "https://localhost:8080/",
          "height": 80
        },
        "id": "daoCj5eFSSZX",
        "outputId": "1d9fab92-5c04-45d3-f16d-15a3b876cc66"
      },
      "source": [
        "df.iloc[[-1]]"
      ],
      "execution_count": null,
      "outputs": [
        {
          "output_type": "execute_result",
          "data": {
            "text/html": [
              "<div>\n",
              "<style scoped>\n",
              "    .dataframe tbody tr th:only-of-type {\n",
              "        vertical-align: middle;\n",
              "    }\n",
              "\n",
              "    .dataframe tbody tr th {\n",
              "        vertical-align: top;\n",
              "    }\n",
              "\n",
              "    .dataframe thead th {\n",
              "        text-align: right;\n",
              "    }\n",
              "</style>\n",
              "<table border=\"1\" class=\"dataframe\">\n",
              "  <thead>\n",
              "    <tr style=\"text-align: right;\">\n",
              "      <th></th>\n",
              "      <th>Indirizzo</th>\n",
              "      <th>Telefono</th>\n",
              "      <th>Fax</th>\n",
              "      <th>CAP</th>\n",
              "      <th>MUNICIPIO</th>\n",
              "      <th>ID_NIL</th>\n",
              "      <th>NIL</th>\n",
              "      <th>LONG_X_4326</th>\n",
              "      <th>LAT_Y_4326</th>\n",
              "      <th>Location</th>\n",
              "    </tr>\n",
              "  </thead>\n",
              "  <tbody>\n",
              "    <tr>\n",
              "      <th>81</th>\n",
              "      <td>VIALE ZARA 131</td>\n",
              "      <td>02-69911111</td>\n",
              "      <td>02-69911147</td>\n",
              "      <td>20159</td>\n",
              "      <td>9</td>\n",
              "      <td>12</td>\n",
              "      <td>MACIACHINI - MAGGIOLINA</td>\n",
              "      <td>9.196686</td>\n",
              "      <td>45.500193</td>\n",
              "      <td>(45.50019300000008;9.196686000000057)</td>\n",
              "    </tr>\n",
              "  </tbody>\n",
              "</table>\n",
              "</div>"
            ],
            "text/plain": [
              "         Indirizzo  ...                               Location\n",
              "81  VIALE ZARA 131  ...  (45.50019300000008;9.196686000000057)\n",
              "\n",
              "[1 rows x 10 columns]"
            ]
          },
          "metadata": {},
          "execution_count": 15
        }
      ]
    },
    {
      "cell_type": "markdown",
      "metadata": {
        "id": "8y6cZNu0SZPC"
      },
      "source": [
        "9. visualizzare la riga centrale"
      ]
    },
    {
      "cell_type": "code",
      "metadata": {
        "colab": {
          "base_uri": "https://localhost:8080/"
        },
        "id": "ki_vbn3SSZgo",
        "outputId": "10463c79-6d7a-4834-f099-538af4c0c332"
      },
      "source": [
        "df.iloc[82//2]"
      ],
      "execution_count": null,
      "outputs": [
        {
          "output_type": "execute_result",
          "data": {
            "text/plain": [
              "Indirizzo                 VIA GIUSEPPE RIPAMONTI 167\n",
              "Telefono                                 02-53580011\n",
              "Fax                                      02-53580047\n",
              "CAP                                            20141\n",
              "MUNICIPIO                                          5\n",
              "ID_NIL                                            38\n",
              "NIL                          VIGENTINO - Q.RE FATIMA\n",
              "LONG_X_4326                                  9.20112\n",
              "LAT_Y_4326                                   45.4352\n",
              "Location       (45.43522200000007;9.201118500000064)\n",
              "Name: 41, dtype: object"
            ]
          },
          "metadata": {},
          "execution_count": 16
        }
      ]
    },
    {
      "cell_type": "markdown",
      "metadata": {
        "id": "Z95T98QqS-vI"
      },
      "source": [
        "10. visualizzare le righe 3, 4 e 12"
      ]
    },
    {
      "cell_type": "code",
      "metadata": {
        "colab": {
          "base_uri": "https://localhost:8080/",
          "height": 142
        },
        "id": "_70lcpmMTBZv",
        "outputId": "b8679b9a-896d-47e0-a367-c8f3d88bf690"
      },
      "source": [
        "df.iloc[[3,4,12]]"
      ],
      "execution_count": null,
      "outputs": [
        {
          "output_type": "execute_result",
          "data": {
            "text/html": [
              "<div>\n",
              "<style scoped>\n",
              "    .dataframe tbody tr th:only-of-type {\n",
              "        vertical-align: middle;\n",
              "    }\n",
              "\n",
              "    .dataframe tbody tr th {\n",
              "        vertical-align: top;\n",
              "    }\n",
              "\n",
              "    .dataframe thead th {\n",
              "        text-align: right;\n",
              "    }\n",
              "</style>\n",
              "<table border=\"1\" class=\"dataframe\">\n",
              "  <thead>\n",
              "    <tr style=\"text-align: right;\">\n",
              "      <th></th>\n",
              "      <th>Indirizzo</th>\n",
              "      <th>Telefono</th>\n",
              "      <th>Fax</th>\n",
              "      <th>CAP</th>\n",
              "      <th>MUNICIPIO</th>\n",
              "      <th>ID_NIL</th>\n",
              "      <th>NIL</th>\n",
              "      <th>LONG_X_4326</th>\n",
              "      <th>LAT_Y_4326</th>\n",
              "      <th>Location</th>\n",
              "    </tr>\n",
              "  </thead>\n",
              "  <tbody>\n",
              "    <tr>\n",
              "      <th>3</th>\n",
              "      <td>CORSO SEMPIONE 94</td>\n",
              "      <td>NaN</td>\n",
              "      <td>NaN</td>\n",
              "      <td>20154</td>\n",
              "      <td>8</td>\n",
              "      <td>69</td>\n",
              "      <td>SARPI</td>\n",
              "      <td>9.158508</td>\n",
              "      <td>45.486540</td>\n",
              "      <td>(45.48654000000005;9.15850800000004)</td>\n",
              "    </tr>\n",
              "    <tr>\n",
              "      <th>4</th>\n",
              "      <td>CORSO VENEZIA 42</td>\n",
              "      <td>02-76023056</td>\n",
              "      <td>02-7837251</td>\n",
              "      <td>20121</td>\n",
              "      <td>1</td>\n",
              "      <td>4</td>\n",
              "      <td>GUASTALLA</td>\n",
              "      <td>9.202703</td>\n",
              "      <td>45.471861</td>\n",
              "      <td>(45.47186100000005;9.202702500000044)</td>\n",
              "    </tr>\n",
              "    <tr>\n",
              "      <th>12</th>\n",
              "      <td>VIA APPENNINI 77/A</td>\n",
              "      <td>02-3535414</td>\n",
              "      <td>02-3538072</td>\n",
              "      <td>20151</td>\n",
              "      <td>8</td>\n",
              "      <td>65</td>\n",
              "      <td>Q.RE GALLARATESE - Q.RE SAN LEONARDO - LAMPUGNANO</td>\n",
              "      <td>9.104292</td>\n",
              "      <td>45.502074</td>\n",
              "      <td>(45.50207400000005;9.104292000000044)</td>\n",
              "    </tr>\n",
              "  </tbody>\n",
              "</table>\n",
              "</div>"
            ],
            "text/plain": [
              "             Indirizzo  ...                               Location\n",
              "3    CORSO SEMPIONE 94  ...   (45.48654000000005;9.15850800000004)\n",
              "4     CORSO VENEZIA 42  ...  (45.47186100000005;9.202702500000044)\n",
              "12  VIA APPENNINI 77/A  ...  (45.50207400000005;9.104292000000044)\n",
              "\n",
              "[3 rows x 10 columns]"
            ]
          },
          "metadata": {},
          "execution_count": 21
        }
      ]
    },
    {
      "cell_type": "markdown",
      "metadata": {
        "id": "Wi0U4-bRTL23"
      },
      "source": [
        "11. visualizzare le righe dalla decima alla quindicesima"
      ]
    },
    {
      "cell_type": "code",
      "metadata": {
        "colab": {
          "base_uri": "https://localhost:8080/",
          "height": 235
        },
        "id": "PxZuPjF_TNs3",
        "outputId": "aabf8b0c-4a18-414a-d890-5c2beae686cb"
      },
      "source": [
        "df.iloc[10:16]"
      ],
      "execution_count": null,
      "outputs": [
        {
          "output_type": "execute_result",
          "data": {
            "text/html": [
              "<div>\n",
              "<style scoped>\n",
              "    .dataframe tbody tr th:only-of-type {\n",
              "        vertical-align: middle;\n",
              "    }\n",
              "\n",
              "    .dataframe tbody tr th {\n",
              "        vertical-align: top;\n",
              "    }\n",
              "\n",
              "    .dataframe thead th {\n",
              "        text-align: right;\n",
              "    }\n",
              "</style>\n",
              "<table border=\"1\" class=\"dataframe\">\n",
              "  <thead>\n",
              "    <tr style=\"text-align: right;\">\n",
              "      <th></th>\n",
              "      <th>Indirizzo</th>\n",
              "      <th>Telefono</th>\n",
              "      <th>Fax</th>\n",
              "      <th>CAP</th>\n",
              "      <th>MUNICIPIO</th>\n",
              "      <th>ID_NIL</th>\n",
              "      <th>NIL</th>\n",
              "      <th>LONG_X_4326</th>\n",
              "      <th>LAT_Y_4326</th>\n",
              "      <th>Location</th>\n",
              "    </tr>\n",
              "  </thead>\n",
              "  <tbody>\n",
              "    <tr>\n",
              "      <th>10</th>\n",
              "      <td>VIA ALFREDO CAPPELLINI 17/19</td>\n",
              "      <td>02-6773311</td>\n",
              "      <td>02-67733147</td>\n",
              "      <td>20124</td>\n",
              "      <td>2</td>\n",
              "      <td>10</td>\n",
              "      <td>STAZIONE CENTRALE - PONTE SEVESO</td>\n",
              "      <td>9.201735</td>\n",
              "      <td>45.481950</td>\n",
              "      <td>(45.48195000000004;9.201735000000042)</td>\n",
              "    </tr>\n",
              "    <tr>\n",
              "      <th>11</th>\n",
              "      <td>VIA ANDREA VOCHIERI 12</td>\n",
              "      <td>02-66200116</td>\n",
              "      <td>02-66203094</td>\n",
              "      <td>20161</td>\n",
              "      <td>9</td>\n",
              "      <td>80</td>\n",
              "      <td>AFFORI</td>\n",
              "      <td>9.168683</td>\n",
              "      <td>45.514143</td>\n",
              "      <td>(45.51414300000005;9.168682500000045)</td>\n",
              "    </tr>\n",
              "    <tr>\n",
              "      <th>12</th>\n",
              "      <td>VIA APPENNINI 77/A</td>\n",
              "      <td>02-3535414</td>\n",
              "      <td>02-3538072</td>\n",
              "      <td>20151</td>\n",
              "      <td>8</td>\n",
              "      <td>65</td>\n",
              "      <td>Q.RE GALLARATESE - Q.RE SAN LEONARDO - LAMPUGNANO</td>\n",
              "      <td>9.104292</td>\n",
              "      <td>45.502074</td>\n",
              "      <td>(45.50207400000005;9.104292000000044)</td>\n",
              "    </tr>\n",
              "    <tr>\n",
              "      <th>13</th>\n",
              "      <td>VIA ARQUA' 14</td>\n",
              "      <td>02-26141687</td>\n",
              "      <td>02-26825342</td>\n",
              "      <td>20131</td>\n",
              "      <td>2</td>\n",
              "      <td>20</td>\n",
              "      <td>LORETO - CASORETTO - NOLO</td>\n",
              "      <td>9.227714</td>\n",
              "      <td>45.492876</td>\n",
              "      <td>(45.49287600000008;9.22771350000005)</td>\n",
              "    </tr>\n",
              "    <tr>\n",
              "      <th>14</th>\n",
              "      <td>VIA BENOZZO GOZZOLI 51</td>\n",
              "      <td>02-48945239</td>\n",
              "      <td>02-48945202</td>\n",
              "      <td>20152</td>\n",
              "      <td>7</td>\n",
              "      <td>55</td>\n",
              "      <td>BAGGIO - Q.RE DEGLI OLMI - Q.RE VALSESIA</td>\n",
              "      <td>9.090990</td>\n",
              "      <td>45.455607</td>\n",
              "      <td>(45.45560700000004;9.090990000000033)</td>\n",
              "    </tr>\n",
              "    <tr>\n",
              "      <th>15</th>\n",
              "      <td>VIA BOVISASCA 173</td>\n",
              "      <td>02-3573683</td>\n",
              "      <td>02-39000632</td>\n",
              "      <td>20161</td>\n",
              "      <td>9</td>\n",
              "      <td>81</td>\n",
              "      <td>BOVISASCA</td>\n",
              "      <td>9.152855</td>\n",
              "      <td>45.519456</td>\n",
              "      <td>(45.519456269000045;9.152854782000077)</td>\n",
              "    </tr>\n",
              "  </tbody>\n",
              "</table>\n",
              "</div>"
            ],
            "text/plain": [
              "                       Indirizzo  ...                                Location\n",
              "10  VIA ALFREDO CAPPELLINI 17/19  ...   (45.48195000000004;9.201735000000042)\n",
              "11        VIA ANDREA VOCHIERI 12  ...   (45.51414300000005;9.168682500000045)\n",
              "12            VIA APPENNINI 77/A  ...   (45.50207400000005;9.104292000000044)\n",
              "13                 VIA ARQUA' 14  ...    (45.49287600000008;9.22771350000005)\n",
              "14        VIA BENOZZO GOZZOLI 51  ...   (45.45560700000004;9.090990000000033)\n",
              "15             VIA BOVISASCA 173  ...  (45.519456269000045;9.152854782000077)\n",
              "\n",
              "[6 rows x 10 columns]"
            ]
          },
          "metadata": {},
          "execution_count": 19
        }
      ]
    },
    {
      "cell_type": "markdown",
      "metadata": {
        "id": "7ti_VLxETjxB"
      },
      "source": [
        "12. visualizzare la colonna indirizzo e NIL delle righe dalla decima alla quindicesima"
      ]
    },
    {
      "cell_type": "code",
      "metadata": {
        "colab": {
          "base_uri": "https://localhost:8080/",
          "height": 266
        },
        "id": "cLTzyJ1vTltU",
        "outputId": "e1c3ea1f-0f7c-4f03-ddc8-c7f5e183afab"
      },
      "source": [
        "df.loc[10:16, ['Indirizzo', 'NIL']]"
      ],
      "execution_count": null,
      "outputs": [
        {
          "output_type": "execute_result",
          "data": {
            "text/html": [
              "<div>\n",
              "<style scoped>\n",
              "    .dataframe tbody tr th:only-of-type {\n",
              "        vertical-align: middle;\n",
              "    }\n",
              "\n",
              "    .dataframe tbody tr th {\n",
              "        vertical-align: top;\n",
              "    }\n",
              "\n",
              "    .dataframe thead th {\n",
              "        text-align: right;\n",
              "    }\n",
              "</style>\n",
              "<table border=\"1\" class=\"dataframe\">\n",
              "  <thead>\n",
              "    <tr style=\"text-align: right;\">\n",
              "      <th></th>\n",
              "      <th>Indirizzo</th>\n",
              "      <th>NIL</th>\n",
              "    </tr>\n",
              "  </thead>\n",
              "  <tbody>\n",
              "    <tr>\n",
              "      <th>10</th>\n",
              "      <td>VIA ALFREDO CAPPELLINI 17/19</td>\n",
              "      <td>STAZIONE CENTRALE - PONTE SEVESO</td>\n",
              "    </tr>\n",
              "    <tr>\n",
              "      <th>11</th>\n",
              "      <td>VIA ANDREA VOCHIERI 12</td>\n",
              "      <td>AFFORI</td>\n",
              "    </tr>\n",
              "    <tr>\n",
              "      <th>12</th>\n",
              "      <td>VIA APPENNINI 77/A</td>\n",
              "      <td>Q.RE GALLARATESE - Q.RE SAN LEONARDO - LAMPUGNANO</td>\n",
              "    </tr>\n",
              "    <tr>\n",
              "      <th>13</th>\n",
              "      <td>VIA ARQUA' 14</td>\n",
              "      <td>LORETO - CASORETTO - NOLO</td>\n",
              "    </tr>\n",
              "    <tr>\n",
              "      <th>14</th>\n",
              "      <td>VIA BENOZZO GOZZOLI 51</td>\n",
              "      <td>BAGGIO - Q.RE DEGLI OLMI - Q.RE VALSESIA</td>\n",
              "    </tr>\n",
              "    <tr>\n",
              "      <th>15</th>\n",
              "      <td>VIA BOVISASCA 173</td>\n",
              "      <td>BOVISASCA</td>\n",
              "    </tr>\n",
              "    <tr>\n",
              "      <th>16</th>\n",
              "      <td>VIA BRONZINO 7</td>\n",
              "      <td>BUENOS AIRES - PORTA VENEZIA - PORTA MONFORTE</td>\n",
              "    </tr>\n",
              "  </tbody>\n",
              "</table>\n",
              "</div>"
            ],
            "text/plain": [
              "                       Indirizzo                                                NIL\n",
              "10  VIA ALFREDO CAPPELLINI 17/19                   STAZIONE CENTRALE - PONTE SEVESO\n",
              "11        VIA ANDREA VOCHIERI 12                                             AFFORI\n",
              "12            VIA APPENNINI 77/A  Q.RE GALLARATESE - Q.RE SAN LEONARDO - LAMPUGNANO\n",
              "13                 VIA ARQUA' 14                          LORETO - CASORETTO - NOLO\n",
              "14        VIA BENOZZO GOZZOLI 51           BAGGIO - Q.RE DEGLI OLMI - Q.RE VALSESIA\n",
              "15             VIA BOVISASCA 173                                          BOVISASCA\n",
              "16                VIA BRONZINO 7      BUENOS AIRES - PORTA VENEZIA - PORTA MONFORTE"
            ]
          },
          "metadata": {},
          "execution_count": 27
        }
      ]
    },
    {
      "cell_type": "markdown",
      "metadata": {
        "id": "w3iHIBuqUFLo"
      },
      "source": [
        "13. visualizzare le colonne telefono e fax delle righe 3, 5 e 12"
      ]
    },
    {
      "cell_type": "code",
      "metadata": {
        "colab": {
          "base_uri": "https://localhost:8080/",
          "height": 142
        },
        "id": "IjbSOxukUGfx",
        "outputId": "3689c9a7-410d-4d84-8ef2-291baf9f3f12"
      },
      "source": [
        "df.loc[[3,5,12], ['Telefono', 'Fax']]"
      ],
      "execution_count": null,
      "outputs": [
        {
          "output_type": "execute_result",
          "data": {
            "text/html": [
              "<div>\n",
              "<style scoped>\n",
              "    .dataframe tbody tr th:only-of-type {\n",
              "        vertical-align: middle;\n",
              "    }\n",
              "\n",
              "    .dataframe tbody tr th {\n",
              "        vertical-align: top;\n",
              "    }\n",
              "\n",
              "    .dataframe thead th {\n",
              "        text-align: right;\n",
              "    }\n",
              "</style>\n",
              "<table border=\"1\" class=\"dataframe\">\n",
              "  <thead>\n",
              "    <tr style=\"text-align: right;\">\n",
              "      <th></th>\n",
              "      <th>Telefono</th>\n",
              "      <th>Fax</th>\n",
              "    </tr>\n",
              "  </thead>\n",
              "  <tbody>\n",
              "    <tr>\n",
              "      <th>3</th>\n",
              "      <td>NaN</td>\n",
              "      <td>NaN</td>\n",
              "    </tr>\n",
              "    <tr>\n",
              "      <th>5</th>\n",
              "      <td>02-47714011</td>\n",
              "      <td>02-47714047</td>\n",
              "    </tr>\n",
              "    <tr>\n",
              "      <th>12</th>\n",
              "      <td>02-3535414</td>\n",
              "      <td>02-3538072</td>\n",
              "    </tr>\n",
              "  </tbody>\n",
              "</table>\n",
              "</div>"
            ],
            "text/plain": [
              "       Telefono          Fax\n",
              "3           NaN          NaN\n",
              "5   02-47714011  02-47714047\n",
              "12   02-3535414   02-3538072"
            ]
          },
          "metadata": {},
          "execution_count": 29
        }
      ]
    },
    {
      "cell_type": "markdown",
      "metadata": {
        "id": "2C5o99mKUUGI"
      },
      "source": [
        "14. visualizzare le colonne dalla 2 alla 6 delle righe dalla 3 alla 10"
      ]
    },
    {
      "cell_type": "code",
      "metadata": {
        "colab": {
          "base_uri": "https://localhost:8080/",
          "height": 328
        },
        "id": "ux49-de0UVV5",
        "outputId": "1ab309c7-e539-401a-de0e-206786ca10a4"
      },
      "source": [
        "df.loc[3:11, ['Telefono', 'Fax', 'CAP', 'MUNICIPIO', 'ID_NIL']]"
      ],
      "execution_count": null,
      "outputs": [
        {
          "output_type": "execute_result",
          "data": {
            "text/html": [
              "<div>\n",
              "<style scoped>\n",
              "    .dataframe tbody tr th:only-of-type {\n",
              "        vertical-align: middle;\n",
              "    }\n",
              "\n",
              "    .dataframe tbody tr th {\n",
              "        vertical-align: top;\n",
              "    }\n",
              "\n",
              "    .dataframe thead th {\n",
              "        text-align: right;\n",
              "    }\n",
              "</style>\n",
              "<table border=\"1\" class=\"dataframe\">\n",
              "  <thead>\n",
              "    <tr style=\"text-align: right;\">\n",
              "      <th></th>\n",
              "      <th>Telefono</th>\n",
              "      <th>Fax</th>\n",
              "      <th>CAP</th>\n",
              "      <th>MUNICIPIO</th>\n",
              "      <th>ID_NIL</th>\n",
              "    </tr>\n",
              "  </thead>\n",
              "  <tbody>\n",
              "    <tr>\n",
              "      <th>3</th>\n",
              "      <td>NaN</td>\n",
              "      <td>NaN</td>\n",
              "      <td>20154</td>\n",
              "      <td>8</td>\n",
              "      <td>69</td>\n",
              "    </tr>\n",
              "    <tr>\n",
              "      <th>4</th>\n",
              "      <td>02-76023056</td>\n",
              "      <td>02-7837251</td>\n",
              "      <td>20121</td>\n",
              "      <td>1</td>\n",
              "      <td>4</td>\n",
              "    </tr>\n",
              "    <tr>\n",
              "      <th>5</th>\n",
              "      <td>02-47714011</td>\n",
              "      <td>02-47714047</td>\n",
              "      <td>20146</td>\n",
              "      <td>6</td>\n",
              "      <td>49</td>\n",
              "    </tr>\n",
              "    <tr>\n",
              "      <th>6</th>\n",
              "      <td>02-42255211</td>\n",
              "      <td>02-42255247</td>\n",
              "      <td>20146</td>\n",
              "      <td>6</td>\n",
              "      <td>49</td>\n",
              "    </tr>\n",
              "    <tr>\n",
              "      <th>7</th>\n",
              "      <td>02-325774</td>\n",
              "      <td>02-3271232</td>\n",
              "      <td>20148</td>\n",
              "      <td>8</td>\n",
              "      <td>66</td>\n",
              "    </tr>\n",
              "    <tr>\n",
              "      <th>8</th>\n",
              "      <td>02-37790911</td>\n",
              "      <td>02-37790947</td>\n",
              "      <td>20158</td>\n",
              "      <td>9</td>\n",
              "      <td>78</td>\n",
              "    </tr>\n",
              "    <tr>\n",
              "      <th>9</th>\n",
              "      <td>02-2665192</td>\n",
              "      <td>02-26680123</td>\n",
              "      <td>20131</td>\n",
              "      <td>3</td>\n",
              "      <td>22</td>\n",
              "    </tr>\n",
              "    <tr>\n",
              "      <th>10</th>\n",
              "      <td>02-6773311</td>\n",
              "      <td>02-67733147</td>\n",
              "      <td>20124</td>\n",
              "      <td>2</td>\n",
              "      <td>10</td>\n",
              "    </tr>\n",
              "    <tr>\n",
              "      <th>11</th>\n",
              "      <td>02-66200116</td>\n",
              "      <td>02-66203094</td>\n",
              "      <td>20161</td>\n",
              "      <td>9</td>\n",
              "      <td>80</td>\n",
              "    </tr>\n",
              "  </tbody>\n",
              "</table>\n",
              "</div>"
            ],
            "text/plain": [
              "       Telefono          Fax    CAP  MUNICIPIO  ID_NIL\n",
              "3           NaN          NaN  20154          8      69\n",
              "4   02-76023056   02-7837251  20121          1       4\n",
              "5   02-47714011  02-47714047  20146          6      49\n",
              "6   02-42255211  02-42255247  20146          6      49\n",
              "7     02-325774   02-3271232  20148          8      66\n",
              "8   02-37790911  02-37790947  20158          9      78\n",
              "9    02-2665192  02-26680123  20131          3      22\n",
              "10   02-6773311  02-67733147  20124          2      10\n",
              "11  02-66200116  02-66203094  20161          9      80"
            ]
          },
          "metadata": {},
          "execution_count": 36
        }
      ]
    },
    {
      "cell_type": "markdown",
      "metadata": {
        "id": "EJfOXUkWVK_B"
      },
      "source": [
        "15. visualizzare il numero di telefono dell'ufficio di piazza Napoli"
      ]
    },
    {
      "cell_type": "code",
      "metadata": {
        "colab": {
          "base_uri": "https://localhost:8080/",
          "height": 80
        },
        "id": "6g9XNQZyVMN3",
        "outputId": "2863ff41-35d2-472c-dc48-aadd168565e2"
      },
      "source": [
        "df[df['Indirizzo'].str.contains('PIAZZA NAPOLI')][['Telefono']]"
      ],
      "execution_count": null,
      "outputs": [
        {
          "output_type": "execute_result",
          "data": {
            "text/html": [
              "<div>\n",
              "<style scoped>\n",
              "    .dataframe tbody tr th:only-of-type {\n",
              "        vertical-align: middle;\n",
              "    }\n",
              "\n",
              "    .dataframe tbody tr th {\n",
              "        vertical-align: top;\n",
              "    }\n",
              "\n",
              "    .dataframe thead th {\n",
              "        text-align: right;\n",
              "    }\n",
              "</style>\n",
              "<table border=\"1\" class=\"dataframe\">\n",
              "  <thead>\n",
              "    <tr style=\"text-align: right;\">\n",
              "      <th></th>\n",
              "      <th>Telefono</th>\n",
              "    </tr>\n",
              "  </thead>\n",
              "  <tbody>\n",
              "    <tr>\n",
              "      <th>6</th>\n",
              "      <td>02-42255211</td>\n",
              "    </tr>\n",
              "  </tbody>\n",
              "</table>\n",
              "</div>"
            ],
            "text/plain": [
              "      Telefono\n",
              "6  02-42255211"
            ]
          },
          "metadata": {},
          "execution_count": 43
        }
      ]
    },
    {
      "cell_type": "markdown",
      "metadata": {
        "id": "2IwfuRthZHFw"
      },
      "source": [
        "16. visualizzare l'indirizzo e il numero di telefono degli uffici postali di Niguarda"
      ]
    },
    {
      "cell_type": "code",
      "metadata": {
        "colab": {
          "base_uri": "https://localhost:8080/",
          "height": 111
        },
        "id": "1afpSZF8ZIfC",
        "outputId": "58b83a30-e066-45b4-c48a-82053bb3bf25"
      },
      "source": [
        "df[df['NIL'].str.contains('NIGUARDA')][['Telefono', 'Indirizzo']]"
      ],
      "execution_count": null,
      "outputs": [
        {
          "output_type": "execute_result",
          "data": {
            "text/html": [
              "<div>\n",
              "<style scoped>\n",
              "    .dataframe tbody tr th:only-of-type {\n",
              "        vertical-align: middle;\n",
              "    }\n",
              "\n",
              "    .dataframe tbody tr th {\n",
              "        vertical-align: top;\n",
              "    }\n",
              "\n",
              "    .dataframe thead th {\n",
              "        text-align: right;\n",
              "    }\n",
              "</style>\n",
              "<table border=\"1\" class=\"dataframe\">\n",
              "  <thead>\n",
              "    <tr style=\"text-align: right;\">\n",
              "      <th></th>\n",
              "      <th>Telefono</th>\n",
              "      <th>Indirizzo</th>\n",
              "    </tr>\n",
              "  </thead>\n",
              "  <tbody>\n",
              "    <tr>\n",
              "      <th>60</th>\n",
              "      <td>02-66100185</td>\n",
              "      <td>VIA PONALE 6</td>\n",
              "    </tr>\n",
              "    <tr>\n",
              "      <th>76</th>\n",
              "      <td>02-6470400</td>\n",
              "      <td>VIALE GIOVANNI SUZZANI</td>\n",
              "    </tr>\n",
              "  </tbody>\n",
              "</table>\n",
              "</div>"
            ],
            "text/plain": [
              "       Telefono               Indirizzo\n",
              "60  02-66100185            VIA PONALE 6\n",
              "76   02-6470400  VIALE GIOVANNI SUZZANI"
            ]
          },
          "metadata": {},
          "execution_count": 48
        }
      ]
    },
    {
      "cell_type": "markdown",
      "metadata": {
        "id": "djbC_d6Eap5p"
      },
      "source": [
        "17. visualizzare l'indirizzo e il numero di telefono degli uffici postali dei municipi 1, 2 e 3"
      ]
    },
    {
      "cell_type": "code",
      "metadata": {
        "colab": {
          "base_uri": "https://localhost:8080/",
          "height": 979
        },
        "id": "wb_A08v4arJ4",
        "outputId": "9c8312cf-304d-4953-f132-b94ed7221e3d"
      },
      "source": [
        "df[(df['MUNICIPIO'] == 1) | (df['MUNICIPIO'] == 2) | (df['MUNICIPIO'] == 3) ][['Indirizzo','Telefono', 'MUNICIPIO']]"
      ],
      "execution_count": null,
      "outputs": [
        {
          "output_type": "execute_result",
          "data": {
            "text/html": [
              "<div>\n",
              "<style scoped>\n",
              "    .dataframe tbody tr th:only-of-type {\n",
              "        vertical-align: middle;\n",
              "    }\n",
              "\n",
              "    .dataframe tbody tr th {\n",
              "        vertical-align: top;\n",
              "    }\n",
              "\n",
              "    .dataframe thead th {\n",
              "        text-align: right;\n",
              "    }\n",
              "</style>\n",
              "<table border=\"1\" class=\"dataframe\">\n",
              "  <thead>\n",
              "    <tr style=\"text-align: right;\">\n",
              "      <th></th>\n",
              "      <th>Indirizzo</th>\n",
              "      <th>Telefono</th>\n",
              "      <th>MUNICIPIO</th>\n",
              "    </tr>\n",
              "  </thead>\n",
              "  <tbody>\n",
              "    <tr>\n",
              "      <th>0</th>\n",
              "      <td>BASTIONI DI PORTA VOLTA 7</td>\n",
              "      <td>02-6572655</td>\n",
              "      <td>1</td>\n",
              "    </tr>\n",
              "    <tr>\n",
              "      <th>1</th>\n",
              "      <td>CORSO DI PORTA VIGENTINA 35</td>\n",
              "      <td>02-58320771</td>\n",
              "      <td>1</td>\n",
              "    </tr>\n",
              "    <tr>\n",
              "      <th>2</th>\n",
              "      <td>CORSO ITALI 16</td>\n",
              "      <td>02-804336</td>\n",
              "      <td>1</td>\n",
              "    </tr>\n",
              "    <tr>\n",
              "      <th>4</th>\n",
              "      <td>CORSO VENEZIA 42</td>\n",
              "      <td>02-76023056</td>\n",
              "      <td>1</td>\n",
              "    </tr>\n",
              "    <tr>\n",
              "      <th>9</th>\n",
              "      <td>VIA ADELCHI 2</td>\n",
              "      <td>02-2665192</td>\n",
              "      <td>3</td>\n",
              "    </tr>\n",
              "    <tr>\n",
              "      <th>10</th>\n",
              "      <td>VIA ALFREDO CAPPELLINI 17/19</td>\n",
              "      <td>02-6773311</td>\n",
              "      <td>2</td>\n",
              "    </tr>\n",
              "    <tr>\n",
              "      <th>13</th>\n",
              "      <td>VIA ARQUA' 14</td>\n",
              "      <td>02-26141687</td>\n",
              "      <td>2</td>\n",
              "    </tr>\n",
              "    <tr>\n",
              "      <th>16</th>\n",
              "      <td>VIA BRONZINO 7</td>\n",
              "      <td>02-29527423</td>\n",
              "      <td>3</td>\n",
              "    </tr>\n",
              "    <tr>\n",
              "      <th>21</th>\n",
              "      <td>VIA COMUNE ANTICO 1</td>\n",
              "      <td>02-67070525</td>\n",
              "      <td>2</td>\n",
              "    </tr>\n",
              "    <tr>\n",
              "      <th>22</th>\n",
              "      <td>VIA CORDUSIO 4</td>\n",
              "      <td>02-72482126</td>\n",
              "      <td>1</td>\n",
              "    </tr>\n",
              "    <tr>\n",
              "      <th>25</th>\n",
              "      <td>VIA DELL'ORSO 11</td>\n",
              "      <td>02-80277311</td>\n",
              "      <td>1</td>\n",
              "    </tr>\n",
              "    <tr>\n",
              "      <th>26</th>\n",
              "      <td>VIA DELLA MOSCOVA 30</td>\n",
              "      <td>NaN</td>\n",
              "      <td>1</td>\n",
              "    </tr>\n",
              "    <tr>\n",
              "      <th>27</th>\n",
              "      <td>VIA DURAZZO 5</td>\n",
              "      <td>02-21040511</td>\n",
              "      <td>3</td>\n",
              "    </tr>\n",
              "    <tr>\n",
              "      <th>30</th>\n",
              "      <td>VIA FESTA DEL PERDONO 10</td>\n",
              "      <td>02-58207833</td>\n",
              "      <td>1</td>\n",
              "    </tr>\n",
              "    <tr>\n",
              "      <th>38</th>\n",
              "      <td>VIA GIOSUE' CARDUCCI 7</td>\n",
              "      <td>02-85917111</td>\n",
              "      <td>1</td>\n",
              "    </tr>\n",
              "    <tr>\n",
              "      <th>40</th>\n",
              "      <td>VIA GIUSEPPE PECCHIO 1</td>\n",
              "      <td>NaN</td>\n",
              "      <td>3</td>\n",
              "    </tr>\n",
              "    <tr>\n",
              "      <th>46</th>\n",
              "      <td>VIA LUIGI VARANINI 26/28</td>\n",
              "      <td>02-28181611</td>\n",
              "      <td>2</td>\n",
              "    </tr>\n",
              "    <tr>\n",
              "      <th>49</th>\n",
              "      <td>VIA MAZZINI GIUSEPPE 15</td>\n",
              "      <td>02-86396911</td>\n",
              "      <td>1</td>\n",
              "    </tr>\n",
              "    <tr>\n",
              "      <th>51</th>\n",
              "      <td>VIA MONDOVI' 2</td>\n",
              "      <td>02-26300993</td>\n",
              "      <td>2</td>\n",
              "    </tr>\n",
              "    <tr>\n",
              "      <th>55</th>\n",
              "      <td>VIA ORTICA 19</td>\n",
              "      <td>02-70061332</td>\n",
              "      <td>3</td>\n",
              "    </tr>\n",
              "    <tr>\n",
              "      <th>59</th>\n",
              "      <td>VIA PINDARO 29</td>\n",
              "      <td>NaN</td>\n",
              "      <td>2</td>\n",
              "    </tr>\n",
              "    <tr>\n",
              "      <th>64</th>\n",
              "      <td>VIA ROSOLINO PILO 19/A</td>\n",
              "      <td>02-2046789</td>\n",
              "      <td>3</td>\n",
              "    </tr>\n",
              "    <tr>\n",
              "      <th>66</th>\n",
              "      <td>VIA SAMBUCO 15</td>\n",
              "      <td>02-89405932</td>\n",
              "      <td>1</td>\n",
              "    </tr>\n",
              "    <tr>\n",
              "      <th>67</th>\n",
              "      <td>VIA SAN MAMETE 16</td>\n",
              "      <td>02-2566786</td>\n",
              "      <td>2</td>\n",
              "    </tr>\n",
              "    <tr>\n",
              "      <th>68</th>\n",
              "      <td>VIA SAN SIMPLICIANO 5</td>\n",
              "      <td>02-86396811</td>\n",
              "      <td>1</td>\n",
              "    </tr>\n",
              "    <tr>\n",
              "      <th>69</th>\n",
              "      <td>VIA SANTA SOFIA 8</td>\n",
              "      <td>02-58318572</td>\n",
              "      <td>1</td>\n",
              "    </tr>\n",
              "    <tr>\n",
              "      <th>71</th>\n",
              "      <td>VIA SCIPIONE PIATTOLI 6</td>\n",
              "      <td>02-26112432</td>\n",
              "      <td>2</td>\n",
              "    </tr>\n",
              "    <tr>\n",
              "      <th>72</th>\n",
              "      <td>VIA VIGNA 6</td>\n",
              "      <td>02-86396711</td>\n",
              "      <td>1</td>\n",
              "    </tr>\n",
              "    <tr>\n",
              "      <th>73</th>\n",
              "      <td>VIALE ANDREA DORIA 48</td>\n",
              "      <td>02-2047169</td>\n",
              "      <td>3</td>\n",
              "    </tr>\n",
              "    <tr>\n",
              "      <th>75</th>\n",
              "      <td>VIALE EVARISTO STEFINI 12</td>\n",
              "      <td>02-67361911</td>\n",
              "      <td>2</td>\n",
              "    </tr>\n",
              "  </tbody>\n",
              "</table>\n",
              "</div>"
            ],
            "text/plain": [
              "                       Indirizzo     Telefono  MUNICIPIO\n",
              "0      BASTIONI DI PORTA VOLTA 7   02-6572655          1\n",
              "1    CORSO DI PORTA VIGENTINA 35  02-58320771          1\n",
              "2                 CORSO ITALI 16    02-804336          1\n",
              "4               CORSO VENEZIA 42  02-76023056          1\n",
              "9                  VIA ADELCHI 2   02-2665192          3\n",
              "10  VIA ALFREDO CAPPELLINI 17/19   02-6773311          2\n",
              "13                 VIA ARQUA' 14  02-26141687          2\n",
              "16                VIA BRONZINO 7  02-29527423          3\n",
              "21           VIA COMUNE ANTICO 1  02-67070525          2\n",
              "22                VIA CORDUSIO 4  02-72482126          1\n",
              "25              VIA DELL'ORSO 11  02-80277311          1\n",
              "26          VIA DELLA MOSCOVA 30          NaN          1\n",
              "27                 VIA DURAZZO 5  02-21040511          3\n",
              "30      VIA FESTA DEL PERDONO 10  02-58207833          1\n",
              "38        VIA GIOSUE' CARDUCCI 7  02-85917111          1\n",
              "40        VIA GIUSEPPE PECCHIO 1          NaN          3\n",
              "46      VIA LUIGI VARANINI 26/28  02-28181611          2\n",
              "49       VIA MAZZINI GIUSEPPE 15  02-86396911          1\n",
              "51                VIA MONDOVI' 2  02-26300993          2\n",
              "55                 VIA ORTICA 19  02-70061332          3\n",
              "59                VIA PINDARO 29          NaN          2\n",
              "64        VIA ROSOLINO PILO 19/A   02-2046789          3\n",
              "66                VIA SAMBUCO 15  02-89405932          1\n",
              "67             VIA SAN MAMETE 16   02-2566786          2\n",
              "68         VIA SAN SIMPLICIANO 5  02-86396811          1\n",
              "69             VIA SANTA SOFIA 8  02-58318572          1\n",
              "71       VIA SCIPIONE PIATTOLI 6  02-26112432          2\n",
              "72                   VIA VIGNA 6  02-86396711          1\n",
              "73         VIALE ANDREA DORIA 48   02-2047169          3\n",
              "75     VIALE EVARISTO STEFINI 12  02-67361911          2"
            ]
          },
          "metadata": {},
          "execution_count": 62
        }
      ]
    },
    {
      "cell_type": "markdown",
      "metadata": {
        "id": "erZI9PzOdytn"
      },
      "source": [
        "18. visualizzare gli uffici di cui non si conosce il numero di telefono o il fax"
      ]
    },
    {
      "cell_type": "code",
      "metadata": {
        "colab": {
          "base_uri": "https://localhost:8080/",
          "height": 204
        },
        "id": "LZgblb2MdmIx",
        "outputId": "70470cf6-0198-4815-c654-2eb92fafeb09"
      },
      "source": [
        "df[df['Telefono'].isnull() | df['Fax'].isnull()]"
      ],
      "execution_count": null,
      "outputs": [
        {
          "output_type": "execute_result",
          "data": {
            "text/html": [
              "<div>\n",
              "<style scoped>\n",
              "    .dataframe tbody tr th:only-of-type {\n",
              "        vertical-align: middle;\n",
              "    }\n",
              "\n",
              "    .dataframe tbody tr th {\n",
              "        vertical-align: top;\n",
              "    }\n",
              "\n",
              "    .dataframe thead th {\n",
              "        text-align: right;\n",
              "    }\n",
              "</style>\n",
              "<table border=\"1\" class=\"dataframe\">\n",
              "  <thead>\n",
              "    <tr style=\"text-align: right;\">\n",
              "      <th></th>\n",
              "      <th>Indirizzo</th>\n",
              "      <th>Telefono</th>\n",
              "      <th>Fax</th>\n",
              "      <th>CAP</th>\n",
              "      <th>MUNICIPIO</th>\n",
              "      <th>ID_NIL</th>\n",
              "      <th>NIL</th>\n",
              "      <th>LONG_X_4326</th>\n",
              "      <th>LAT_Y_4326</th>\n",
              "      <th>Location</th>\n",
              "    </tr>\n",
              "  </thead>\n",
              "  <tbody>\n",
              "    <tr>\n",
              "      <th>3</th>\n",
              "      <td>CORSO SEMPIONE 94</td>\n",
              "      <td>NaN</td>\n",
              "      <td>NaN</td>\n",
              "      <td>20154</td>\n",
              "      <td>8</td>\n",
              "      <td>69</td>\n",
              "      <td>SARPI</td>\n",
              "      <td>9.158508</td>\n",
              "      <td>45.486540</td>\n",
              "      <td>(45.48654000000005;9.15850800000004)</td>\n",
              "    </tr>\n",
              "    <tr>\n",
              "      <th>26</th>\n",
              "      <td>VIA DELLA MOSCOVA 30</td>\n",
              "      <td>NaN</td>\n",
              "      <td>NaN</td>\n",
              "      <td>20121</td>\n",
              "      <td>1</td>\n",
              "      <td>2</td>\n",
              "      <td>BRERA</td>\n",
              "      <td>9.189608</td>\n",
              "      <td>45.476856</td>\n",
              "      <td>(45.476856000000055;9.189607500000022)</td>\n",
              "    </tr>\n",
              "    <tr>\n",
              "      <th>31</th>\n",
              "      <td>VIA FILIPPO SASSETTI 27</td>\n",
              "      <td>NaN</td>\n",
              "      <td>NaN</td>\n",
              "      <td>20124</td>\n",
              "      <td>9</td>\n",
              "      <td>11</td>\n",
              "      <td>ISOLA</td>\n",
              "      <td>9.193140</td>\n",
              "      <td>45.488259</td>\n",
              "      <td>(45.48825900000003;9.193140000000028)</td>\n",
              "    </tr>\n",
              "    <tr>\n",
              "      <th>40</th>\n",
              "      <td>VIA GIUSEPPE PECCHIO 1</td>\n",
              "      <td>NaN</td>\n",
              "      <td>NaN</td>\n",
              "      <td>20131</td>\n",
              "      <td>3</td>\n",
              "      <td>21</td>\n",
              "      <td>BUENOS AIRES - PORTA VENEZIA - PORTA MONFORTE</td>\n",
              "      <td>9.215861</td>\n",
              "      <td>45.484731</td>\n",
              "      <td>(45.48473100000007;9.215860500000076)</td>\n",
              "    </tr>\n",
              "    <tr>\n",
              "      <th>59</th>\n",
              "      <td>VIA PINDARO 29</td>\n",
              "      <td>NaN</td>\n",
              "      <td>NaN</td>\n",
              "      <td>20128</td>\n",
              "      <td>2</td>\n",
              "      <td>16</td>\n",
              "      <td>GORLA - PRECOTTO</td>\n",
              "      <td>9.229959</td>\n",
              "      <td>45.517005</td>\n",
              "      <td>(45.51700500000004;9.229959000000065)</td>\n",
              "    </tr>\n",
              "  </tbody>\n",
              "</table>\n",
              "</div>"
            ],
            "text/plain": [
              "                  Indirizzo  ...                                Location\n",
              "3         CORSO SEMPIONE 94  ...    (45.48654000000005;9.15850800000004)\n",
              "26     VIA DELLA MOSCOVA 30  ...  (45.476856000000055;9.189607500000022)\n",
              "31  VIA FILIPPO SASSETTI 27  ...   (45.48825900000003;9.193140000000028)\n",
              "40   VIA GIUSEPPE PECCHIO 1  ...   (45.48473100000007;9.215860500000076)\n",
              "59           VIA PINDARO 29  ...   (45.51700500000004;9.229959000000065)\n",
              "\n",
              "[5 rows x 10 columns]"
            ]
          },
          "metadata": {},
          "execution_count": 72
        }
      ]
    },
    {
      "cell_type": "markdown",
      "metadata": {
        "id": "y3dD8YCafU6x"
      },
      "source": [
        "19. visualizzare il numero di uffici per ogni Nucleo di Identità Locale (NIL)"
      ]
    },
    {
      "cell_type": "code",
      "metadata": {
        "colab": {
          "base_uri": "https://localhost:8080/"
        },
        "id": "tgDTzxkrfWfw",
        "outputId": "083707f0-8ed8-4b22-a56b-db31751d525e"
      },
      "source": [
        "df.groupby('NIL') ['Indirizzo'].count()"
      ],
      "execution_count": null,
      "outputs": [
        {
          "output_type": "execute_result",
          "data": {
            "text/plain": [
              "NIL\n",
              "ADRIANO                                                        1\n",
              "AFFORI                                                         2\n",
              "BAGGIO - Q.RE DEGLI OLMI - Q.RE VALSESIA                       2\n",
              "BANDE NERE                                                     1\n",
              "BOVISASCA                                                      1\n",
              "BRERA                                                          4\n",
              "BRUZZANO                                                       1\n",
              "BUENOS AIRES - PORTA VENEZIA - PORTA MONFORTE                  4\n",
              "CIMIANO - ROTTOLE - Q.RE FELTRE                                1\n",
              "CITTA' STUDI                                                   1\n",
              "CORSICA                                                        1\n",
              "DE ANGELI - MONTE ROSA                                         1\n",
              "DERGANO                                                        1\n",
              "DUOMO                                                          7\n",
              "FARINI                                                         1\n",
              "FORZE ARMATE                                                   2\n",
              "GIAMBELLINO                                                    3\n",
              "GORLA - PRECOTTO                                               1\n",
              "GRATOSOGLIO - Q.RE MISSAGLIA - Q.RE TERRAZZE                   1\n",
              "GRECO - SEGNANO                                                1\n",
              "GUASTALLA                                                      1\n",
              "ISOLA                                                          3\n",
              "LAMBRATE - ORTICA                                              1\n",
              "LODI - CORVETTO                                                1\n",
              "LORETO - CASORETTO - NOLO                                      2\n",
              "MACIACHINI - MAGGIOLINA                                        2\n",
              "MONCUCCO - SAN CRISTOFORO                                      1\n",
              "MONLUE' - PONTE LAMBRO                                         1\n",
              "NIGUARDA - CA' GRANDA - PRATO CENTENARO - Q.RE FULVIO TESTI    2\n",
              "PADOVA - TURRO - CRESCENZAGO                                   2\n",
              "PAGANO                                                         1\n",
              "PORTA GARIBALDI - PORTA NUOVA                                  1\n",
              "PORTA GENOVA                                                   1\n",
              "PORTA MAGENTA                                                  1\n",
              "PORTA TICINESE - CONCA DEL NAVIGLIO                            1\n",
              "PORTA TICINESE - CONCHETTA                                     1\n",
              "PORTA VIGENTINA - PORTA LODOVICA                               1\n",
              "PTA ROMANA                                                     1\n",
              "Q.RE GALLARATESE - Q.RE SAN LEONARDO - LAMPUGNANO              2\n",
              "QT 8                                                           1\n",
              "QUARTO OGGIARO - VIALBA - MUSOCCO                              2\n",
              "QUINTO ROMANO                                                  1\n",
              "ROGOREDO - SANTA GIULIA                                        1\n",
              "RONCHETTO SUL NAVIGLIO - Q.RE LODOVICO IL MORO                 1\n",
              "SAN SIRO                                                       1\n",
              "SARPI                                                          2\n",
              "SCALO ROMANA                                                   1\n",
              "STADERA - CHIESA ROSSA - Q.RE TORRETTA - CONCA FALLATA         1\n",
              "STAZIONE CENTRALE - PONTE SEVESO                               1\n",
              "TIBALDI                                                        2\n",
              "UMBRIA - MOLISE - CALVAIRATE                                   1\n",
              "VIGENTINO - Q.RE FATIMA                                        1\n",
              "VILLAPIZZONE - CAGNOLA - BOLDINASCO                            1\n",
              "XXII MARZO                                                     2\n",
              "Name: Indirizzo, dtype: int64"
            ]
          },
          "metadata": {},
          "execution_count": 76
        }
      ]
    },
    {
      "cell_type": "markdown",
      "metadata": {
        "id": "LlCcWeEyglmp"
      },
      "source": [
        "20. visualizzare il numero di uffici per ogni Nucleo di Identità Locale (NIL). Ordinare a partire dal NIL che ha più uffici in giù"
      ]
    },
    {
      "cell_type": "code",
      "metadata": {
        "colab": {
          "base_uri": "https://localhost:8080/"
        },
        "id": "o2I4upZOgnZp",
        "outputId": "bc34a6cb-eeca-4c1e-cd0e-cf623fa95437"
      },
      "source": [
        "df.groupby('NIL')['Indirizzo'].count().sort_values(ascending = False)"
      ],
      "execution_count": null,
      "outputs": [
        {
          "output_type": "execute_result",
          "data": {
            "text/plain": [
              "NIL\n",
              "DUOMO                                                          7\n",
              "BRERA                                                          4\n",
              "BUENOS AIRES - PORTA VENEZIA - PORTA MONFORTE                  4\n",
              "ISOLA                                                          3\n",
              "GIAMBELLINO                                                    3\n",
              "QUARTO OGGIARO - VIALBA - MUSOCCO                              2\n",
              "LORETO - CASORETTO - NOLO                                      2\n",
              "MACIACHINI - MAGGIOLINA                                        2\n",
              "NIGUARDA - CA' GRANDA - PRATO CENTENARO - Q.RE FULVIO TESTI    2\n",
              "PADOVA - TURRO - CRESCENZAGO                                   2\n",
              "FORZE ARMATE                                                   2\n",
              "XXII MARZO                                                     2\n",
              "Q.RE GALLARATESE - Q.RE SAN LEONARDO - LAMPUGNANO              2\n",
              "AFFORI                                                         2\n",
              "BAGGIO - Q.RE DEGLI OLMI - Q.RE VALSESIA                       2\n",
              "TIBALDI                                                        2\n",
              "SARPI                                                          2\n",
              "GORLA - PRECOTTO                                               1\n",
              "GUASTALLA                                                      1\n",
              "GRECO - SEGNANO                                                1\n",
              "BANDE NERE                                                     1\n",
              "GRATOSOGLIO - Q.RE MISSAGLIA - Q.RE TERRAZZE                   1\n",
              "CITTA' STUDI                                                   1\n",
              "CIMIANO - ROTTOLE - Q.RE FELTRE                                1\n",
              "FARINI                                                         1\n",
              "BRUZZANO                                                       1\n",
              "DERGANO                                                        1\n",
              "DE ANGELI - MONTE ROSA                                         1\n",
              "LAMBRATE - ORTICA                                              1\n",
              "CORSICA                                                        1\n",
              "BOVISASCA                                                      1\n",
              "MONCUCCO - SAN CRISTOFORO                                      1\n",
              "LODI - CORVETTO                                                1\n",
              "VILLAPIZZONE - CAGNOLA - BOLDINASCO                            1\n",
              "VIGENTINO - Q.RE FATIMA                                        1\n",
              "UMBRIA - MOLISE - CALVAIRATE                                   1\n",
              "STAZIONE CENTRALE - PONTE SEVESO                               1\n",
              "STADERA - CHIESA ROSSA - Q.RE TORRETTA - CONCA FALLATA         1\n",
              "SCALO ROMANA                                                   1\n",
              "SAN SIRO                                                       1\n",
              "RONCHETTO SUL NAVIGLIO - Q.RE LODOVICO IL MORO                 1\n",
              "ROGOREDO - SANTA GIULIA                                        1\n",
              "QUINTO ROMANO                                                  1\n",
              "QT 8                                                           1\n",
              "PTA ROMANA                                                     1\n",
              "PORTA VIGENTINA - PORTA LODOVICA                               1\n",
              "PORTA TICINESE - CONCHETTA                                     1\n",
              "PORTA TICINESE - CONCA DEL NAVIGLIO                            1\n",
              "PORTA MAGENTA                                                  1\n",
              "PORTA GENOVA                                                   1\n",
              "PORTA GARIBALDI - PORTA NUOVA                                  1\n",
              "PAGANO                                                         1\n",
              "MONLUE' - PONTE LAMBRO                                         1\n",
              "ADRIANO                                                        1\n",
              "Name: Indirizzo, dtype: int64"
            ]
          },
          "metadata": {},
          "execution_count": 83
        }
      ]
    },
    {
      "cell_type": "markdown",
      "metadata": {
        "id": "WBIaq-cxiZYp"
      },
      "source": [
        "21. visualizzare i municipi che hanno più di 15 uffici postali"
      ]
    },
    {
      "cell_type": "code",
      "metadata": {
        "colab": {
          "base_uri": "https://localhost:8080/"
        },
        "id": "KGQ56w89ibQn",
        "outputId": "b913fa40-1cc8-4dbe-df7e-ec0d44c4e4fc"
      },
      "source": [
        "df1 = df.groupby('MUNICIPIO').count()\n",
        "df1.loc[df1['Indirizzo'] >= 10]['Indirizzo']"
      ],
      "execution_count": null,
      "outputs": [
        {
          "output_type": "execute_result",
          "data": {
            "text/plain": [
              "MUNICIPIO\n",
              "1    14\n",
              "9    13\n",
              "Name: Indirizzo, dtype: int64"
            ]
          },
          "metadata": {},
          "execution_count": 89
        }
      ]
    },
    {
      "cell_type": "markdown",
      "metadata": {
        "id": "hfcgKkSqjekw"
      },
      "source": [
        "22. visualizzare il municipio che ha più uffici postali"
      ]
    },
    {
      "cell_type": "code",
      "metadata": {
        "colab": {
          "base_uri": "https://localhost:8080/",
          "height": 111
        },
        "id": "wT7jp9e5jgpI",
        "outputId": "d44f83a8-e597-4419-ee2a-acce78c70ccc"
      },
      "source": [
        "df1 = df.groupby('MUNICIPIO').count()\n",
        "z = df1['Indirizzo'].max()\n",
        "df1.loc[df1['Indirizzo'] == z, ['Indirizzo']]"
      ],
      "execution_count": null,
      "outputs": [
        {
          "output_type": "execute_result",
          "data": {
            "text/html": [
              "<div>\n",
              "<style scoped>\n",
              "    .dataframe tbody tr th:only-of-type {\n",
              "        vertical-align: middle;\n",
              "    }\n",
              "\n",
              "    .dataframe tbody tr th {\n",
              "        vertical-align: top;\n",
              "    }\n",
              "\n",
              "    .dataframe thead th {\n",
              "        text-align: right;\n",
              "    }\n",
              "</style>\n",
              "<table border=\"1\" class=\"dataframe\">\n",
              "  <thead>\n",
              "    <tr style=\"text-align: right;\">\n",
              "      <th></th>\n",
              "      <th>Indirizzo</th>\n",
              "    </tr>\n",
              "    <tr>\n",
              "      <th>MUNICIPIO</th>\n",
              "      <th></th>\n",
              "    </tr>\n",
              "  </thead>\n",
              "  <tbody>\n",
              "    <tr>\n",
              "      <th>1</th>\n",
              "      <td>14</td>\n",
              "    </tr>\n",
              "  </tbody>\n",
              "</table>\n",
              "</div>"
            ],
            "text/plain": [
              "           Indirizzo\n",
              "MUNICIPIO           \n",
              "1                 14"
            ]
          },
          "metadata": {},
          "execution_count": 90
        }
      ]
    },
    {
      "cell_type": "markdown",
      "metadata": {
        "id": "q-pVSVbbnEup"
      },
      "source": [
        "23. visualizzare il municipio che ha meno uffici postali"
      ]
    },
    {
      "cell_type": "code",
      "metadata": {
        "colab": {
          "base_uri": "https://localhost:8080/",
          "height": 173
        },
        "id": "IIDM17_dnGua",
        "outputId": "81a72569-52ee-4940-f305-145d107147e7"
      },
      "source": [
        "df1 = df.groupby('MUNICIPIO').count()\n",
        "z = df1['Indirizzo'].min()\n",
        "df1.loc[df1['Indirizzo'] == z, ['Indirizzo']]"
      ],
      "execution_count": null,
      "outputs": [
        {
          "output_type": "execute_result",
          "data": {
            "text/html": [
              "<div>\n",
              "<style scoped>\n",
              "    .dataframe tbody tr th:only-of-type {\n",
              "        vertical-align: middle;\n",
              "    }\n",
              "\n",
              "    .dataframe tbody tr th {\n",
              "        vertical-align: top;\n",
              "    }\n",
              "\n",
              "    .dataframe thead th {\n",
              "        text-align: right;\n",
              "    }\n",
              "</style>\n",
              "<table border=\"1\" class=\"dataframe\">\n",
              "  <thead>\n",
              "    <tr style=\"text-align: right;\">\n",
              "      <th></th>\n",
              "      <th>Indirizzo</th>\n",
              "    </tr>\n",
              "    <tr>\n",
              "      <th>MUNICIPIO</th>\n",
              "      <th></th>\n",
              "    </tr>\n",
              "  </thead>\n",
              "  <tbody>\n",
              "    <tr>\n",
              "      <th>3</th>\n",
              "      <td>7</td>\n",
              "    </tr>\n",
              "    <tr>\n",
              "      <th>4</th>\n",
              "      <td>7</td>\n",
              "    </tr>\n",
              "    <tr>\n",
              "      <th>5</th>\n",
              "      <td>7</td>\n",
              "    </tr>\n",
              "  </tbody>\n",
              "</table>\n",
              "</div>"
            ],
            "text/plain": [
              "           Indirizzo\n",
              "MUNICIPIO           \n",
              "3                  7\n",
              "4                  7\n",
              "5                  7"
            ]
          },
          "metadata": {},
          "execution_count": 95
        }
      ]
    },
    {
      "cell_type": "markdown",
      "metadata": {
        "id": "dC29iuVGnJBh"
      },
      "source": [
        "24. visualizzare il numero medio di uffici postali in ogni municipio"
      ]
    },
    {
      "cell_type": "code",
      "metadata": {
        "colab": {
          "base_uri": "https://localhost:8080/"
        },
        "id": "0uZ_1fSonKeo",
        "outputId": "fb40b73c-5610-487e-d63f-f61ee84d75fa"
      },
      "source": [
        "df1 = df.groupby('MUNICIPIO').count().mean()['Indirizzo']\n",
        "df1"
      ],
      "execution_count": null,
      "outputs": [
        {
          "output_type": "execute_result",
          "data": {
            "text/plain": [
              "9.11111111111111"
            ]
          },
          "metadata": {},
          "execution_count": 98
        }
      ]
    },
    {
      "cell_type": "markdown",
      "metadata": {
        "id": "5PJM2aTwowuJ"
      },
      "source": [
        "25. visualizzare gli uffici postali che hanno un numero di uffici postali superiore alla media\n"
      ]
    },
    {
      "cell_type": "code",
      "metadata": {
        "colab": {
          "base_uri": "https://localhost:8080/"
        },
        "id": "nXYyQCVwoyGB",
        "outputId": "9fccb7fa-5cde-4ed9-e235-d739bb93ee49"
      },
      "source": [
        "df1 = df.groupby('MUNICIPIO').count()\n",
        "media = df.groupby('MUNICIPIO').count().mean()['Indirizzo']\n",
        "df1.loc[df1['Indirizzo'] >= media] ['Indirizzo']"
      ],
      "execution_count": null,
      "outputs": [
        {
          "output_type": "execute_result",
          "data": {
            "text/plain": [
              "MUNICIPIO\n",
              "1    14\n",
              "9    13\n",
              "Name: Indirizzo, dtype: int64"
            ]
          },
          "metadata": {},
          "execution_count": 102
        }
      ]
    },
    {
      "cell_type": "markdown",
      "metadata": {
        "id": "VkLajUwKqym6"
      },
      "source": [
        "26. eliminare tutti i record relativi al NIL di Niguarda"
      ]
    },
    {
      "cell_type": "code",
      "metadata": {
        "colab": {
          "base_uri": "https://localhost:8080/",
          "height": 49
        },
        "id": "vlFSM1Wcq0Bf",
        "outputId": "da9bb233-e2b9-47a6-9a9f-92f2cd330354"
      },
      "source": [
        "df.drop(df.index[df['NIL'].str.contains('NIGUARDA')], inplace=True)\n",
        "df.loc[df['NIL'].str.contains('NIGUARDA')]"
      ],
      "execution_count": null,
      "outputs": [
        {
          "output_type": "execute_result",
          "data": {
            "text/html": [
              "<div>\n",
              "<style scoped>\n",
              "    .dataframe tbody tr th:only-of-type {\n",
              "        vertical-align: middle;\n",
              "    }\n",
              "\n",
              "    .dataframe tbody tr th {\n",
              "        vertical-align: top;\n",
              "    }\n",
              "\n",
              "    .dataframe thead th {\n",
              "        text-align: right;\n",
              "    }\n",
              "</style>\n",
              "<table border=\"1\" class=\"dataframe\">\n",
              "  <thead>\n",
              "    <tr style=\"text-align: right;\">\n",
              "      <th></th>\n",
              "      <th>Indirizzo</th>\n",
              "      <th>Telefono</th>\n",
              "      <th>Fax</th>\n",
              "      <th>CAP</th>\n",
              "      <th>MUNICIPIO</th>\n",
              "      <th>ID_NIL</th>\n",
              "      <th>NIL</th>\n",
              "      <th>LONG_X_4326</th>\n",
              "      <th>LAT_Y_4326</th>\n",
              "      <th>Location</th>\n",
              "    </tr>\n",
              "  </thead>\n",
              "  <tbody>\n",
              "  </tbody>\n",
              "</table>\n",
              "</div>"
            ],
            "text/plain": [
              "Empty DataFrame\n",
              "Columns: [Indirizzo, Telefono, Fax, CAP, MUNICIPIO, ID_NIL, NIL, LONG_X_4326, LAT_Y_4326, Location]\n",
              "Index: []"
            ]
          },
          "metadata": {},
          "execution_count": 124
        }
      ]
    },
    {
      "cell_type": "markdown",
      "metadata": {
        "id": "tc1QSCCRvB5Z"
      },
      "source": [
        "27. eliminare le ultime tre colonne"
      ]
    },
    {
      "cell_type": "code",
      "metadata": {
        "colab": {
          "base_uri": "https://localhost:8080/",
          "height": 419
        },
        "id": "qWwT5sCRvDNp",
        "outputId": "9351fe57-3422-473d-a5bf-388a39e55572"
      },
      "source": [
        "df = df.iloc[:,:-3]\n",
        "df"
      ],
      "execution_count": null,
      "outputs": [
        {
          "output_type": "execute_result",
          "data": {
            "text/html": [
              "<div>\n",
              "<style scoped>\n",
              "    .dataframe tbody tr th:only-of-type {\n",
              "        vertical-align: middle;\n",
              "    }\n",
              "\n",
              "    .dataframe tbody tr th {\n",
              "        vertical-align: top;\n",
              "    }\n",
              "\n",
              "    .dataframe thead th {\n",
              "        text-align: right;\n",
              "    }\n",
              "</style>\n",
              "<table border=\"1\" class=\"dataframe\">\n",
              "  <thead>\n",
              "    <tr style=\"text-align: right;\">\n",
              "      <th></th>\n",
              "      <th>Indirizzo</th>\n",
              "      <th>Telefono</th>\n",
              "      <th>Fax</th>\n",
              "      <th>CAP</th>\n",
              "      <th>MUNICIPIO</th>\n",
              "      <th>ID_NIL</th>\n",
              "      <th>NIL</th>\n",
              "    </tr>\n",
              "  </thead>\n",
              "  <tbody>\n",
              "    <tr>\n",
              "      <th>0</th>\n",
              "      <td>BASTIONI DI PORTA VOLTA 7</td>\n",
              "      <td>02-6572655</td>\n",
              "      <td>02-29002004</td>\n",
              "      <td>20121</td>\n",
              "      <td>1</td>\n",
              "      <td>2</td>\n",
              "      <td>BRERA</td>\n",
              "    </tr>\n",
              "    <tr>\n",
              "      <th>1</th>\n",
              "      <td>CORSO DI PORTA VIGENTINA 35</td>\n",
              "      <td>02-58320771</td>\n",
              "      <td>02-58319779</td>\n",
              "      <td>20122</td>\n",
              "      <td>1</td>\n",
              "      <td>5</td>\n",
              "      <td>PORTA VIGENTINA - PORTA LODOVICA</td>\n",
              "    </tr>\n",
              "    <tr>\n",
              "      <th>2</th>\n",
              "      <td>CORSO ITALI 16</td>\n",
              "      <td>02-804336</td>\n",
              "      <td>02-86454450</td>\n",
              "      <td>20122</td>\n",
              "      <td>1</td>\n",
              "      <td>1</td>\n",
              "      <td>DUOMO</td>\n",
              "    </tr>\n",
              "    <tr>\n",
              "      <th>3</th>\n",
              "      <td>CORSO SEMPIONE 94</td>\n",
              "      <td>NaN</td>\n",
              "      <td>NaN</td>\n",
              "      <td>20154</td>\n",
              "      <td>8</td>\n",
              "      <td>69</td>\n",
              "      <td>SARPI</td>\n",
              "    </tr>\n",
              "    <tr>\n",
              "      <th>4</th>\n",
              "      <td>CORSO VENEZIA 42</td>\n",
              "      <td>02-76023056</td>\n",
              "      <td>02-7837251</td>\n",
              "      <td>20121</td>\n",
              "      <td>1</td>\n",
              "      <td>4</td>\n",
              "      <td>GUASTALLA</td>\n",
              "    </tr>\n",
              "    <tr>\n",
              "      <th>...</th>\n",
              "      <td>...</td>\n",
              "      <td>...</td>\n",
              "      <td>...</td>\n",
              "      <td>...</td>\n",
              "      <td>...</td>\n",
              "      <td>...</td>\n",
              "      <td>...</td>\n",
              "    </tr>\n",
              "    <tr>\n",
              "      <th>77</th>\n",
              "      <td>VIALE GORIZIA 6</td>\n",
              "      <td>02-8358241</td>\n",
              "      <td>02-8373830</td>\n",
              "      <td>20144</td>\n",
              "      <td>6</td>\n",
              "      <td>44</td>\n",
              "      <td>PORTA TICINESE - CONCHETTA</td>\n",
              "    </tr>\n",
              "    <tr>\n",
              "      <th>78</th>\n",
              "      <td>VIALE MONTE CENERI SNC</td>\n",
              "      <td>02-32671911</td>\n",
              "      <td>02-32671947</td>\n",
              "      <td>20155</td>\n",
              "      <td>8</td>\n",
              "      <td>71</td>\n",
              "      <td>VILLAPIZZONE - CAGNOLA - BOLDINASCO</td>\n",
              "    </tr>\n",
              "    <tr>\n",
              "      <th>79</th>\n",
              "      <td>VIALE SABOTINO 21/A</td>\n",
              "      <td>02-58457911</td>\n",
              "      <td>02-58457947</td>\n",
              "      <td>20135</td>\n",
              "      <td>5</td>\n",
              "      <td>27</td>\n",
              "      <td>PTA ROMANA</td>\n",
              "    </tr>\n",
              "    <tr>\n",
              "      <th>80</th>\n",
              "      <td>VIALE SAN GIMIGNANO 10</td>\n",
              "      <td>02-41411311</td>\n",
              "      <td>02-41411347</td>\n",
              "      <td>20146</td>\n",
              "      <td>6</td>\n",
              "      <td>52</td>\n",
              "      <td>BANDE NERE</td>\n",
              "    </tr>\n",
              "    <tr>\n",
              "      <th>81</th>\n",
              "      <td>VIALE ZARA 131</td>\n",
              "      <td>02-69911111</td>\n",
              "      <td>02-69911147</td>\n",
              "      <td>20159</td>\n",
              "      <td>9</td>\n",
              "      <td>12</td>\n",
              "      <td>MACIACHINI - MAGGIOLINA</td>\n",
              "    </tr>\n",
              "  </tbody>\n",
              "</table>\n",
              "<p>82 rows × 7 columns</p>\n",
              "</div>"
            ],
            "text/plain": [
              "                      Indirizzo  ...                                  NIL\n",
              "0     BASTIONI DI PORTA VOLTA 7  ...                                BRERA\n",
              "1   CORSO DI PORTA VIGENTINA 35  ...     PORTA VIGENTINA - PORTA LODOVICA\n",
              "2                CORSO ITALI 16  ...                                DUOMO\n",
              "3             CORSO SEMPIONE 94  ...                                SARPI\n",
              "4              CORSO VENEZIA 42  ...                            GUASTALLA\n",
              "..                          ...  ...                                  ...\n",
              "77              VIALE GORIZIA 6  ...           PORTA TICINESE - CONCHETTA\n",
              "78       VIALE MONTE CENERI SNC  ...  VILLAPIZZONE - CAGNOLA - BOLDINASCO\n",
              "79          VIALE SABOTINO 21/A  ...                           PTA ROMANA\n",
              "80       VIALE SAN GIMIGNANO 10  ...                           BANDE NERE\n",
              "81               VIALE ZARA 131  ...              MACIACHINI - MAGGIOLINA\n",
              "\n",
              "[82 rows x 7 columns]"
            ]
          },
          "metadata": {},
          "execution_count": 153
        }
      ]
    },
    {
      "cell_type": "markdown",
      "metadata": {
        "id": "ZSxRevIyx26a"
      },
      "source": [
        "28. eliminare i record di cui non si conosce il numero di telefono o il fax"
      ]
    },
    {
      "cell_type": "code",
      "metadata": {
        "id": "pWCbjMQRx4rP"
      },
      "source": [
        "df = df.drop(df.index[df['Telefono'].isnull() | df['Fax'].isnull()])\n",
        "#df[df['Telefono'].isnull() | df['Fax'].isnull()] #per verificare se è giusto"
      ],
      "execution_count": null,
      "outputs": []
    },
    {
      "cell_type": "markdown",
      "metadata": {
        "id": "oEhcyMioJErf"
      },
      "source": [
        "29. modificare il numero di telefono dell'ufficio di viale Zara in 02-69922222"
      ]
    },
    {
      "cell_type": "code",
      "metadata": {
        "id": "kvqmHAMlJJ9O"
      },
      "source": [
        "df['Telefono'] = df['Telefono'].replace([df.loc[df['Indirizzo'].str.contains('VIALE ZARA')]], '02-69922222')\n",
        "#df.loc[df['Indirizzo'].str.contains('VIALE ZARA')] #per verificare se è giusto\n"
      ],
      "execution_count": null,
      "outputs": []
    },
    {
      "cell_type": "markdown",
      "metadata": {
        "id": "U0jykTmWNJ9s"
      },
      "source": [
        "30. sostituire il trattino presente nei numeri di telefono con il carattere /"
      ]
    },
    {
      "cell_type": "code",
      "metadata": {
        "id": "-QhkzFPaNMkx",
        "colab": {
          "base_uri": "https://localhost:8080/",
          "height": 796
        },
        "outputId": "f6ab527f-0334-43dd-d021-8e4198228420"
      },
      "source": [
        "df['Telefono'] = df['Telefono'].str.replace('-','/')\n",
        "df"
      ],
      "execution_count": null,
      "outputs": [
        {
          "output_type": "execute_result",
          "data": {
            "text/html": [
              "<div>\n",
              "<style scoped>\n",
              "    .dataframe tbody tr th:only-of-type {\n",
              "        vertical-align: middle;\n",
              "    }\n",
              "\n",
              "    .dataframe tbody tr th {\n",
              "        vertical-align: top;\n",
              "    }\n",
              "\n",
              "    .dataframe thead th {\n",
              "        text-align: right;\n",
              "    }\n",
              "</style>\n",
              "<table border=\"1\" class=\"dataframe\">\n",
              "  <thead>\n",
              "    <tr style=\"text-align: right;\">\n",
              "      <th></th>\n",
              "      <th>Indirizzo</th>\n",
              "      <th>Telefono</th>\n",
              "      <th>Fax</th>\n",
              "      <th>CAP</th>\n",
              "      <th>MUNICIPIO</th>\n",
              "      <th>ID_NIL</th>\n",
              "      <th>NIL</th>\n",
              "      <th>LONG_X_4326</th>\n",
              "      <th>LAT_Y_4326</th>\n",
              "      <th>Location</th>\n",
              "    </tr>\n",
              "  </thead>\n",
              "  <tbody>\n",
              "    <tr>\n",
              "      <th>0</th>\n",
              "      <td>BASTIONI DI PORTA VOLTA 7</td>\n",
              "      <td>02/6572655</td>\n",
              "      <td>02-29002004</td>\n",
              "      <td>20121</td>\n",
              "      <td>1</td>\n",
              "      <td>2</td>\n",
              "      <td>BRERA</td>\n",
              "      <td>9.182151</td>\n",
              "      <td>45.479601</td>\n",
              "      <td>(45.47960100000006;9.182151000000033)</td>\n",
              "    </tr>\n",
              "    <tr>\n",
              "      <th>1</th>\n",
              "      <td>CORSO DI PORTA VIGENTINA 35</td>\n",
              "      <td>02/58320771</td>\n",
              "      <td>02-58319779</td>\n",
              "      <td>20122</td>\n",
              "      <td>1</td>\n",
              "      <td>5</td>\n",
              "      <td>PORTA VIGENTINA - PORTA LODOVICA</td>\n",
              "      <td>9.196520</td>\n",
              "      <td>45.452538</td>\n",
              "      <td>(45.45253800000006;9.196519500000022)</td>\n",
              "    </tr>\n",
              "    <tr>\n",
              "      <th>2</th>\n",
              "      <td>CORSO ITALI 16</td>\n",
              "      <td>02/804336</td>\n",
              "      <td>02-86454450</td>\n",
              "      <td>20122</td>\n",
              "      <td>1</td>\n",
              "      <td>1</td>\n",
              "      <td>DUOMO</td>\n",
              "      <td>9.187470</td>\n",
              "      <td>45.457893</td>\n",
              "      <td>(45.45789300000007;9.187470000000076)</td>\n",
              "    </tr>\n",
              "    <tr>\n",
              "      <th>4</th>\n",
              "      <td>CORSO VENEZIA 42</td>\n",
              "      <td>02/76023056</td>\n",
              "      <td>02-7837251</td>\n",
              "      <td>20121</td>\n",
              "      <td>1</td>\n",
              "      <td>4</td>\n",
              "      <td>GUASTALLA</td>\n",
              "      <td>9.202703</td>\n",
              "      <td>45.471861</td>\n",
              "      <td>(45.47186100000005;9.202702500000044)</td>\n",
              "    </tr>\n",
              "    <tr>\n",
              "      <th>5</th>\n",
              "      <td>LARGO GIOVANNI BATTISTA SCALABRINI 5</td>\n",
              "      <td>02/47714011</td>\n",
              "      <td>02-47714047</td>\n",
              "      <td>20146</td>\n",
              "      <td>6</td>\n",
              "      <td>49</td>\n",
              "      <td>GIAMBELLINO</td>\n",
              "      <td>9.141183</td>\n",
              "      <td>45.450396</td>\n",
              "      <td>(45.45039600000007;9.14118300000007)</td>\n",
              "    </tr>\n",
              "    <tr>\n",
              "      <th>...</th>\n",
              "      <td>...</td>\n",
              "      <td>...</td>\n",
              "      <td>...</td>\n",
              "      <td>...</td>\n",
              "      <td>...</td>\n",
              "      <td>...</td>\n",
              "      <td>...</td>\n",
              "      <td>...</td>\n",
              "      <td>...</td>\n",
              "      <td>...</td>\n",
              "    </tr>\n",
              "    <tr>\n",
              "      <th>77</th>\n",
              "      <td>VIALE GORIZIA 6</td>\n",
              "      <td>02/8358241</td>\n",
              "      <td>02-8373830</td>\n",
              "      <td>20144</td>\n",
              "      <td>6</td>\n",
              "      <td>44</td>\n",
              "      <td>PORTA TICINESE - CONCHETTA</td>\n",
              "      <td>9.173156</td>\n",
              "      <td>45.454518</td>\n",
              "      <td>(45.454518000000064;9.173155500000064)</td>\n",
              "    </tr>\n",
              "    <tr>\n",
              "      <th>78</th>\n",
              "      <td>VIALE MONTE CENERI SNC</td>\n",
              "      <td>02/32671911</td>\n",
              "      <td>02-32671947</td>\n",
              "      <td>20155</td>\n",
              "      <td>8</td>\n",
              "      <td>71</td>\n",
              "      <td>VILLAPIZZONE - CAGNOLA - BOLDINASCO</td>\n",
              "      <td>9.153592</td>\n",
              "      <td>45.491568</td>\n",
              "      <td>(45.49156751800007;9.153591732000052)</td>\n",
              "    </tr>\n",
              "    <tr>\n",
              "      <th>79</th>\n",
              "      <td>VIALE SABOTINO 21/A</td>\n",
              "      <td>02/58457911</td>\n",
              "      <td>02-58457947</td>\n",
              "      <td>20135</td>\n",
              "      <td>5</td>\n",
              "      <td>27</td>\n",
              "      <td>PTA ROMANA</td>\n",
              "      <td>9.200174</td>\n",
              "      <td>45.451017</td>\n",
              "      <td>(45.451017000000036;9.200173500000062)</td>\n",
              "    </tr>\n",
              "    <tr>\n",
              "      <th>80</th>\n",
              "      <td>VIALE SAN GIMIGNANO 10</td>\n",
              "      <td>02/41411311</td>\n",
              "      <td>02-41411347</td>\n",
              "      <td>20146</td>\n",
              "      <td>6</td>\n",
              "      <td>52</td>\n",
              "      <td>BANDE NERE</td>\n",
              "      <td>9.136526</td>\n",
              "      <td>45.455868</td>\n",
              "      <td>(45.455868000000066;9.136525500000062)</td>\n",
              "    </tr>\n",
              "    <tr>\n",
              "      <th>81</th>\n",
              "      <td>VIALE ZARA 131</td>\n",
              "      <td>02/69922222</td>\n",
              "      <td>02-69911147</td>\n",
              "      <td>20159</td>\n",
              "      <td>9</td>\n",
              "      <td>12</td>\n",
              "      <td>MACIACHINI - MAGGIOLINA</td>\n",
              "      <td>9.196686</td>\n",
              "      <td>45.500193</td>\n",
              "      <td>(45.50019300000008;9.196686000000057)</td>\n",
              "    </tr>\n",
              "  </tbody>\n",
              "</table>\n",
              "<p>77 rows × 10 columns</p>\n",
              "</div>"
            ],
            "text/plain": [
              "                               Indirizzo  ...                                Location\n",
              "0              BASTIONI DI PORTA VOLTA 7  ...   (45.47960100000006;9.182151000000033)\n",
              "1            CORSO DI PORTA VIGENTINA 35  ...   (45.45253800000006;9.196519500000022)\n",
              "2                         CORSO ITALI 16  ...   (45.45789300000007;9.187470000000076)\n",
              "4                       CORSO VENEZIA 42  ...   (45.47186100000005;9.202702500000044)\n",
              "5   LARGO GIOVANNI BATTISTA SCALABRINI 5  ...    (45.45039600000007;9.14118300000007)\n",
              "..                                   ...  ...                                     ...\n",
              "77                       VIALE GORIZIA 6  ...  (45.454518000000064;9.173155500000064)\n",
              "78                VIALE MONTE CENERI SNC  ...   (45.49156751800007;9.153591732000052)\n",
              "79                   VIALE SABOTINO 21/A  ...  (45.451017000000036;9.200173500000062)\n",
              "80                VIALE SAN GIMIGNANO 10  ...  (45.455868000000066;9.136525500000062)\n",
              "81                        VIALE ZARA 131  ...   (45.50019300000008;9.196686000000057)\n",
              "\n",
              "[77 rows x 10 columns]"
            ]
          },
          "metadata": {},
          "execution_count": 16
        }
      ]
    }
  ]
}