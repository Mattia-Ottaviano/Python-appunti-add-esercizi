{
  "nbformat": 4,
  "nbformat_minor": 0,
  "metadata": {
    "colab": {
      "name": "Esercizio6.ipynb",
      "provenance": [],
      "collapsed_sections": []
    },
    "kernelspec": {
      "name": "python3",
      "display_name": "Python 3"
    },
    "language_info": {
      "name": "python"
    }
  },
  "cells": [
    {
      "cell_type": "markdown",
      "metadata": {
        "id": "VCGzA0Xf--PD"
      },
      "source": [
        "1. scrivere una funzione chiamata sommaTutti che permetta di sommare un numero arbitrario di valori interi passati come parametri. Scrivere poi un programma che permetta all'utente di inserire un numero variabile di interi e visualizzi la somma."
      ]
    },
    {
      "cell_type": "code",
      "metadata": {
        "id": "bkYph1iS-6wK",
        "colab": {
          "base_uri": "https://localhost:8080/"
        },
        "outputId": "b03dd99f-b1de-4e2e-cc51-97b5fba6a398"
      },
      "source": [
        "def sommaTutti(valore):\n",
        "  numsommati =0\n",
        "  for i in valore:\n",
        "    numsommati += i\n",
        "  return numsommati\n",
        "\n",
        "numeri = [int(elementi) for elementi in input(\"inserire numeri da sommare: \").split()]\n",
        "print(sommaTutti(numeri))\n",
        "  \n",
        "\n",
        " \n",
        "\n"
      ],
      "execution_count": 20,
      "outputs": [
        {
          "output_type": "stream",
          "name": "stdout",
          "text": [
            "inserire numeri da sommare: 5 2\n",
            "7\n"
          ]
        }
      ]
    },
    {
      "cell_type": "markdown",
      "metadata": {
        "id": "-5fJo5Vn_J30"
      },
      "source": [
        "\n",
        "2. scrivere una lambda function che calcoli la lunghezza della circonferenza di un cerchio dato il raggio. Utilizzarla poi in un programma che chieda all'utente il valore del raggio e visualizzi la lunghezza della circonferenza"
      ]
    },
    {
      "cell_type": "code",
      "metadata": {
        "id": "Diw6QiOl_N5i",
        "colab": {
          "base_uri": "https://localhost:8080/"
        },
        "outputId": "65d73864-4dfa-4f66-c03c-1c5075996229"
      },
      "source": [
        "l = lambda r: r * 3.14 * 2 \n",
        "x = int(input('raggio: '))\n",
        "l(x)\n",
        "\n"
      ],
      "execution_count": null,
      "outputs": [
        {
          "name": "stdout",
          "output_type": "stream",
          "text": [
            "raggio: 43\n"
          ]
        },
        {
          "output_type": "execute_result",
          "data": {
            "text/plain": [
              "270.04"
            ]
          },
          "metadata": {},
          "execution_count": 6
        }
      ]
    },
    {
      "cell_type": "markdown",
      "metadata": {
        "id": "QHsrPpbE_3Ib"
      },
      "source": [
        "3. scrivere una funzione che calcoli il quadrato di un numero. Scrivere poi una funzione che calcoli la radice quadrata della somma di due numeri. Scrivere poi una lambda function che date le lunghezze di due cateti di un triangolo calcoli l'ipotenusa utilizzando le funzioni definite precedentemente. Utilizzare quest'ultima funzione in un programma che permetta all'utente di inserire le lunghezze dei cateti e di avere in risposta la lunghezza dell'ipotenusa di un triangolo rettangolo\n"
      ]
    },
    {
      "cell_type": "code",
      "metadata": {
        "id": "KJRCoiG8_5LT",
        "colab": {
          "base_uri": "https://localhost:8080/"
        },
        "outputId": "75619349-5e72-428b-e5da-889ec6ccb3ec"
      },
      "source": [
        "def quad(x):\n",
        "  return x*x\n",
        "def rad(x):\n",
        "  return pow(x,1/2)\n",
        "ipo = lambda c1,c2: quad(c1) + quad(c2)\n",
        "c1 = int(input(\"inserisci il 1 cateto: \"))\n",
        "c2 = int(input(\"inserisci il 2 cateto: \"))\n",
        "ipo(c1,c2)\n",
        "\n",
        "                                \n"
      ],
      "execution_count": 21,
      "outputs": [
        {
          "name": "stdout",
          "output_type": "stream",
          "text": [
            "inserisci il 1 cateto: 6\n",
            "inserisci il 2 cateto: 3\n"
          ]
        },
        {
          "output_type": "execute_result",
          "data": {
            "text/plain": [
              "45"
            ]
          },
          "metadata": {},
          "execution_count": 21
        }
      ]
    },
    {
      "cell_type": "markdown",
      "metadata": {
        "id": "JdDkZT_PAxc7"
      },
      "source": [
        "4. Scrivere le funzioni quadrato, cubo e radiceQuadrata che calcolano il quadrato, il cubo e la radice quadrata di un numero intero. Scrivere poi un programma che, utilizzando un ciclo for, richiami le tre funzioni su un valore intero inserito dall'utente e visualizzi i tre risultati."
      ]
    },
    {
      "cell_type": "code",
      "metadata": {
        "id": "LY1D_6osAzmL",
        "colab": {
          "base_uri": "https://localhost:8080/"
        },
        "outputId": "1cfb478b-f70c-4058-be34-82a5fbef6eb1"
      },
      "source": [
        "\n",
        "def quadrato(num):\n",
        "  return pow(num,2)\n",
        "\n",
        "def cubo(num):\n",
        "  return pow(num,3)\n",
        "\n",
        "def radiceQuadrata(num):\n",
        "  return pow(num,0.5)\n",
        "\n",
        "numero = int(input('Inserire valore: '))\n",
        "\n",
        "print(quadrato(numero))\n",
        "print(cubo(numero))\n",
        "print(radiceQuadrata(numero))"
      ],
      "execution_count": 22,
      "outputs": [
        {
          "output_type": "stream",
          "name": "stdout",
          "text": [
            "Inserire valore: 4\n",
            "16\n",
            "64\n",
            "2.0\n"
          ]
        }
      ]
    },
    {
      "cell_type": "markdown",
      "metadata": {
        "id": "nUleBBOhz1eO"
      },
      "source": [
        "5. Utilizzando una lambda function, scrivere un programma che data una lista di numeri interi inserita dall'utente carichi in altre due liste i quadrati e i cubi dei numeri presenti nella lista inserita. Al termine, visualizzare le due liste."
      ]
    },
    {
      "cell_type": "code",
      "metadata": {
        "colab": {
          "base_uri": "https://localhost:8080/"
        },
        "id": "FkYiLZ2jz1_R",
        "outputId": "4f256c4e-fc18-498d-c21f-17a89f59dd66"
      },
      "source": [
        "lista1 = list(input(\"Inserire la lista1: \").split()) \n",
        "lista1 = list([int(n) for n in lista1])\n",
        "\n",
        "NewList1 = list(map(lambda x: quadrato(x),lista1)) \n",
        "NewList2 = list(map(lambda y: cubo(y),lista1))  \n",
        "\n",
        "print(NewList1,NewList2)"
      ],
      "execution_count": 23,
      "outputs": [
        {
          "output_type": "stream",
          "name": "stdout",
          "text": [
            "Inserire la lista1: 3 4 2\n",
            "[9, 16, 4] [27, 64, 8]\n"
          ]
        }
      ]
    },
    {
      "cell_type": "markdown",
      "metadata": {
        "id": "oiL2vjZT54VP"
      },
      "source": [
        "6. Utilizzando una lambda function, scrivere un programma che data una lista di numeri interi inserita dall'utente carichi in altre due liste i numeri pari e i numeri dispari presenti nella lista inserita. Al termine, visualizzare le due liste."
      ]
    },
    {
      "cell_type": "code",
      "metadata": {
        "colab": {
          "base_uri": "https://localhost:8080/"
        },
        "id": "fBC9jN9c56TL",
        "outputId": "e23ee9ee-7381-4e8c-aafd-c39a8dab428c"
      },
      "source": [
        "lista1 = list(input(\"Inserire la lista: \").split()) \n",
        "lista1 = list([int(n) for n in lista1])\n",
        "\n",
        "listapari = list(filter(lambda x: x%2 == 0,lista1)) \n",
        "listadispari = list(filter(lambda y: y%2 != 0,lista1))\n",
        "\n",
        "print(listapari,listadispari)"
      ],
      "execution_count": null,
      "outputs": [
        {
          "output_type": "stream",
          "name": "stdout",
          "text": [
            "Inserire la lista1: 1 2 3 4 5 6 \n",
            "[2, 4, 6] [1, 3, 5]\n"
          ]
        }
      ]
    },
    {
      "cell_type": "markdown",
      "metadata": {
        "id": "jUvxl6kz6ASp"
      },
      "source": [
        "7. Cercare su internet che cosa si intende per fattoriale di un numero. Scrivere poi una funzione ricorsiva che calcoli il fattoriale di un numero. Utilizzare poi la funzione creata per scrivere un programma che permetta all'utente di inserire un numero intero e che visualizzi il fattoriale di quel numero.\n"
      ]
    },
    {
      "cell_type": "code",
      "metadata": {
        "colab": {
          "base_uri": "https://localhost:8080/"
        },
        "id": "cQyQR7If6CrE",
        "outputId": "c2bf604c-c9ec-427a-b04e-bb6e95f41307"
      },
      "source": [
        "\n",
        "def fattoriale(n):\n",
        "  if n==0:\n",
        "    return 1\n",
        "  else:\n",
        "    return n*fattoriale(n-1)\n",
        "\n",
        "n = int(input('Inserire il numero: ')) \n",
        "\n",
        "print('Il fattoriale è', fattoriale(n))"
      ],
      "execution_count": 24,
      "outputs": [
        {
          "output_type": "stream",
          "name": "stdout",
          "text": [
            "Inserire il numero: 4\n",
            "Il fattoriale è 24\n"
          ]
        }
      ]
    },
    {
      "cell_type": "markdown",
      "metadata": {
        "id": "UVPg2M1N6VGs"
      },
      "source": [
        "8. Svolgere l'esercizio 7, senza ricorsione"
      ]
    },
    {
      "cell_type": "code",
      "metadata": {
        "colab": {
          "base_uri": "https://localhost:8080/"
        },
        "id": "a5bCcZ1U6jgi",
        "outputId": "30022640-5282-4fbf-b2ac-1223f5e49ce4"
      },
      "source": [
        "num = int(input('Inserire il numero: '))\n",
        "x = 1\n",
        "\n",
        "for i in range(1,num+1):\n",
        "  x*=i\n",
        "\n",
        "print(x)"
      ],
      "execution_count": 17,
      "outputs": [
        {
          "output_type": "stream",
          "name": "stdout",
          "text": [
            "Inserire il numero: 4\n",
            "24\n"
          ]
        }
      ]
    },
    {
      "cell_type": "markdown",
      "metadata": {
        "id": "dXy34Lvr6sq1"
      },
      "source": [
        "9. Cercare su internet che cosa sono i numeri di Fibonacci. Scrivere poi una funzione ricorsiva che calcoli l'n-esimo numero della sequenza di Fibonacci. Utilizzare poi la funzione creata per scrivere un programma che permetta all'utente di inserire un numero intero e che visualizzi il numero della sequenza di Fibonacci corrispondente."
      ]
    },
    {
      "cell_type": "code",
      "metadata": {
        "id": "nb6wvpbg6uSg"
      },
      "source": [
        "\n",
        "def fibonacci(n):\n",
        "    if n == 0:\n",
        "        return 0;\n",
        "    if n == 1:\n",
        "        return 1;\n",
        "    else:\n",
        "        return fib(n-1) + fib(n-2)\n",
        "\n",
        "num = int(input(\"Inserisci un numero: \"))\n",
        "\n",
        "print(fibonacci(num))"
      ],
      "execution_count": null,
      "outputs": []
    }
  ]
}