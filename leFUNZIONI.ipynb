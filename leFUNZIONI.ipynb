{
  "nbformat": 4,
  "nbformat_minor": 0,
  "metadata": {
    "colab": {
      "name": "leFUNZIONI.ipynb",
      "provenance": [],
      "collapsed_sections": []
    },
    "kernelspec": {
      "name": "python3",
      "display_name": "Python 3"
    },
    "language_info": {
      "name": "python"
    }
  },
  "cells": [
    {
      "cell_type": "code",
      "metadata": {
        "colab": {
          "base_uri": "https://localhost:8080/"
        },
        "id": "5TGRmvhhtcaK",
        "outputId": "3b0ffa65-8a79-489b-898b-8ebe05f82aa9"
      },
      "source": [
        "def times(x,y):\n",
        "    z = x*y\n",
        "    return z\n",
        "num1 = int(input(\"Inserire qui il numero\"))\n",
        "num2 = int(input(\"Inserire qui il numero\"))\n",
        "times(num1,num2)\n",
        "\n"
      ],
      "execution_count": null,
      "outputs": [
        {
          "name": "stdout",
          "output_type": "stream",
          "text": [
            "Inserire qui il numero4\n",
            "Inserire qui il numero5\n"
          ]
        },
        {
          "output_type": "execute_result",
          "data": {
            "text/plain": [
              "20"
            ]
          },
          "metadata": {},
          "execution_count": 16
        }
      ]
    },
    {
      "cell_type": "code",
      "metadata": {
        "colab": {
          "base_uri": "https://localhost:8080/"
        },
        "id": "tZsV3OMexBXb",
        "outputId": "a7081d37-e206-40f0-80ed-42afdb96e804"
      },
      "source": [
        " def times(x,y):\n",
        "    z = x*y\n",
        "    return z\n",
        "Ris = times(4,5)\n",
        "print(Ris)"
      ],
      "execution_count": null,
      "outputs": [
        {
          "output_type": "stream",
          "name": "stdout",
          "text": [
            "20\n"
          ]
        }
      ]
    },
    {
      "cell_type": "code",
      "metadata": {
        "colab": {
          "base_uri": "https://localhost:8080/"
        },
        "id": "8PJI89dxxsCl",
        "outputId": "a3f92c62-e5ac-4793-ecea-7049aecaf286"
      },
      "source": [
        "def times(x,y):\n",
        "    '''This multiplies the two input arguments'''\n",
        "    return x*y\n",
        "c = times(4,5)\n",
        "print(c)"
      ],
      "execution_count": null,
      "outputs": [
        {
          "output_type": "stream",
          "name": "stdout",
          "text": [
            "20\n"
          ]
        }
      ]
    },
    {
      "cell_type": "code",
      "metadata": {
        "colab": {
          "base_uri": "https://localhost:8080/"
        },
        "id": "O24cTVDtyDll",
        "outputId": "26c4bbcb-3f90-4b5c-a707-076eaf7bf0a4"
      },
      "source": [
        "help(times)"
      ],
      "execution_count": null,
      "outputs": [
        {
          "output_type": "stream",
          "name": "stdout",
          "text": [
            "Help on function times in module __main__:\n",
            "\n",
            "times(x, y)\n",
            "    This multiplies the two input arguments\n",
            "\n"
          ]
        }
      ]
    },
    {
      "cell_type": "code",
      "metadata": {
        "colab": {
          "base_uri": "https://localhost:8080/"
        },
        "id": "Kj1RYpgQzP8G",
        "outputId": "44111bd8-36cc-485f-e8b1-9cea3996d35e"
      },
      "source": [
        "eglist = [10,50,30,12,6,8,100]\n",
        "\n",
        "def egfunc(eglist):\n",
        "\n",
        "  highest = max(eglist)\n",
        "  lowest = min(eglist)\n",
        "  first = eglist[0]\n",
        "  last = eglist[-1]\n",
        "  return highest,lowest,first,last \n",
        "\n",
        "egfunc(eglist)\n",
        "\n",
        "a,b,c,d = egfunc(eglist)\n",
        "print(' a =',a,' b =',b,' c =',c,' d =',d)"
      ],
      "execution_count": null,
      "outputs": [
        {
          "output_type": "stream",
          "name": "stdout",
          "text": [
            " a = 100  b = 6  c = 10  d = 100\n"
          ]
        }
      ]
    },
    {
      "cell_type": "code",
      "metadata": {
        "colab": {
          "base_uri": "https://localhost:8080/"
        },
        "id": "zWCJC4fg2yMx",
        "outputId": "f70efa6e-373e-44a4-a988-f9d9d27d53b3"
      },
      "source": [
        "def implicitadd(x,y=3,z=0):\n",
        "    print(\"%d + %d + %d = %d\"%(x,y,z,x+y+z))\n",
        "    return x+y+z \n",
        "implicitadd(4)\n",
        "implicitadd(4,4)\n",
        "implicitadd(4,5,6)\n",
        "implicitadd(4,z=7)\n",
        "implicitadd(2,y=1,z=9)\n",
        "implicitadd(x=1)"
      ],
      "execution_count": null,
      "outputs": [
        {
          "output_type": "stream",
          "name": "stdout",
          "text": [
            "4 + 3 + 0 = 7\n",
            "4 + 4 + 0 = 8\n",
            "4 + 5 + 6 = 15\n",
            "4 + 3 + 7 = 14\n",
            "2 + 1 + 9 = 12\n",
            "1 + 3 + 0 = 4\n"
          ]
        },
        {
          "output_type": "execute_result",
          "data": {
            "text/plain": [
              "4"
            ]
          },
          "metadata": {},
          "execution_count": 29
        }
      ]
    },
    {
      "cell_type": "code",
      "metadata": {
        "colab": {
          "base_uri": "https://localhost:8080/"
        },
        "id": "pOXBrfmN4ZIA",
        "outputId": "d9efbd60-53d4-46f4-eb48-23936cb56b51"
      },
      "source": [
        "def add_n(first,*args):\n",
        "    \"return the sum of one or more numbers\"\n",
        "    reslist = [first] + [value for value in args]\n",
        "    print(reslist)\n",
        "    return sum(reslist)\n",
        "add_n(1,2,3,4,5)"
      ],
      "execution_count": null,
      "outputs": [
        {
          "output_type": "stream",
          "name": "stdout",
          "text": [
            "[1, 2, 3, 4, 5]\n"
          ]
        },
        {
          "output_type": "execute_result",
          "data": {
            "text/plain": [
              "15"
            ]
          },
          "metadata": {},
          "execution_count": 30
        }
      ]
    },
    {
      "cell_type": "code",
      "metadata": {
        "colab": {
          "base_uri": "https://localhost:8080/"
        },
        "id": "dwpWdTht7Z1B",
        "outputId": "324531a6-6892-4030-dd27-40aaa8d6c2b6"
      },
      "source": [
        "z = lambda x: x * x\n",
        "z(8)"
      ],
      "execution_count": null,
      "outputs": [
        {
          "output_type": "execute_result",
          "data": {
            "text/plain": [
              "64"
            ]
          },
          "metadata": {},
          "execution_count": 31
        }
      ]
    }
  ]
}