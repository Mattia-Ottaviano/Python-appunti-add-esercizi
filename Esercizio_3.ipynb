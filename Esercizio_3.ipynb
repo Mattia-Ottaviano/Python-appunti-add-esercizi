{
  "nbformat": 4,
  "nbformat_minor": 0,
  "metadata": {
    "colab": {
      "name": "Esercizio 3",
      "provenance": []
    },
    "kernelspec": {
      "name": "python3",
      "display_name": "Python 3"
    },
    "language_info": {
      "name": "python"
    }
  },
  "cells": [
    {
      "cell_type": "code",
      "metadata": {
        "colab": {
          "base_uri": "https://localhost:8080/"
        },
        "id": "UvXQviqixzC7",
        "outputId": "fdd35149-0401-4aa2-c8ae-8783f983a5c1"
      },
      "source": [
        "capoluoghiRegione = {'Abruzzo': 'LAquila', 'Basilicata': 'Potenza', 'Calabria': 'Catanzaro', 'Campania': 'Napoli', 'Emilia-Romagna': 'Bologna', 'Friuli-Venezia Giulia': 'Trieste', 'Lazio': 'Roma', 'Liguria': 'Genova',\n",
        "                     'Lombardia': 'Milano', 'Marche': 'Ancona', 'Molise': 'Campobasso', 'Piemonte': '\tTorino', 'Puglia': 'Bari', 'Sardegna': 'Cagliari', 'Sicilia': 'Palermo', 'Toscana': 'Firenze', 'Trentino-Alto Adige': 'Trento',\n",
        "                     'Umbria': 'Perugia', 'Valle d Aosta': 'Aosta', 'Veneto': 'Venezia'}\n",
        "print(capoluoghiRegione)\n"
      ],
      "execution_count": 10,
      "outputs": [
        {
          "output_type": "stream",
          "name": "stdout",
          "text": [
            "{'Abruzzo': 'LAquila', 'Basilicata': 'Potenza', 'Calabria': 'Catanzaro', 'Campania': 'Napoli', 'Emilia-Romagna': 'Bologna', 'Friuli-Venezia Giulia': 'Trieste', 'Lazio': 'Roma', 'Liguria': 'Genova', 'Lombardia': 'Milano', 'Marche': 'Ancona', 'Molise': 'Campobasso', 'Piemonte': '\\tTorino', 'Puglia': 'Bari', 'Sardegna': 'Cagliari', 'Sicilia': 'Palermo', 'Toscana': 'Firenze', 'Trentino-Alto Adige': 'Trento', 'Umbria': 'Perugia', 'Valle d Aosta': 'Aosta', 'Veneto': 'Venezia'}\n"
          ]
        }
      ]
    },
    {
      "cell_type": "markdown",
      "metadata": {
        "id": "3uBaInww0WeF"
      },
      "source": [
        "2. Scrivere un programma che visualizzi tutti i nomi delle regioni presenti in capoluoghiRegione"
      ]
    },
    {
      "cell_type": "code",
      "metadata": {
        "colab": {
          "base_uri": "https://localhost:8080/"
        },
        "id": "-phKAEs_0euM",
        "outputId": "12422b22-7561-4ecf-b9cc-fa469be21afe"
      },
      "source": [
        "print(capoluoghiRegione.keys())"
      ],
      "execution_count": 11,
      "outputs": [
        {
          "output_type": "stream",
          "name": "stdout",
          "text": [
            "dict_keys(['Abruzzo', 'Basilicata', 'Calabria', 'Campania', 'Emilia-Romagna', 'Friuli-Venezia Giulia', 'Lazio', 'Liguria', 'Lombardia', 'Marche', 'Molise', 'Piemonte', 'Puglia', 'Sardegna', 'Sicilia', 'Toscana', 'Trentino-Alto Adige', 'Umbria', 'Valle d Aosta', 'Veneto'])\n"
          ]
        }
      ]
    },
    {
      "cell_type": "markdown",
      "metadata": {
        "id": "c5ZfRefu2KGt"
      },
      "source": [
        "3. Scrivere un programma che visualizzi tutti i nomi dei capoluoghi di regione presenti in\n",
        "capoluoghiRegione"
      ]
    },
    {
      "cell_type": "code",
      "metadata": {
        "colab": {
          "base_uri": "https://localhost:8080/"
        },
        "id": "a_9Fjv-a2M2d",
        "outputId": "1149fb8d-fb6e-4df7-b107-deb20f716909"
      },
      "source": [
        "print(capoluoghiRegione.values())"
      ],
      "execution_count": 12,
      "outputs": [
        {
          "output_type": "stream",
          "name": "stdout",
          "text": [
            "dict_values(['LAquila', 'Potenza', 'Catanzaro', 'Napoli', 'Bologna', 'Trieste', 'Roma', 'Genova', 'Milano', 'Ancona', 'Campobasso', '\\tTorino', 'Bari', 'Cagliari', 'Palermo', 'Firenze', 'Trento', 'Perugia', 'Aosta', 'Venezia'])\n"
          ]
        }
      ]
    },
    {
      "cell_type": "markdown",
      "metadata": {
        "id": "Jyq70u_a3b5B"
      },
      "source": [
        "4. Scrivere un programma che acquisisca dall’utente il nome di una regione e fornisca il nome del suo\n",
        "capoluogo."
      ]
    },
    {
      "cell_type": "code",
      "metadata": {
        "colab": {
          "base_uri": "https://localhost:8080/"
        },
        "id": "zAq5nUsh3eR4",
        "outputId": "532a660b-c2af-4b76-bb20-10063b458ab8"
      },
      "source": [
        "a = input('')\n",
        "print(capoluoghiRegione[a])"
      ],
      "execution_count": 13,
      "outputs": [
        {
          "output_type": "stream",
          "name": "stdout",
          "text": [
            "Lombardia\n",
            "Milano\n"
          ]
        }
      ]
    },
    {
      "cell_type": "markdown",
      "metadata": {
        "id": "d9gb2PLE4DGp"
      },
      "source": [
        "5. Scrivere un programma che acquisisca dall’utente il nome di un capoluogo e fornisca il nome della\n",
        "regione a cui appartiene."
      ]
    },
    {
      "cell_type": "code",
      "metadata": {
        "id": "3FsFN7bS4Gux"
      },
      "source": [
        "capoluoghi = [capoluoghi for capoluoghi in capoluoghiRegione.values()\n",
        "regioni = [regioni for regioni in capoluoghiRegione.keys()]\n",
        "\n",
        "input = str(input('inserire '))\n",
        "res = regioni[capoluoghi.index(input_)]\n",
        "\n",
        "print('Regione: ', res)\n"
      ],
      "execution_count": null,
      "outputs": []
    },
    {
      "cell_type": "markdown",
      "metadata": {
        "id": "LDIeHq14DuhC"
      },
      "source": [
        "6. Scrivere un programma che visualizzi tutte le regioni con i rispettivi capoluoghi"
      ]
    },
    {
      "cell_type": "code",
      "metadata": {
        "colab": {
          "base_uri": "https://localhost:8080/"
        },
        "id": "9tzCOV_CDu-6",
        "outputId": "d0682fc1-ed4a-472e-b68d-587f5bc3ae0c"
      },
      "source": [
        "key_list = list(capoluoghiRegione.keys())\n",
        "value_list = list(capoluoghiRegione.values())\n",
        "\n",
        "for i in range(len(capoluoghiRegione)):\n",
        "  print(key_list[i], value_list[i])"
      ],
      "execution_count": 27,
      "outputs": [
        {
          "output_type": "stream",
          "name": "stdout",
          "text": [
            "Abruzzo LAquila\n",
            "Basilicata Potenza\n",
            "Calabria Catanzaro\n",
            "Campania Napoli\n",
            "Emilia-Romagna Bologna\n",
            "Friuli-Venezia Giulia Trieste\n",
            "Lazio Roma\n",
            "Liguria Genova\n",
            "Lombardia Milano\n",
            "Marche Ancona\n",
            "Molise Campobasso\n",
            "Piemonte \tTorino\n",
            "Puglia Bari\n",
            "Sardegna Cagliari\n",
            "Sicilia Palermo\n",
            "Toscana Firenze\n",
            "Trentino-Alto Adige Trento\n",
            "Umbria Perugia\n",
            "Valle d Aosta Aosta\n",
            "Veneto Venezia\n"
          ]
        }
      ]
    },
    {
      "cell_type": "markdown",
      "metadata": {
        "id": "7ZmAcl6WHaDo"
      },
      "source": [
        "7. Scrivere un programma che visualizzi tutte le regioni con i rispettivi capoluoghi. Ordinare le regioni\n",
        "in ordine alfabetico"
      ]
    },
    {
      "cell_type": "code",
      "metadata": {
        "colab": {
          "base_uri": "https://localhost:8080/"
        },
        "id": "m-cOgSNJHeZ2",
        "outputId": "143469db-b6fc-49f5-e7ae-372cb3c714ac"
      },
      "source": [
        "key_list = list(capoluoghiRegione.keys())\n",
        "value_list = list(capoluoghiRegione.values())\n",
        "sortedkey_list = sorted(key_list)\n",
        "\n",
        "for i in range(len(capoluoghiRegione)):\n",
        "  print(sortedkey_list[i], value_list[i])"
      ],
      "execution_count": 22,
      "outputs": [
        {
          "output_type": "stream",
          "name": "stdout",
          "text": [
            "Abruzzo LAquila\n",
            "Basilicata Potenza\n",
            "Calabria Catanzaro\n",
            "Campania Napoli\n",
            "Emilia-Romagna Bologna\n",
            "Friuli-Venezia Giulia Trieste\n",
            "Lazio Roma\n",
            "Liguria Genova\n",
            "Lombardia Milano\n",
            "Marche Ancona\n",
            "Molise Campobasso\n",
            "Piemonte \tTorino\n",
            "Puglia Bari\n",
            "Sardegna Cagliari\n",
            "Sicilia Palermo\n",
            "Toscana Firenze\n",
            "Trentino-Alto Adige Trento\n",
            "Umbria Perugia\n",
            "Valle d Aosta Aosta\n",
            "Veneto Venezia\n"
          ]
        }
      ]
    },
    {
      "cell_type": "markdown",
      "metadata": {
        "id": "HK7nBhdUIRqZ"
      },
      "source": [
        "8. Scrivere un programma che visualizzi tutte le regioni con i rispettivi capoluoghi. Ordinare i\n",
        "capoluoghi in ordine alfabetico"
      ]
    },
    {
      "cell_type": "code",
      "metadata": {
        "colab": {
          "base_uri": "https://localhost:8080/"
        },
        "id": "RM3h1Qg_ITcG",
        "outputId": "644abe6b-5bc7-4d2c-f594-5dd2f61fae14"
      },
      "source": [
        "sortedValue_list = sorted(value_list)\n",
        "for i in range(len(capoluoghiRegione)):\n",
        "  print(sortedValue_list[i], value_list[i])\n"
      ],
      "execution_count": 20,
      "outputs": [
        {
          "output_type": "stream",
          "name": "stdout",
          "text": [
            "\tTorino LAquila\n",
            "Ancona Potenza\n",
            "Aosta Catanzaro\n",
            "Bari Napoli\n",
            "Bologna Bologna\n",
            "Cagliari Trieste\n",
            "Campobasso Roma\n",
            "Catanzaro Genova\n",
            "Firenze Milano\n",
            "Genova Ancona\n",
            "LAquila Campobasso\n",
            "Milano \tTorino\n",
            "Napoli Bari\n",
            "Palermo Cagliari\n",
            "Perugia Palermo\n",
            "Potenza Firenze\n",
            "Roma Trento\n",
            "Trento Perugia\n",
            "Trieste Aosta\n",
            "Venezia Venezia\n"
          ]
        }
      ]
    },
    {
      "cell_type": "markdown",
      "metadata": {
        "id": "O_Ry4KjhJrER"
      },
      "source": [
        "9. Scrivere un programma che carichi in una lista i nomi delle regioni e in un’altra lista i nomi dei\n",
        "rispettivi capoluoghi. Scrivere poi l’istruzione che permette di costruire il dizionario a partire dalle\n",
        "due liste."
      ]
    },
    {
      "cell_type": "code",
      "metadata": {
        "colab": {
          "base_uri": "https://localhost:8080/"
        },
        "id": "QmIu4vFSJurL",
        "outputId": "28c124e9-80dd-45d5-9d69-71fb9bed5e1b"
      },
      "source": [
        "key_list = list(capoluoghiRegione.keys())\n",
        "value_list = list(capoluoghiRegione.values())\n",
        "[ (key_list,value_list) for key_list,value_list in zip(key_list,value_list)]"
      ],
      "execution_count": 21,
      "outputs": [
        {
          "output_type": "execute_result",
          "data": {
            "text/plain": [
              "[('Abruzzo', 'LAquila'),\n",
              " ('Basilicata', 'Potenza'),\n",
              " ('Calabria', 'Catanzaro'),\n",
              " ('Campania', 'Napoli'),\n",
              " ('Emilia-Romagna', 'Bologna'),\n",
              " ('Friuli-Venezia Giulia', 'Trieste'),\n",
              " ('Lazio', 'Roma'),\n",
              " ('Liguria', 'Genova'),\n",
              " ('Lombardia', 'Milano'),\n",
              " ('Marche', 'Ancona'),\n",
              " ('Molise', 'Campobasso'),\n",
              " ('Piemonte', '\\tTorino'),\n",
              " ('Puglia', 'Bari'),\n",
              " ('Sardegna', 'Cagliari'),\n",
              " ('Sicilia', 'Palermo'),\n",
              " ('Toscana', 'Firenze'),\n",
              " ('Trentino-Alto Adige', 'Trento'),\n",
              " ('Umbria', 'Perugia'),\n",
              " ('Valle d Aosta', 'Aosta'),\n",
              " ('Veneto', 'Venezia')]"
            ]
          },
          "metadata": {},
          "execution_count": 21
        }
      ]
    }
  ]
}